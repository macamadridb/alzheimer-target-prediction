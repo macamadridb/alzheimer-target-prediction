{
 "cells": [
  {
   "cell_type": "markdown",
   "id": "f156b7df",
   "metadata": {},
   "source": [
    "# **0.3 MTGO Deep Learning**"
   ]
  },
  {
   "cell_type": "code",
   "execution_count": 15,
   "id": "f76ce1fb",
   "metadata": {},
   "outputs": [],
   "source": [
    "# Importamos librerías \n",
    "import pandas as pd\n",
    "import numpy as np\n",
    "import os\n",
    "import networkx as nx\n"
   ]
  },
  {
   "cell_type": "code",
   "execution_count": 16,
   "id": "5b8e43e6",
   "metadata": {},
   "outputs": [],
   "source": [
    "# Cargar datos \n",
    "data_dir = os.path.join(\"..\",\"data\",\"processed\",\"raw_cleaned\")"
   ]
  },
  {
   "cell_type": "code",
   "execution_count": 24,
   "id": "467e68de",
   "metadata": {},
   "outputs": [
    {
     "name": "stdout",
     "output_type": "stream",
     "text": [
      "Nodos: 5390, Aristas: 430206\n",
      "\n"
     ]
    }
   ],
   "source": [
    "# Preparar red PPI\n",
    "ppi = pd.read_csv(os.path.join(data_dir, \"ppi_clean.csv\"))\n",
    "G = nx.from_pandas_edgelist(ppi,source='Prot_A', target='Prot_B')\n",
    "print(f\"Nodos: {G.number_of_nodes()}, Aristas: {G.number_of_edges()}\\n\")\n"
   ]
  },
  {
   "cell_type": "code",
   "execution_count": 25,
   "id": "4ddf987f",
   "metadata": {},
   "outputs": [
    {
     "name": "stdout",
     "output_type": "stream",
     "text": [
      "Dimensiones de la matriz GO: (5161, 6928)\n",
      "\n"
     ]
    }
   ],
   "source": [
    "# Cargar matriz GO (función biológica)\n",
    "GO = pd.read_csv(os.path.join(data_dir, \"dataset_completo.csv\"), index_col=0) # proteinas como índice\n",
    "print(f\"Dimensiones de la matriz GO: {GO.shape}\\n\")"
   ]
  },
  {
   "cell_type": "code",
   "execution_count": 26,
   "id": "be8dc3fa",
   "metadata": {},
   "outputs": [
    {
     "name": "stdout",
     "output_type": "stream",
     "text": [
      "Proteínas con anotación DEG: 158\n",
      "\n"
     ]
    }
   ],
   "source": [
    "# Cargar DEG (UP/DOWN)\n",
    "topo = pd.read_csv(os.path.join(data_dir, \"topo_clean.csv\"))\n",
    "deg_dict = topo.set_index(\"Node_id\")[\"DEG\"].to_dict() # diccionario de DEG 'Up' y 'Down'\n",
    "print(f\"Proteínas con anotación DEG: {len(deg_dict)}\\n\")"
   ]
  },
  {
   "cell_type": "code",
   "execution_count": 47,
   "id": "531f8678",
   "metadata": {},
   "outputs": [
    {
     "name": "stdout",
     "output_type": "stream",
     "text": [
      "Se generaron 73 módulos topológicos.\n",
      "\n"
     ]
    }
   ],
   "source": [
    "# Crear partición aleatoria\n",
    "import random\n",
    "import math\n",
    "N = len(G.nodes())\n",
    "H = int(math.sqrt(N)) # Número de iteraciones para la convergencia\n",
    "#H = 500\n",
    "\n",
    "nodes = list(G.nodes())\n",
    "random.shuffle(nodes)\n",
    "partition = [set(nodes[i::H]) for i in range(H)]\n",
    "print(f\"Se generaron {len(partition)} módulos topológicos.\\n\")\n",
    "\n",
    "# aquí cada set es un módulo topológico inicial c_h ∈ C."
   ]
  },
  {
   "cell_type": "code",
   "execution_count": 46,
   "id": "d93fea0d",
   "metadata": {},
   "outputs": [
    {
     "name": "stdout",
     "output_type": "stream",
     "text": [
      "01/73 → Módulo 0 asignado a GO: GO:0043231_CC\n",
      "02/73 → Módulo 1 asignado a GO: GO:0043231_CC\n",
      "03/73 → Módulo 2 asignado a GO: GO:0043231_CC\n",
      "04/73 → Módulo 3 asignado a GO: GO:0043231_CC\n",
      "05/73 → Módulo 4 asignado a GO: GO:0043231_CC\n",
      "06/73 → Módulo 5 asignado a GO: GO:0043231_CC\n",
      "07/73 → Módulo 6 asignado a GO: GO:0043231_CC\n",
      "08/73 → Módulo 7 asignado a GO: GO:0043231_CC\n",
      "09/73 → Módulo 8 asignado a GO: GO:0043231_CC\n",
      "10/73 → Módulo 9 asignado a GO: GO:0043231_CC\n",
      "11/73 → Módulo 10 asignado a GO: GO:0043231_CC\n",
      "12/73 → Módulo 11 asignado a GO: GO:0043231_CC\n",
      "13/73 → Módulo 12 asignado a GO: GO:0043231_CC\n",
      "14/73 → Módulo 13 asignado a GO: GO:0043231_CC\n",
      "15/73 → Módulo 14 asignado a GO: GO:0043231_CC\n",
      "16/73 → Módulo 15 asignado a GO: GO:0043231_CC\n",
      "17/73 → Módulo 16 asignado a GO: GO:0043231_CC\n",
      "18/73 → Módulo 17 asignado a GO: GO:0043231_CC\n",
      "19/73 → Módulo 18 asignado a GO: GO:0043231_CC\n",
      "20/73 → Módulo 19 asignado a GO: GO:0043231_CC\n",
      "21/73 → Módulo 20 asignado a GO: GO:0043231_CC\n",
      "22/73 → Módulo 21 asignado a GO: GO:0043231_CC\n",
      "23/73 → Módulo 22 asignado a GO: GO:0043231_CC\n",
      "24/73 → Módulo 23 asignado a GO: GO:0043231_CC\n",
      "25/73 → Módulo 24 asignado a GO: GO:0043231_CC\n",
      "26/73 → Módulo 25 asignado a GO: GO:0043231_CC\n",
      "27/73 → Módulo 26 asignado a GO: GO:0043231_CC\n",
      "28/73 → Módulo 27 asignado a GO: GO:0043231_CC\n",
      "29/73 → Módulo 28 asignado a GO: GO:0043231_CC\n",
      "30/73 → Módulo 29 asignado a GO: GO:0043231_CC\n",
      "31/73 → Módulo 30 asignado a GO: GO:0043231_CC\n",
      "32/73 → Módulo 31 asignado a GO: GO:0043231_CC\n",
      "33/73 → Módulo 32 asignado a GO: GO:0043231_CC\n",
      "34/73 → Módulo 33 asignado a GO: GO:0043231_CC\n",
      "35/73 → Módulo 34 asignado a GO: GO:0043231_CC\n",
      "36/73 → Módulo 35 asignado a GO: GO:0043231_CC\n",
      "37/73 → Módulo 36 asignado a GO: GO:0043231_CC\n",
      "38/73 → Módulo 37 asignado a GO: GO:0043231_CC\n",
      "39/73 → Módulo 38 asignado a GO: GO:0043231_CC\n",
      "40/73 → Módulo 39 asignado a GO: GO:0043231_CC\n",
      "41/73 → Módulo 40 asignado a GO: GO:0005634_CC\n",
      "42/73 → Módulo 41 asignado a GO: GO:0043231_CC\n",
      "43/73 → Módulo 42 asignado a GO: GO:0043231_CC\n",
      "44/73 → Módulo 43 asignado a GO: GO:0043231_CC\n",
      "45/73 → Módulo 44 asignado a GO: GO:0043231_CC\n",
      "46/73 → Módulo 45 asignado a GO: GO:0043231_CC\n",
      "47/73 → Módulo 46 asignado a GO: GO:0043231_CC\n",
      "48/73 → Módulo 47 asignado a GO: GO:0043231_CC\n",
      "49/73 → Módulo 48 asignado a GO: GO:0043231_CC\n",
      "50/73 → Módulo 49 asignado a GO: GO:0043231_CC\n",
      "51/73 → Módulo 50 asignado a GO: GO:0043231_CC\n",
      "52/73 → Módulo 51 asignado a GO: GO:0043231_CC\n",
      "53/73 → Módulo 52 asignado a GO: GO:0043231_CC\n",
      "54/73 → Módulo 53 asignado a GO: GO:0043231_CC\n",
      "55/73 → Módulo 54 asignado a GO: GO:0043231_CC\n",
      "56/73 → Módulo 55 asignado a GO: GO:0043231_CC\n",
      "57/73 → Módulo 56 asignado a GO: GO:0043231_CC\n",
      "58/73 → Módulo 57 asignado a GO: GO:0043231_CC\n",
      "59/73 → Módulo 58 asignado a GO: GO:0043231_CC\n",
      "60/73 → Módulo 59 asignado a GO: GO:0043231_CC\n",
      "61/73 → Módulo 60 asignado a GO: GO:0043231_CC\n",
      "62/73 → Módulo 61 asignado a GO: GO:0043231_CC\n",
      "63/73 → Módulo 62 asignado a GO: GO:0043231_CC\n",
      "64/73 → Módulo 63 asignado a GO: GO:0043231_CC\n",
      "65/73 → Módulo 64 asignado a GO: GO:0043231_CC\n",
      "66/73 → Módulo 65 asignado a GO: GO:0043231_CC\n",
      "67/73 → Módulo 66 asignado a GO: GO:0043231_CC\n",
      "68/73 → Módulo 67 asignado a GO: GO:0043231_CC\n",
      "69/73 → Módulo 68 asignado a GO: GO:0043231_CC\n",
      "70/73 → Módulo 69 asignado a GO: GO:0043231_CC\n",
      "71/73 → Módulo 70 asignado a GO: GO:0043231_CC\n",
      "72/73 → Módulo 71 asignado a GO: GO:0043231_CC\n",
      "73/73 → Módulo 72 asignado a GO: GO:0043231_CC\n"
     ]
    }
   ],
   "source": [
    "# Asociar término GO más representativo a cada módulo\n",
    "\n",
    "def best_go(module_nodes, go_matrix):\n",
    "    sub = go_matrix.loc[go_matrix.index.intersection(module_nodes)]\n",
    "    if sub.empty:\n",
    "        return None\n",
    "    return sub.sum().idxmax()  # GO más frecuente\n",
    "\n",
    "module_go = []\n",
    "for i, mod in enumerate(partition):\n",
    "    go_term = best_go(mod, GO)\n",
    "    module_go.append((f\"mod_{i}\", mod, go_term))\n",
    "    print(f\"{i+1:02d}/{H} → Módulo {i} asignado a GO: {go_term}\")\n",
    "\n",
    "# Esto da una asociacion c_h -> φ_h es el GO más enriquecido en c_h\n"
   ]
  },
  {
   "cell_type": "code",
   "execution_count": 48,
   "id": "8c340cfb",
   "metadata": {},
   "outputs": [
    {
     "name": "stdout",
     "output_type": "stream",
     "text": [
      "Distribución de GO asignados por tipo:\n",
      "0\n",
      "CC    73\n",
      "Name: count, dtype: int64\n"
     ]
    }
   ],
   "source": [
    "asignados = [term for _, _, term in module_go if term is not None]\n",
    "tipos = pd.Series(asignados).str.extract(r'_(\\w+)$')[0].value_counts()\n",
    "print(\"Distribución de GO asignados por tipo:\")\n",
    "print(tipos)\n"
   ]
  },
  {
   "cell_type": "code",
   "execution_count": 49,
   "id": "d849fa32",
   "metadata": {},
   "outputs": [
    {
     "name": "stdout",
     "output_type": "stream",
     "text": [
      "mod_0: Total=74, Up=2, Down=2, GO=GO:0043231_CC\n",
      "mod_1: Total=74, Up=1, Down=0, GO=GO:0043231_CC\n",
      "mod_2: Total=74, Up=2, Down=0, GO=GO:0043231_CC\n",
      "mod_3: Total=74, Up=0, Down=1, GO=GO:0043231_CC\n",
      "mod_4: Total=74, Up=1, Down=1, GO=GO:0043231_CC\n",
      "mod_5: Total=74, Up=1, Down=2, GO=GO:0043231_CC\n",
      "mod_6: Total=74, Up=1, Down=3, GO=GO:0043231_CC\n",
      "mod_7: Total=74, Up=1, Down=1, GO=GO:0043231_CC\n",
      "mod_8: Total=74, Up=2, Down=0, GO=GO:0043231_CC\n",
      "mod_9: Total=74, Up=0, Down=2, GO=GO:0043231_CC\n",
      "mod_10: Total=74, Up=1, Down=3, GO=GO:0043231_CC\n",
      "mod_11: Total=74, Up=3, Down=2, GO=GO:0043231_CC\n",
      "mod_12: Total=74, Up=0, Down=1, GO=GO:0043231_CC\n",
      "mod_13: Total=74, Up=1, Down=3, GO=GO:0043231_CC\n",
      "mod_14: Total=74, Up=0, Down=0, GO=GO:0043231_CC\n",
      "mod_15: Total=74, Up=0, Down=1, GO=GO:0043231_CC\n",
      "mod_16: Total=74, Up=0, Down=0, GO=GO:0043231_CC\n",
      "mod_17: Total=74, Up=0, Down=1, GO=GO:0043231_CC\n",
      "mod_18: Total=74, Up=2, Down=2, GO=GO:0043231_CC\n",
      "mod_19: Total=74, Up=3, Down=0, GO=GO:0043231_CC\n",
      "mod_20: Total=74, Up=1, Down=2, GO=GO:0043231_CC\n",
      "mod_21: Total=74, Up=1, Down=2, GO=GO:0043231_CC\n",
      "mod_22: Total=74, Up=0, Down=0, GO=GO:0043231_CC\n",
      "mod_23: Total=74, Up=0, Down=1, GO=GO:0043231_CC\n",
      "mod_24: Total=74, Up=0, Down=2, GO=GO:0043231_CC\n",
      "mod_25: Total=74, Up=1, Down=1, GO=GO:0043231_CC\n",
      "mod_26: Total=74, Up=0, Down=2, GO=GO:0043231_CC\n",
      "mod_27: Total=74, Up=1, Down=0, GO=GO:0043231_CC\n",
      "mod_28: Total=74, Up=1, Down=0, GO=GO:0043231_CC\n",
      "mod_29: Total=74, Up=1, Down=1, GO=GO:0043231_CC\n",
      "mod_30: Total=74, Up=1, Down=2, GO=GO:0043231_CC\n",
      "mod_31: Total=74, Up=0, Down=2, GO=GO:0043231_CC\n",
      "mod_32: Total=74, Up=3, Down=1, GO=GO:0043231_CC\n",
      "mod_33: Total=74, Up=0, Down=0, GO=GO:0043231_CC\n",
      "mod_34: Total=74, Up=0, Down=3, GO=GO:0043231_CC\n",
      "mod_35: Total=74, Up=0, Down=1, GO=GO:0043231_CC\n",
      "mod_36: Total=74, Up=0, Down=0, GO=GO:0043231_CC\n",
      "mod_37: Total=74, Up=1, Down=0, GO=GO:0043231_CC\n",
      "mod_38: Total=74, Up=0, Down=2, GO=GO:0043231_CC\n",
      "mod_39: Total=74, Up=2, Down=1, GO=GO:0043231_CC\n",
      "mod_40: Total=74, Up=2, Down=1, GO=GO:0005634_CC\n",
      "mod_41: Total=74, Up=1, Down=1, GO=GO:0043231_CC\n",
      "mod_42: Total=74, Up=1, Down=0, GO=GO:0043231_CC\n",
      "mod_43: Total=74, Up=0, Down=1, GO=GO:0043231_CC\n",
      "mod_44: Total=74, Up=0, Down=2, GO=GO:0043231_CC\n",
      "mod_45: Total=74, Up=2, Down=1, GO=GO:0043231_CC\n",
      "mod_46: Total=74, Up=0, Down=1, GO=GO:0043231_CC\n",
      "mod_47: Total=74, Up=2, Down=2, GO=GO:0043231_CC\n",
      "mod_48: Total=74, Up=1, Down=0, GO=GO:0043231_CC\n",
      "mod_49: Total=74, Up=1, Down=1, GO=GO:0043231_CC\n",
      "mod_50: Total=74, Up=0, Down=0, GO=GO:0043231_CC\n",
      "mod_51: Total=74, Up=0, Down=1, GO=GO:0043231_CC\n",
      "mod_52: Total=74, Up=0, Down=4, GO=GO:0043231_CC\n",
      "mod_53: Total=74, Up=0, Down=0, GO=GO:0043231_CC\n",
      "mod_54: Total=74, Up=0, Down=0, GO=GO:0043231_CC\n",
      "mod_55: Total=74, Up=1, Down=1, GO=GO:0043231_CC\n",
      "mod_56: Total=74, Up=0, Down=2, GO=GO:0043231_CC\n",
      "mod_57: Total=74, Up=1, Down=2, GO=GO:0043231_CC\n",
      "mod_58: Total=74, Up=1, Down=1, GO=GO:0043231_CC\n",
      "mod_59: Total=74, Up=0, Down=1, GO=GO:0043231_CC\n",
      "mod_60: Total=74, Up=2, Down=2, GO=GO:0043231_CC\n",
      "mod_61: Total=73, Up=1, Down=1, GO=GO:0043231_CC\n",
      "mod_62: Total=73, Up=1, Down=0, GO=GO:0043231_CC\n",
      "mod_63: Total=73, Up=2, Down=2, GO=GO:0043231_CC\n",
      "mod_64: Total=73, Up=3, Down=3, GO=GO:0043231_CC\n",
      "mod_65: Total=73, Up=1, Down=2, GO=GO:0043231_CC\n",
      "mod_66: Total=73, Up=3, Down=1, GO=GO:0043231_CC\n",
      "mod_67: Total=73, Up=1, Down=2, GO=GO:0043231_CC\n",
      "mod_68: Total=73, Up=2, Down=2, GO=GO:0043231_CC\n",
      "mod_69: Total=73, Up=2, Down=1, GO=GO:0043231_CC\n",
      "mod_70: Total=73, Up=0, Down=2, GO=GO:0043231_CC\n",
      "mod_71: Total=73, Up=1, Down=3, GO=GO:0043231_CC\n",
      "mod_72: Total=73, Up=1, Down=0, GO=GO:0043231_CC\n"
     ]
    }
   ],
   "source": [
    "# Contar Up/Down en cada módulo\n",
    "results = []\n",
    "\n",
    "for mod_name, mod_nodes, go_term in module_go:\n",
    "    up = sum(deg_dict.get(p, \"\") == \"Up\" for p in mod_nodes)\n",
    "    down = sum(deg_dict.get(p, \"\") == \"Down\" for p in mod_nodes)\n",
    "    total = len(mod_nodes)\n",
    "    \n",
    "    results.append({\n",
    "        \"Modulo\": mod_name,\n",
    "        \"GO\": go_term,\n",
    "        \"Total proteínas\": total,\n",
    "        \"Up\": up,\n",
    "        \"Down\": down\n",
    "    })\n",
    "    print(f\"{mod_name}: Total={total}, Up={up}, Down={down}, GO={go_term}\")\n"
   ]
  },
  {
   "cell_type": "code",
   "execution_count": 50,
   "id": "a3f73855",
   "metadata": {},
   "outputs": [
    {
     "name": "stdout",
     "output_type": "stream",
     "text": [
      "\n",
      "Resumen final:\n"
     ]
    },
    {
     "data": {
      "text/html": [
       "<div>\n",
       "<style scoped>\n",
       "    .dataframe tbody tr th:only-of-type {\n",
       "        vertical-align: middle;\n",
       "    }\n",
       "\n",
       "    .dataframe tbody tr th {\n",
       "        vertical-align: top;\n",
       "    }\n",
       "\n",
       "    .dataframe thead th {\n",
       "        text-align: right;\n",
       "    }\n",
       "</style>\n",
       "<table border=\"1\" class=\"dataframe\">\n",
       "  <thead>\n",
       "    <tr style=\"text-align: right;\">\n",
       "      <th></th>\n",
       "      <th>Modulo</th>\n",
       "      <th>GO</th>\n",
       "      <th>Total proteínas</th>\n",
       "      <th>Up</th>\n",
       "      <th>Down</th>\n",
       "    </tr>\n",
       "  </thead>\n",
       "  <tbody>\n",
       "    <tr>\n",
       "      <th>0</th>\n",
       "      <td>mod_0</td>\n",
       "      <td>GO:0043231_CC</td>\n",
       "      <td>74</td>\n",
       "      <td>2</td>\n",
       "      <td>2</td>\n",
       "    </tr>\n",
       "    <tr>\n",
       "      <th>1</th>\n",
       "      <td>mod_1</td>\n",
       "      <td>GO:0043231_CC</td>\n",
       "      <td>74</td>\n",
       "      <td>1</td>\n",
       "      <td>0</td>\n",
       "    </tr>\n",
       "    <tr>\n",
       "      <th>2</th>\n",
       "      <td>mod_2</td>\n",
       "      <td>GO:0043231_CC</td>\n",
       "      <td>74</td>\n",
       "      <td>2</td>\n",
       "      <td>0</td>\n",
       "    </tr>\n",
       "    <tr>\n",
       "      <th>3</th>\n",
       "      <td>mod_3</td>\n",
       "      <td>GO:0043231_CC</td>\n",
       "      <td>74</td>\n",
       "      <td>0</td>\n",
       "      <td>1</td>\n",
       "    </tr>\n",
       "    <tr>\n",
       "      <th>4</th>\n",
       "      <td>mod_4</td>\n",
       "      <td>GO:0043231_CC</td>\n",
       "      <td>74</td>\n",
       "      <td>1</td>\n",
       "      <td>1</td>\n",
       "    </tr>\n",
       "  </tbody>\n",
       "</table>\n",
       "</div>"
      ],
      "text/plain": [
       "  Modulo             GO  Total proteínas  Up  Down\n",
       "0  mod_0  GO:0043231_CC               74   2     2\n",
       "1  mod_1  GO:0043231_CC               74   1     0\n",
       "2  mod_2  GO:0043231_CC               74   2     0\n",
       "3  mod_3  GO:0043231_CC               74   0     1\n",
       "4  mod_4  GO:0043231_CC               74   1     1"
      ]
     },
     "metadata": {},
     "output_type": "display_data"
    }
   ],
   "source": [
    "# Convertir a dataframe y mostrar resultados\n",
    "df_resultados = pd.DataFrame(results)\n",
    "print(\"\\nResumen final:\")\n",
    "display(df_resultados.head())"
   ]
  }
 ],
 "metadata": {
  "kernelspec": {
   "display_name": "Python 3",
   "language": "python",
   "name": "python3"
  },
  "language_info": {
   "codemirror_mode": {
    "name": "ipython",
    "version": 3
   },
   "file_extension": ".py",
   "mimetype": "text/x-python",
   "name": "python",
   "nbconvert_exporter": "python",
   "pygments_lexer": "ipython3",
   "version": "3.11.0"
  }
 },
 "nbformat": 4,
 "nbformat_minor": 5
}
