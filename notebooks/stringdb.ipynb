{
 "cells": [
  {
   "cell_type": "code",
   "execution_count": null,
   "id": "daa5391a",
   "metadata": {},
   "outputs": [],
   "source": [
    "import os\n",
    "import pandas as pd\n",
    "data_dr = r\"C:\\Users\\Macarena Madrid\\Desktop\\alzheimer-target-prediction\\data\\processed\\raw_cleaned\"\n",
    "targets = pd.read_csv(os.path.join(data_dr, \"target_clean.csv\"))\n",
    "\n",
    "\n"
   ]
  },
  {
   "cell_type": "code",
   "execution_count": 2,
   "id": "4b9257db",
   "metadata": {},
   "outputs": [
    {
     "data": {
      "text/plain": [
       "Index(['Target_name', 'Complex_participants', 'Node_id', 'Target_type',\n",
       "       'Target_group', 'Target_group_score_normalized', 'Conectivity_Score'],\n",
       "      dtype='object')"
      ]
     },
     "execution_count": 2,
     "metadata": {},
     "output_type": "execute_result"
    }
   ],
   "source": [
    "# Revisar las columnas reales del archivo para corregir el nombre de la columna\n",
    "targets.columns"
   ]
  },
  {
   "cell_type": "code",
   "execution_count": 5,
   "id": "f16d7d28",
   "metadata": {},
   "outputs": [],
   "source": [
    "# Filtrar solo proteínas del grupo T2 y T4\n",
    "only_T2 = targets[targets[\"Target_group\"] == \"T2\"]\n",
    "only_T4 = targets[targets[\"Target_group\"] == \"T4\"]\n",
    "\n",
    "# Extraer Node_id únicos (estos son los símbolos válidos para STRINGdb)\n",
    "t2_node_ids = only_T2[\"Node_id\"].dropna().unique().tolist()\n",
    "t4_node_ids = only_T4[\"Node_id\"].dropna().unique().tolist()"
   ]
  },
  {
   "cell_type": "code",
   "execution_count": 8,
   "id": "66f98d14",
   "metadata": {},
   "outputs": [
    {
     "name": "stdout",
     "output_type": "stream",
     "text": [
      "Listas guardadas correctamente en: C:\\Users\\Macarena Madrid\\Desktop\\alzheimer-target-prediction\\data\\processed\\raw_cleaned\\listas_STRING\n"
     ]
    }
   ],
   "source": [
    "# Crear carpeta para guardar si no existe\n",
    "output_dir = os.path.join(data_dr, \"listas_STRING\")\n",
    "os.makedirs(output_dir, exist_ok=True)\n",
    "\n",
    "# Guardar listas en archivos de texto plano\n",
    "with open(os.path.join(output_dir, \"node_ids_T2.txt\"), \"w\", encoding=\"utf-8\") as f:\n",
    "    for node in t2_node_ids:\n",
    "        f.write(node + \"\\n\")\n",
    "\n",
    "with open(os.path.join(output_dir, \"node_ids_T4.txt\"), \"w\", encoding=\"utf-8\") as f:\n",
    "    for node in t4_node_ids:\n",
    "        f.write(node + \"\\n\")\n",
    "\n",
    "print(\"Listas guardadas correctamente en:\", output_dir)"
   ]
  },
  {
   "cell_type": "code",
   "execution_count": 14,
   "id": "5faef58e",
   "metadata": {},
   "outputs": [],
   "source": [
    "import random\n",
    "\n",
    "# Fijar semilla para reproducibilidad\n",
    "random.seed(42)\n",
    "t4_sample_1000 = random.sample(t4_node_ids, 1000)\n",
    "\n",
    "# Guardar en nuevo archivo\n",
    "with open(os.path.join(output_dir, \"node_ids_T4_sample100.txt\"), \"w\") as f:\n",
    "    for node in t4_sample_1000:\n",
    "        f.write(node + \"\\n\")\n"
   ]
  },
  {
   "cell_type": "code",
   "execution_count": 16,
   "id": "974645b3",
   "metadata": {},
   "outputs": [],
   "source": [
    "top_2000_t4 = only_T4.sort_values(\"Conectivity_Score\", ascending=False).head(2000)\n",
    "top_2000_t4_ids = top_2000_t4[\"Node_id\"].tolist()\n",
    "\n",
    "with open(os.path.join(output_dir, \"node_ids_T4_top2000.txt\"), \"w\") as f:\n",
    "    for node in top_2000_t4_ids:\n",
    "        f.write(node + \"\\n\")\n"
   ]
  }
 ],
 "metadata": {
  "kernelspec": {
   "display_name": "Python 3",
   "language": "python",
   "name": "python3"
  },
  "language_info": {
   "codemirror_mode": {
    "name": "ipython",
    "version": 3
   },
   "file_extension": ".py",
   "mimetype": "text/x-python",
   "name": "python",
   "nbconvert_exporter": "python",
   "pygments_lexer": "ipython3",
   "version": "3.11.0"
  }
 },
 "nbformat": 4,
 "nbformat_minor": 5
}
