{
 "cells": [
  {
   "cell_type": "markdown",
   "id": "7783d764",
   "metadata": {},
   "source": [
    "# **0.1 Preprocesamiento de los datos**"
   ]
  },
  {
   "cell_type": "code",
   "execution_count": 31,
   "id": "9ff8c827",
   "metadata": {},
   "outputs": [],
   "source": [
    "# Importamos librería \n",
    "import pandas as pd\n",
    "import matplotlib.pyplot as plt\n",
    "import seaborn as sns\n",
    "from wordcloud import WordCloud\n",
    "import os"
   ]
  },
  {
   "cell_type": "code",
   "execution_count": 32,
   "id": "03a4c84b",
   "metadata": {},
   "outputs": [
    {
     "name": "stderr",
     "output_type": "stream",
     "text": [
      "c:\\Users\\Macarena Madrid\\AppData\\Local\\Programs\\Python\\Python311\\Lib\\site-packages\\openpyxl\\styles\\stylesheet.py:237: UserWarning: Workbook contains no default style, apply openpyxl's default\n",
      "  warn(\"Workbook contains no default style, apply openpyxl's default\")\n",
      "c:\\Users\\Macarena Madrid\\AppData\\Local\\Programs\\Python\\Python311\\Lib\\site-packages\\openpyxl\\styles\\stylesheet.py:237: UserWarning: Workbook contains no default style, apply openpyxl's default\n",
      "  warn(\"Workbook contains no default style, apply openpyxl's default\")\n"
     ]
    }
   ],
   "source": [
    "# Cargar datos\n",
    "data_dir = r\"C:\\Users\\Macarena Madrid\\Desktop\\\\alzheimer-target-prediction\\data\\raw\"\n",
    "\n",
    "ppi = pd.read_csv(os.path.join(data_dir, \"1_PPI-network_Alzheimer_Disease_no-opentarget-filter.csv\"))\n",
    "targets = pd.read_excel(os.path.join(data_dir, \"3_Targets-score_Alzheimer_Disease_no-opentarget-filter.xlsx\"))\n",
    "topo = pd.read_csv(os.path.join(data_dir, \"topology_158_up_down_normalized_splitPCA.csv\"))\n",
    "enrichment = pd.read_excel(os.path.join(data_dir, \"enrichment2.xlsx\"), sheet_name=None)  # Todas las hojas"
   ]
  },
  {
   "cell_type": "markdown",
   "id": "db71a89a",
   "metadata": {},
   "source": [
    "## Datos de PPI"
   ]
  },
  {
   "cell_type": "code",
   "execution_count": 56,
   "id": "d3f5b1ef",
   "metadata": {},
   "outputs": [
    {
     "name": "stdout",
     "output_type": "stream",
     "text": [
      "<class 'pandas.core.frame.DataFrame'>\n",
      "RangeIndex: 426139 entries, 0 to 426138\n",
      "Data columns (total 4 columns):\n",
      " #   Column             Non-Null Count   Dtype  \n",
      "---  ------             --------------   -----  \n",
      " 0   Prot_A             426139 non-null  object \n",
      " 1   Prot_B             426139 non-null  object \n",
      " 2   Interaction_score  426139 non-null  float64\n",
      " 3   Disease            426139 non-null  object \n",
      "dtypes: float64(1), object(3)\n",
      "memory usage: 13.0+ MB\n"
     ]
    },
    {
     "data": {
      "text/html": [
       "<div>\n",
       "<style scoped>\n",
       "    .dataframe tbody tr th:only-of-type {\n",
       "        vertical-align: middle;\n",
       "    }\n",
       "\n",
       "    .dataframe tbody tr th {\n",
       "        vertical-align: top;\n",
       "    }\n",
       "\n",
       "    .dataframe thead th {\n",
       "        text-align: right;\n",
       "    }\n",
       "</style>\n",
       "<table border=\"1\" class=\"dataframe\">\n",
       "  <thead>\n",
       "    <tr style=\"text-align: right;\">\n",
       "      <th></th>\n",
       "      <th>Interaction_score</th>\n",
       "    </tr>\n",
       "  </thead>\n",
       "  <tbody>\n",
       "    <tr>\n",
       "      <th>count</th>\n",
       "      <td>426139.000000</td>\n",
       "    </tr>\n",
       "    <tr>\n",
       "      <th>mean</th>\n",
       "      <td>0.621208</td>\n",
       "    </tr>\n",
       "    <tr>\n",
       "      <th>std</th>\n",
       "      <td>0.180884</td>\n",
       "    </tr>\n",
       "    <tr>\n",
       "      <th>min</th>\n",
       "      <td>0.400000</td>\n",
       "    </tr>\n",
       "    <tr>\n",
       "      <th>25%</th>\n",
       "      <td>0.473000</td>\n",
       "    </tr>\n",
       "    <tr>\n",
       "      <th>50%</th>\n",
       "      <td>0.574000</td>\n",
       "    </tr>\n",
       "    <tr>\n",
       "      <th>75%</th>\n",
       "      <td>0.728000</td>\n",
       "    </tr>\n",
       "    <tr>\n",
       "      <th>max</th>\n",
       "      <td>0.999000</td>\n",
       "    </tr>\n",
       "  </tbody>\n",
       "</table>\n",
       "</div>"
      ],
      "text/plain": [
       "       Interaction_score\n",
       "count      426139.000000\n",
       "mean            0.621208\n",
       "std             0.180884\n",
       "min             0.400000\n",
       "25%             0.473000\n",
       "50%             0.574000\n",
       "75%             0.728000\n",
       "max             0.999000"
      ]
     },
     "execution_count": 56,
     "metadata": {},
     "output_type": "execute_result"
    }
   ],
   "source": [
    "# obtenemos la infromación general del dataset de ppi\n",
    "ppi.info()\n",
    "ppi.describe() # estadísticas descriptivas"
   ]
  },
  {
   "cell_type": "code",
   "execution_count": 67,
   "id": "c2af8a19",
   "metadata": {},
   "outputs": [
    {
     "name": "stdout",
     "output_type": "stream",
     "text": [
      "Nº total de interacciones: 308736\n",
      "Nº proteínas únicas: 5391\n",
      "Nº duplicados: 0\n",
      "Nº self-loops: 0\n"
     ]
    }
   ],
   "source": [
    "# Conteo\n",
    "print(\"Nº total de interacciones:\", len(ppi))\n",
    "print(\"Nº proteínas únicas:\", len(pd.unique(ppi[['Prot_A', 'Prot_B']].values.ravel())))\n",
    "print(\"Nº duplicados:\", ppi.duplicated().sum())\n",
    "print(\"Nº self-loops:\", (ppi['Prot_A'] == ppi['Prot_B']).sum())\n",
    "\n"
   ]
  },
  {
   "cell_type": "code",
   "execution_count": 59,
   "id": "b5e51651",
   "metadata": {},
   "outputs": [
    {
     "data": {
      "text/plain": [
       "Prot_A               0\n",
       "Prot_B               0\n",
       "Interaction_score    0\n",
       "Disease              0\n",
       "dtype: int64"
      ]
     },
     "execution_count": 59,
     "metadata": {},
     "output_type": "execute_result"
    }
   ],
   "source": [
    "# valores faltante por columnas\n",
    "ppi.isnull().sum()"
   ]
  },
  {
   "cell_type": "code",
   "execution_count": 66,
   "id": "8a364453",
   "metadata": {},
   "outputs": [
    {
     "name": "stdout",
     "output_type": "stream",
     "text": [
      "308736\n"
     ]
    }
   ],
   "source": [
    "print(len(ppi))"
   ]
  },
  {
   "cell_type": "markdown",
   "id": "f33731c0",
   "metadata": {},
   "source": [
    "No hay valores faltantes, pero si es necesario eliminar la columna Disease ya que sabemos que solo se trabajarán con datos de Alzheimer."
   ]
  },
  {
   "cell_type": "markdown",
   "id": "249ba035",
   "metadata": {},
   "source": [
    "Interaction_score va de 0 a 1, y queremos ver o analizar las interacciones menos confiables, entonces se filtraran por <0.7 que corresponden a las interacciones de baja a mediana confianza, excluyendo las de alta o muy alta confianza (>= 0.7)."
   ]
  },
  {
   "cell_type": "code",
   "execution_count": null,
   "id": "c3b9eafa",
   "metadata": {},
   "outputs": [
    {
     "name": "stdout",
     "output_type": "stream",
     "text": [
      "Archivo guardado en: C:\\Users\\Macarena Madrid\\Desktop\\\\alzheimer-target-prediction\\data\\processed\\raw_cleaned\\ppi_clean.csv\n",
      "Total de interacciones después de limpieza: 308736\n"
     ]
    }
   ],
   "source": [
    "processed_dir = r\"C:\\Users\\Macarena Madrid\\Desktop\\\\alzheimer-target-prediction\\data\\processed\\raw_cleaned\"\n",
    "\n",
    "# Quedarse con interacciones con score < 0.7 \n",
    "ppi_filtered= ppi[ppi['Interaction_score'] < 0.7].copy()\n",
    "\n",
    "# Eliminar columna 'Disease' del dataset de interacciones\n",
    "ppi_clean = ppi_filtered.drop(columns=[\"Disease\"])\n",
    "\n",
    "# Guardar la versión limpia\n",
    "ppi_clean.to_csv(os.path.join(processed_dir, \"ppi_clean.csv\"), index=False)\n",
    "\n",
    "# Verificación\n",
    "print(\"Archivo guardado en:\", os.path.join(processed_dir, \"ppi_clean.csv\"))\n",
    "print(\"Total de interacciones después de limpieza:\", len(ppi_clean))"
   ]
  },
  {
   "cell_type": "markdown",
   "id": "8d5eec5a",
   "metadata": {},
   "source": [
    "Finalmente me quede con 308736 de 426139"
   ]
  },
  {
   "cell_type": "markdown",
   "id": "43e48849",
   "metadata": {},
   "source": [
    "## Datos de target"
   ]
  },
  {
   "cell_type": "code",
   "execution_count": 50,
   "id": "dd5e7e6b",
   "metadata": {},
   "outputs": [
    {
     "name": "stdout",
     "output_type": "stream",
     "text": [
      "<class 'pandas.core.frame.DataFrame'>\n",
      "RangeIndex: 5411 entries, 0 to 5410\n",
      "Data columns (total 11 columns):\n",
      " #   Column                         Non-Null Count  Dtype  \n",
      "---  ------                         --------------  -----  \n",
      " 0   Target_name                    5411 non-null   object \n",
      " 1   Complex_participants           1494 non-null   object \n",
      " 2   Node_id                        5411 non-null   object \n",
      " 3   Uniprot_id                     5411 non-null   object \n",
      " 4   Target_type                    5411 non-null   object \n",
      " 5   Target_group                   5411 non-null   object \n",
      " 6   Source_db                      5411 non-null   object \n",
      " 7   Target_group_score             5411 non-null   float64\n",
      " 8   Target_group_score_normalized  5411 non-null   float64\n",
      " 9   Conectivity_Score              3842 non-null   float64\n",
      " 10  Disease                        5411 non-null   object \n",
      "dtypes: float64(3), object(8)\n",
      "memory usage: 465.1+ KB\n"
     ]
    },
    {
     "data": {
      "text/html": [
       "<div>\n",
       "<style scoped>\n",
       "    .dataframe tbody tr th:only-of-type {\n",
       "        vertical-align: middle;\n",
       "    }\n",
       "\n",
       "    .dataframe tbody tr th {\n",
       "        vertical-align: top;\n",
       "    }\n",
       "\n",
       "    .dataframe thead th {\n",
       "        text-align: right;\n",
       "    }\n",
       "</style>\n",
       "<table border=\"1\" class=\"dataframe\">\n",
       "  <thead>\n",
       "    <tr style=\"text-align: right;\">\n",
       "      <th></th>\n",
       "      <th>Target_group_score</th>\n",
       "      <th>Target_group_score_normalized</th>\n",
       "      <th>Conectivity_Score</th>\n",
       "    </tr>\n",
       "  </thead>\n",
       "  <tbody>\n",
       "    <tr>\n",
       "      <th>count</th>\n",
       "      <td>5411.000000</td>\n",
       "      <td>5411.000000</td>\n",
       "      <td>3842.000000</td>\n",
       "    </tr>\n",
       "    <tr>\n",
       "      <th>mean</th>\n",
       "      <td>1.630882</td>\n",
       "      <td>0.186112</td>\n",
       "      <td>0.730901</td>\n",
       "    </tr>\n",
       "    <tr>\n",
       "      <th>std</th>\n",
       "      <td>2.570310</td>\n",
       "      <td>0.144580</td>\n",
       "      <td>0.207526</td>\n",
       "    </tr>\n",
       "    <tr>\n",
       "      <th>min</th>\n",
       "      <td>0.100000</td>\n",
       "      <td>0.100000</td>\n",
       "      <td>0.349320</td>\n",
       "    </tr>\n",
       "    <tr>\n",
       "      <th>25%</th>\n",
       "      <td>0.100000</td>\n",
       "      <td>0.100000</td>\n",
       "      <td>0.605366</td>\n",
       "    </tr>\n",
       "    <tr>\n",
       "      <th>50%</th>\n",
       "      <td>0.100000</td>\n",
       "      <td>0.100000</td>\n",
       "      <td>0.715035</td>\n",
       "    </tr>\n",
       "    <tr>\n",
       "      <th>75%</th>\n",
       "      <td>5.000000</td>\n",
       "      <td>0.375625</td>\n",
       "      <td>0.828582</td>\n",
       "    </tr>\n",
       "    <tr>\n",
       "      <th>max</th>\n",
       "      <td>16.100000</td>\n",
       "      <td>1.000000</td>\n",
       "      <td>2.627325</td>\n",
       "    </tr>\n",
       "  </tbody>\n",
       "</table>\n",
       "</div>"
      ],
      "text/plain": [
       "       Target_group_score  Target_group_score_normalized  Conectivity_Score\n",
       "count         5411.000000                    5411.000000        3842.000000\n",
       "mean             1.630882                       0.186112           0.730901\n",
       "std              2.570310                       0.144580           0.207526\n",
       "min              0.100000                       0.100000           0.349320\n",
       "25%              0.100000                       0.100000           0.605366\n",
       "50%              0.100000                       0.100000           0.715035\n",
       "75%              5.000000                       0.375625           0.828582\n",
       "max             16.100000                       1.000000           2.627325"
      ]
     },
     "execution_count": 50,
     "metadata": {},
     "output_type": "execute_result"
    }
   ],
   "source": [
    "# obtenemos la infromación general del dataset de targets\n",
    "targets.info()\n",
    "targets.describe() # estadísticas descriptivas"
   ]
  },
  {
   "cell_type": "code",
   "execution_count": 51,
   "id": "701a4db9",
   "metadata": {},
   "outputs": [
    {
     "data": {
      "text/plain": [
       "Target_name                         0\n",
       "Complex_participants             3917\n",
       "Node_id                             0\n",
       "Uniprot_id                          0\n",
       "Target_type                         0\n",
       "Target_group                        0\n",
       "Source_db                           0\n",
       "Target_group_score                  0\n",
       "Target_group_score_normalized       0\n",
       "Conectivity_Score                1569\n",
       "Disease                             0\n",
       "dtype: int64"
      ]
     },
     "execution_count": 51,
     "metadata": {},
     "output_type": "execute_result"
    }
   ],
   "source": [
    "# valores faltante por columnas\n",
    "targets.isnull().sum()"
   ]
  },
  {
   "cell_type": "markdown",
   "id": "fb89dd99",
   "metadata": {},
   "source": [
    "Complex_participants me da 3917 valores nulos, ya que no todos los blancos son complejos proteicos.\n",
    "Conectivity_Score tiene 1569 valores nulos, se considerarán como una conectividad mínima o no disponible.\n",
    "Se rellenarán con 0 ambos datos nulos.\n"
   ]
  },
  {
   "cell_type": "code",
   "execution_count": 52,
   "id": "16cdaa27",
   "metadata": {},
   "outputs": [
    {
     "name": "stdout",
     "output_type": "stream",
     "text": [
      "Número de targets en el DataFrame de targets: 5411\n"
     ]
    }
   ],
   "source": [
    "# Conteo de targets en el DataFrame de targets\n",
    "num_targets = targets['Node_id'].nunique()\n",
    "print(f\"Número de targets en el DataFrame de targets: {num_targets}\")"
   ]
  },
  {
   "cell_type": "code",
   "execution_count": 53,
   "id": "a2673b16",
   "metadata": {},
   "outputs": [
    {
     "data": {
      "text/plain": [
       "Target_group\n",
       "T4                3842\n",
       "T2                1090\n",
       "T2, T3             198\n",
       "T2, T4             198\n",
       "T2, T3, T4          29\n",
       "T1, T2, T3          22\n",
       "T3                  15\n",
       "T1, T2               9\n",
       "T1, T2, T3, T4       7\n",
       "T3, T4               1\n",
       "Name: count, dtype: int64"
      ]
     },
     "execution_count": 53,
     "metadata": {},
     "output_type": "execute_result"
    }
   ],
   "source": [
    "# Obtenemos la cantidad de valores por clase de la variable \"Target_group\"\n",
    "\n",
    "targets.Target_group.value_counts() "
   ]
  },
  {
   "cell_type": "code",
   "execution_count": 54,
   "id": "723cfa31",
   "metadata": {},
   "outputs": [
    {
     "name": "stdout",
     "output_type": "stream",
     "text": [
      "T1: 38\n",
      "T2: 1553\n",
      "T3: 272\n",
      "T4: 4077\n"
     ]
    }
   ],
   "source": [
    "# Obtenemos la cantidad de valores por clase sin combinaciones de la variable \"Target_group\"\n",
    "from collections import Counter\n",
    "\n",
    "# Contar ocurrencias individuales en combinaciones\n",
    "conteo = Counter()\n",
    "targets[\"Target_group\"].dropna().astype(str).str.split(\",\").apply(lambda grupos: conteo.update([g.strip() for g in grupos]))\n",
    "\n",
    "for t in [\"T1\", \"T2\", \"T3\", \"T4\"]:\n",
    "    print(f\"{t}: {conteo[t]}\")\n"
   ]
  },
  {
   "cell_type": "markdown",
   "id": "789c3267",
   "metadata": {},
   "source": [
    "El total corresponde a 5411 datos, donde el 61.7% equivale al T4, 23.5% a T3, 4.1% a T3 y 0.8% a T1. Lo que refleja que existe un desvalance de clases. Este sesgo puede afectar el rendimiento de los modelos supervisados."
   ]
  },
  {
   "cell_type": "code",
   "execution_count": 55,
   "id": "1fe74d34",
   "metadata": {},
   "outputs": [
    {
     "name": "stdout",
     "output_type": "stream",
     "text": [
      "Columnas finales: ['Target_name', 'Complex_participants', 'Node_id', 'Target_type', 'Target_group', 'Target_group_score_normalized', 'Conectivity_Score']\n",
      "Archivo guardado en: C:\\Users\\Macarena Madrid\\Desktop\\\\alzheimer-target-prediction\\data\\processed\\raw_cleaned\\target_clean.csv\n"
     ]
    }
   ],
   "source": [
    "processed_dir = r\"C:\\Users\\Macarena Madrid\\Desktop\\\\alzheimer-target-prediction\\data\\processed\\raw_cleaned\"\n",
    "\n",
    "# Rellenar valores nulos en el DataFrame original\n",
    "targets[\"Complex_participants\"] = targets[\"Complex_participants\"].fillna(\"None\")\n",
    "targets[\"Conectivity_Score\"] = targets[\"Conectivity_Score\"].fillna(0)\n",
    "\n",
    "# Eliminar columnas innecesarias\n",
    "target_clean = targets.drop(columns=[\n",
    "    \"Target_group_score\",        # ya tienes la versión normalizada\n",
    "    \"Disease\",                   # no se usará\n",
    "    \"Source_db\",                 # metadato no funcional\n",
    "    \"Uniprot_id\"                 # info redundante, no como feature\n",
    "])\n",
    "\n",
    "# Verificar columnas finales\n",
    "print(\"Columnas finales:\", target_clean.columns.tolist())\n",
    "\n",
    "# Guardar la versión limpia\n",
    "target_clean.to_csv(os.path.join(processed_dir, \"target_clean.csv\"), index=False)\n",
    "\n",
    "# Verificación\n",
    "print(\"Archivo guardado en:\", os.path.join(processed_dir, \"target_clean.csv\"))\n"
   ]
  },
  {
   "cell_type": "markdown",
   "id": "cdfaca4f",
   "metadata": {},
   "source": [
    "## Datos de topología"
   ]
  },
  {
   "cell_type": "code",
   "execution_count": 7,
   "id": "87b7c052",
   "metadata": {},
   "outputs": [
    {
     "name": "stdout",
     "output_type": "stream",
     "text": [
      "<class 'pandas.core.frame.DataFrame'>\n",
      "RangeIndex: 158 entries, 0 to 157\n",
      "Data columns (total 10 columns):\n",
      " #   Column             Non-Null Count  Dtype  \n",
      "---  ------             --------------  -----  \n",
      " 0   Node_id            158 non-null    object \n",
      " 1   prediction         158 non-null    object \n",
      " 2   DC                 158 non-null    float64\n",
      " 3   BC                 158 non-null    float64\n",
      " 4   CC                 158 non-null    float64\n",
      " 5   EC                 158 non-null    float64\n",
      " 6   CEN                158 non-null    float64\n",
      " 7   ECC                158 non-null    float64\n",
      " 8   RAD                158 non-null    float64\n",
      " 9   Conectivity_Score  158 non-null    float64\n",
      "dtypes: float64(8), object(2)\n",
      "memory usage: 12.5+ KB\n"
     ]
    },
    {
     "data": {
      "text/html": [
       "<div>\n",
       "<style scoped>\n",
       "    .dataframe tbody tr th:only-of-type {\n",
       "        vertical-align: middle;\n",
       "    }\n",
       "\n",
       "    .dataframe tbody tr th {\n",
       "        vertical-align: top;\n",
       "    }\n",
       "\n",
       "    .dataframe thead th {\n",
       "        text-align: right;\n",
       "    }\n",
       "</style>\n",
       "<table border=\"1\" class=\"dataframe\">\n",
       "  <thead>\n",
       "    <tr style=\"text-align: right;\">\n",
       "      <th></th>\n",
       "      <th>DC</th>\n",
       "      <th>BC</th>\n",
       "      <th>CC</th>\n",
       "      <th>EC</th>\n",
       "      <th>CEN</th>\n",
       "      <th>ECC</th>\n",
       "      <th>RAD</th>\n",
       "      <th>Conectivity_Score</th>\n",
       "    </tr>\n",
       "  </thead>\n",
       "  <tbody>\n",
       "    <tr>\n",
       "      <th>count</th>\n",
       "      <td>158.000000</td>\n",
       "      <td>158.000000</td>\n",
       "      <td>158.000000</td>\n",
       "      <td>158.000000</td>\n",
       "      <td>158.000000</td>\n",
       "      <td>158.000000</td>\n",
       "      <td>158.000000</td>\n",
       "      <td>158.000000</td>\n",
       "    </tr>\n",
       "    <tr>\n",
       "      <th>mean</th>\n",
       "      <td>0.230279</td>\n",
       "      <td>0.100278</td>\n",
       "      <td>0.495669</td>\n",
       "      <td>0.225283</td>\n",
       "      <td>0.592059</td>\n",
       "      <td>0.556962</td>\n",
       "      <td>0.608665</td>\n",
       "      <td>0.426127</td>\n",
       "    </tr>\n",
       "    <tr>\n",
       "      <th>std</th>\n",
       "      <td>0.212538</td>\n",
       "      <td>0.169508</td>\n",
       "      <td>0.187579</td>\n",
       "      <td>0.236011</td>\n",
       "      <td>0.245694</td>\n",
       "      <td>0.432644</td>\n",
       "      <td>0.183501</td>\n",
       "      <td>0.195098</td>\n",
       "    </tr>\n",
       "    <tr>\n",
       "      <th>min</th>\n",
       "      <td>0.000000</td>\n",
       "      <td>0.000000</td>\n",
       "      <td>0.000000</td>\n",
       "      <td>0.000000</td>\n",
       "      <td>0.000000</td>\n",
       "      <td>0.000000</td>\n",
       "      <td>0.000000</td>\n",
       "      <td>0.000000</td>\n",
       "    </tr>\n",
       "    <tr>\n",
       "      <th>25%</th>\n",
       "      <td>0.053674</td>\n",
       "      <td>0.016085</td>\n",
       "      <td>0.377904</td>\n",
       "      <td>0.020636</td>\n",
       "      <td>0.422149</td>\n",
       "      <td>0.000000</td>\n",
       "      <td>0.513860</td>\n",
       "      <td>0.291396</td>\n",
       "    </tr>\n",
       "    <tr>\n",
       "      <th>50%</th>\n",
       "      <td>0.168254</td>\n",
       "      <td>0.043192</td>\n",
       "      <td>0.503034</td>\n",
       "      <td>0.193621</td>\n",
       "      <td>0.610640</td>\n",
       "      <td>0.400000</td>\n",
       "      <td>0.628032</td>\n",
       "      <td>0.424866</td>\n",
       "    </tr>\n",
       "    <tr>\n",
       "      <th>75%</th>\n",
       "      <td>0.348016</td>\n",
       "      <td>0.105659</td>\n",
       "      <td>0.606090</td>\n",
       "      <td>0.337291</td>\n",
       "      <td>0.783107</td>\n",
       "      <td>1.000000</td>\n",
       "      <td>0.722278</td>\n",
       "      <td>0.565477</td>\n",
       "    </tr>\n",
       "    <tr>\n",
       "      <th>max</th>\n",
       "      <td>1.000000</td>\n",
       "      <td>1.000000</td>\n",
       "      <td>1.000000</td>\n",
       "      <td>1.000000</td>\n",
       "      <td>1.000000</td>\n",
       "      <td>1.000000</td>\n",
       "      <td>1.000000</td>\n",
       "      <td>1.000000</td>\n",
       "    </tr>\n",
       "  </tbody>\n",
       "</table>\n",
       "</div>"
      ],
      "text/plain": [
       "               DC          BC          CC          EC         CEN         ECC  \\\n",
       "count  158.000000  158.000000  158.000000  158.000000  158.000000  158.000000   \n",
       "mean     0.230279    0.100278    0.495669    0.225283    0.592059    0.556962   \n",
       "std      0.212538    0.169508    0.187579    0.236011    0.245694    0.432644   \n",
       "min      0.000000    0.000000    0.000000    0.000000    0.000000    0.000000   \n",
       "25%      0.053674    0.016085    0.377904    0.020636    0.422149    0.000000   \n",
       "50%      0.168254    0.043192    0.503034    0.193621    0.610640    0.400000   \n",
       "75%      0.348016    0.105659    0.606090    0.337291    0.783107    1.000000   \n",
       "max      1.000000    1.000000    1.000000    1.000000    1.000000    1.000000   \n",
       "\n",
       "              RAD  Conectivity_Score  \n",
       "count  158.000000         158.000000  \n",
       "mean     0.608665           0.426127  \n",
       "std      0.183501           0.195098  \n",
       "min      0.000000           0.000000  \n",
       "25%      0.513860           0.291396  \n",
       "50%      0.628032           0.424866  \n",
       "75%      0.722278           0.565477  \n",
       "max      1.000000           1.000000  "
      ]
     },
     "execution_count": 7,
     "metadata": {},
     "output_type": "execute_result"
    }
   ],
   "source": [
    "# obtenemos la infromación general del dataset de topologia\n",
    "topo.info()\n",
    "topo.describe() # estadísticas descriptivas"
   ]
  },
  {
   "cell_type": "code",
   "execution_count": 15,
   "id": "a404673e",
   "metadata": {},
   "outputs": [
    {
     "data": {
      "text/plain": [
       "Node_id              0\n",
       "prediction           0\n",
       "DC                   0\n",
       "BC                   0\n",
       "CC                   0\n",
       "EC                   0\n",
       "CEN                  0\n",
       "ECC                  0\n",
       "RAD                  0\n",
       "Conectivity_Score    0\n",
       "dtype: int64"
      ]
     },
     "execution_count": 15,
     "metadata": {},
     "output_type": "execute_result"
    }
   ],
   "source": [
    "# valores faltante por columnas\n",
    "topo.isnull().sum()"
   ]
  },
  {
   "cell_type": "markdown",
   "id": "bcf10a3b",
   "metadata": {},
   "source": [
    "## Datos de enriquecimiento"
   ]
  },
  {
   "cell_type": "code",
   "execution_count": 10,
   "id": "c1168591",
   "metadata": {},
   "outputs": [
    {
     "name": "stdout",
     "output_type": "stream",
     "text": [
      "<class 'pandas.core.frame.DataFrame'>\n",
      "RangeIndex: 5352 entries, 0 to 5351\n",
      "Data columns (total 9 columns):\n",
      " #   Column                Non-Null Count  Dtype  \n",
      "---  ------                --------------  -----  \n",
      " 0   Rank                  5352 non-null   int64  \n",
      " 1   Term Name             5352 non-null   object \n",
      " 2   P-value               5352 non-null   float64\n",
      " 3   Z-score               5352 non-null   float64\n",
      " 4   Combined_Score        5352 non-null   float64\n",
      " 5   Overlapping genes     5352 non-null   object \n",
      " 6   Adjusted p-value      5352 non-null   float64\n",
      " 7   Old p-value           5352 non-null   int64  \n",
      " 8   Old Adjusted p-value  5352 non-null   int64  \n",
      "dtypes: float64(4), int64(3), object(2)\n",
      "memory usage: 376.4+ KB\n",
      "<class 'pandas.core.frame.DataFrame'>\n",
      "RangeIndex: 1109 entries, 0 to 1108\n",
      "Data columns (total 9 columns):\n",
      " #   Column                Non-Null Count  Dtype  \n",
      "---  ------                --------------  -----  \n",
      " 0   Rank                  1109 non-null   int64  \n",
      " 1   Term Name             1109 non-null   object \n",
      " 2   P-value               1109 non-null   float64\n",
      " 3   Z-score               1109 non-null   float64\n",
      " 4   Combined_Score        1109 non-null   float64\n",
      " 5   Overlapping genes     1109 non-null   object \n",
      " 6   Adjusted p-value      1109 non-null   float64\n",
      " 7   Old p-value           1109 non-null   int64  \n",
      " 8   Old Adjusted p-value  1109 non-null   int64  \n",
      "dtypes: float64(4), int64(3), object(2)\n",
      "memory usage: 78.1+ KB\n",
      "<class 'pandas.core.frame.DataFrame'>\n",
      "RangeIndex: 467 entries, 0 to 466\n",
      "Data columns (total 9 columns):\n",
      " #   Column                Non-Null Count  Dtype  \n",
      "---  ------                --------------  -----  \n",
      " 0   Rank                  467 non-null    int64  \n",
      " 1   Term Name             467 non-null    object \n",
      " 2   P-value               467 non-null    float64\n",
      " 3   Z-score               467 non-null    float64\n",
      " 4   Combined_Score        467 non-null    float64\n",
      " 5   Overlapping genes     467 non-null    object \n",
      " 6   Adjusted p-value      467 non-null    float64\n",
      " 7   Old p-value           467 non-null    int64  \n",
      " 8   Old Adjusted p-value  467 non-null    int64  \n",
      "dtypes: float64(4), int64(3), object(2)\n",
      "memory usage: 33.0+ KB\n"
     ]
    }
   ],
   "source": [
    "# obtenemos la infromación general del dataset de enrichment\n",
    "enrichment_info = {sheet: df.info() for sheet, df in enrichment.items()}\n",
    "enrichment_describe = {sheet: df.describe() for sheet, df in enrichment.items()}"
   ]
  },
  {
   "cell_type": "code",
   "execution_count": 23,
   "id": "711c3eb2",
   "metadata": {},
   "outputs": [
    {
     "name": "stdout",
     "output_type": "stream",
     "text": [
      "Valores nulos en Enrichment: {'Biological process': Rank                    0\n",
      "Term Name               0\n",
      "P-value                 0\n",
      "Z-score                 0\n",
      "Combined_Score          0\n",
      "Overlapping genes       0\n",
      "Adjusted p-value        0\n",
      "Old p-value             0\n",
      "Old Adjusted p-value    0\n",
      "dtype: int64, 'Molecular function': Rank                    0\n",
      "Term Name               0\n",
      "P-value                 0\n",
      "Z-score                 0\n",
      "Combined_Score          0\n",
      "Overlapping genes       0\n",
      "Adjusted p-value        0\n",
      "Old p-value             0\n",
      "Old Adjusted p-value    0\n",
      "dtype: int64, 'Cellular component': Rank                    0\n",
      "Term Name               0\n",
      "P-value                 0\n",
      "Z-score                 0\n",
      "Combined_Score          0\n",
      "Overlapping genes       0\n",
      "Adjusted p-value        0\n",
      "Old p-value             0\n",
      "Old Adjusted p-value    0\n",
      "dtype: int64}\n"
     ]
    }
   ],
   "source": [
    "# valores faltante por columnas\n",
    "print(\"Valores nulos en Enrichment:\", {sheet: df.isnull().sum() for sheet, df in enrichment.items()})\n",
    "\n"
   ]
  }
 ],
 "metadata": {
  "kernelspec": {
   "display_name": "Python 3",
   "language": "python",
   "name": "python3"
  },
  "language_info": {
   "codemirror_mode": {
    "name": "ipython",
    "version": 3
   },
   "file_extension": ".py",
   "mimetype": "text/x-python",
   "name": "python",
   "nbconvert_exporter": "python",
   "pygments_lexer": "ipython3",
   "version": "3.11.0"
  }
 },
 "nbformat": 4,
 "nbformat_minor": 5
}
