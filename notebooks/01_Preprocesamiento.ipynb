{
 "cells": [
  {
   "cell_type": "markdown",
   "id": "7783d764",
   "metadata": {},
   "source": [
    "# **0.1 Preprocesamiento de los datos**"
   ]
  },
  {
   "cell_type": "code",
   "execution_count": 1,
   "id": "9ff8c827",
   "metadata": {},
   "outputs": [],
   "source": [
    "# Importamos librería \n",
    "import pandas as pd\n",
    "import matplotlib.pyplot as plt\n",
    "import seaborn as sns\n",
    "from wordcloud import WordCloud\n",
    "import os"
   ]
  },
  {
   "cell_type": "code",
   "execution_count": 3,
   "id": "03a4c84b",
   "metadata": {},
   "outputs": [
    {
     "name": "stderr",
     "output_type": "stream",
     "text": [
      "c:\\Users\\Macarena Madrid\\AppData\\Local\\Programs\\Python\\Python311\\Lib\\site-packages\\openpyxl\\styles\\stylesheet.py:237: UserWarning: Workbook contains no default style, apply openpyxl's default\n",
      "  warn(\"Workbook contains no default style, apply openpyxl's default\")\n",
      "c:\\Users\\Macarena Madrid\\AppData\\Local\\Programs\\Python\\Python311\\Lib\\site-packages\\openpyxl\\styles\\stylesheet.py:237: UserWarning: Workbook contains no default style, apply openpyxl's default\n",
      "  warn(\"Workbook contains no default style, apply openpyxl's default\")\n"
     ]
    }
   ],
   "source": [
    "# Cargar datos\n",
    "data_dir = os.path.join(\"..\",\"data\",\"raw\")\n",
    "\n",
    "ppi = pd.read_csv(os.path.join(data_dir, \"1_PPI-network_Alzheimer_Disease_no-opentarget-filter.csv\"))\n",
    "targets = pd.read_excel(os.path.join(data_dir, \"3_Targets-score_Alzheimer_Disease_no-opentarget-filter.xlsx\"))\n",
    "topo = pd.read_csv(os.path.join(data_dir, \"topology_158_up_down_targets.csv\"))\n",
    "enrichment = pd.read_excel(os.path.join(data_dir, \"enrichment2.xlsx\"), sheet_name=None)  # Todas las hojas"
   ]
  },
  {
   "cell_type": "markdown",
   "id": "db71a89a",
   "metadata": {},
   "source": [
    "## Datos de PPI"
   ]
  },
  {
   "cell_type": "code",
   "execution_count": 5,
   "id": "d3f5b1ef",
   "metadata": {},
   "outputs": [
    {
     "name": "stdout",
     "output_type": "stream",
     "text": [
      "<class 'pandas.core.frame.DataFrame'>\n",
      "RangeIndex: 430206 entries, 0 to 430205\n",
      "Data columns (total 4 columns):\n",
      " #   Column             Non-Null Count   Dtype  \n",
      "---  ------             --------------   -----  \n",
      " 0   Prot_A             430206 non-null  object \n",
      " 1   Prot_B             430206 non-null  object \n",
      " 2   Interaction_score  430206 non-null  float64\n",
      " 3   Disease            430206 non-null  object \n",
      "dtypes: float64(1), object(3)\n",
      "memory usage: 13.1+ MB\n"
     ]
    },
    {
     "data": {
      "text/html": [
       "<div>\n",
       "<style scoped>\n",
       "    .dataframe tbody tr th:only-of-type {\n",
       "        vertical-align: middle;\n",
       "    }\n",
       "\n",
       "    .dataframe tbody tr th {\n",
       "        vertical-align: top;\n",
       "    }\n",
       "\n",
       "    .dataframe thead th {\n",
       "        text-align: right;\n",
       "    }\n",
       "</style>\n",
       "<table border=\"1\" class=\"dataframe\">\n",
       "  <thead>\n",
       "    <tr style=\"text-align: right;\">\n",
       "      <th></th>\n",
       "      <th>Interaction_score</th>\n",
       "    </tr>\n",
       "  </thead>\n",
       "  <tbody>\n",
       "    <tr>\n",
       "      <th>count</th>\n",
       "      <td>430206.000000</td>\n",
       "    </tr>\n",
       "    <tr>\n",
       "      <th>mean</th>\n",
       "      <td>0.621486</td>\n",
       "    </tr>\n",
       "    <tr>\n",
       "      <th>std</th>\n",
       "      <td>0.180953</td>\n",
       "    </tr>\n",
       "    <tr>\n",
       "      <th>min</th>\n",
       "      <td>0.400000</td>\n",
       "    </tr>\n",
       "    <tr>\n",
       "      <th>25%</th>\n",
       "      <td>0.473000</td>\n",
       "    </tr>\n",
       "    <tr>\n",
       "      <th>50%</th>\n",
       "      <td>0.575000</td>\n",
       "    </tr>\n",
       "    <tr>\n",
       "      <th>75%</th>\n",
       "      <td>0.728000</td>\n",
       "    </tr>\n",
       "    <tr>\n",
       "      <th>max</th>\n",
       "      <td>0.999000</td>\n",
       "    </tr>\n",
       "  </tbody>\n",
       "</table>\n",
       "</div>"
      ],
      "text/plain": [
       "       Interaction_score\n",
       "count      430206.000000\n",
       "mean            0.621486\n",
       "std             0.180953\n",
       "min             0.400000\n",
       "25%             0.473000\n",
       "50%             0.575000\n",
       "75%             0.728000\n",
       "max             0.999000"
      ]
     },
     "execution_count": 5,
     "metadata": {},
     "output_type": "execute_result"
    }
   ],
   "source": [
    "# obtenemos la infromación general del dataset de ppi\n",
    "ppi.info()\n",
    "ppi.describe() # estadísticas descriptivas"
   ]
  },
  {
   "cell_type": "code",
   "execution_count": 6,
   "id": "c2af8a19",
   "metadata": {},
   "outputs": [
    {
     "name": "stdout",
     "output_type": "stream",
     "text": [
      "Nº total de interacciones: 430206\n",
      "Nº proteínas únicas: 5390\n",
      "Nº duplicados: 0\n",
      "Nº self-loops: 0\n"
     ]
    }
   ],
   "source": [
    "# Conteo\n",
    "print(\"Nº total de interacciones:\", len(ppi))\n",
    "print(\"Nº proteínas únicas:\", len(pd.unique(ppi[['Prot_A', 'Prot_B']].values.ravel())))\n",
    "print(\"Nº duplicados:\", ppi.duplicated().sum())\n",
    "print(\"Nº self-loops:\", (ppi['Prot_A'] == ppi['Prot_B']).sum())\n",
    "\n"
   ]
  },
  {
   "cell_type": "code",
   "execution_count": 7,
   "id": "b5e51651",
   "metadata": {},
   "outputs": [
    {
     "data": {
      "text/plain": [
       "Prot_A               0\n",
       "Prot_B               0\n",
       "Interaction_score    0\n",
       "Disease              0\n",
       "dtype: int64"
      ]
     },
     "execution_count": 7,
     "metadata": {},
     "output_type": "execute_result"
    }
   ],
   "source": [
    "# valores faltante por columnas\n",
    "ppi.isnull().sum()"
   ]
  },
  {
   "cell_type": "code",
   "execution_count": 8,
   "id": "8a364453",
   "metadata": {},
   "outputs": [
    {
     "name": "stdout",
     "output_type": "stream",
     "text": [
      "430206\n"
     ]
    }
   ],
   "source": [
    "print(len(ppi))"
   ]
  },
  {
   "cell_type": "markdown",
   "id": "f33731c0",
   "metadata": {},
   "source": [
    "No hay valores faltantes, pero si es necesario eliminar la columna Disease ya que sabemos que solo se trabajarán con datos de Alzheimer."
   ]
  },
  {
   "cell_type": "markdown",
   "id": "249ba035",
   "metadata": {},
   "source": [
    "Interaction_score va de 0 a 1, y queremos ver o analizar las interacciones menos confiables, por eso los datos de Interaction_Score van desde 0.4"
   ]
  },
  {
   "cell_type": "code",
   "execution_count": 10,
   "id": "c3b9eafa",
   "metadata": {},
   "outputs": [
    {
     "name": "stdout",
     "output_type": "stream",
     "text": [
      "Archivo guardado en: ..\\data\\processed\\raw_cleaned\\ppi_clean.csv\n",
      "Total de interacciones después de limpieza: 430206\n"
     ]
    }
   ],
   "source": [
    "processed_dir = os.path.join(\"..\",\"data\",\"processed\",\"raw_cleaned\")\n",
    "\n",
    "# Eliminar columna 'Disease' del dataset de interacciones\n",
    "ppi_clean = ppi.drop(columns=[\"Disease\"])\n",
    "\n",
    "# Guardar la versión limpia\n",
    "ppi_clean.to_csv(os.path.join(processed_dir, \"ppi_clean.csv\"), index=False)\n",
    "\n",
    "# Verificación\n",
    "print(\"Archivo guardado en:\", os.path.join(processed_dir, \"ppi_clean.csv\"))\n",
    "print(\"Total de interacciones después de limpieza:\", len(ppi_clean))"
   ]
  },
  {
   "cell_type": "code",
   "execution_count": 11,
   "id": "bc0fe0d6",
   "metadata": {},
   "outputs": [
    {
     "name": "stdout",
     "output_type": "stream",
     "text": [
      "  Prot_A    Prot_B  Interaction_score\n",
      "0   DRD4      HTR7              0.441\n",
      "1   DRD4       LEP              0.457\n",
      "2   DRD4  CPX-2175              0.509\n",
      "3   DRD4   CPX-271              0.509\n",
      "4   DRD4   CPX-272              0.509\n"
     ]
    }
   ],
   "source": [
    "# Ver primeras filas del dataset limpio\n",
    "print(ppi_clean.head())"
   ]
  },
  {
   "cell_type": "markdown",
   "id": "43e48849",
   "metadata": {},
   "source": [
    "## Datos de target"
   ]
  },
  {
   "cell_type": "code",
   "execution_count": 12,
   "id": "dd5e7e6b",
   "metadata": {},
   "outputs": [
    {
     "name": "stdout",
     "output_type": "stream",
     "text": [
      "<class 'pandas.core.frame.DataFrame'>\n",
      "RangeIndex: 5390 entries, 0 to 5389\n",
      "Data columns (total 11 columns):\n",
      " #   Column                         Non-Null Count  Dtype  \n",
      "---  ------                         --------------  -----  \n",
      " 0   Target_name                    5390 non-null   object \n",
      " 1   Complex_participants           1487 non-null   object \n",
      " 2   Node_id                        5390 non-null   object \n",
      " 3   Uniprot_id                     5390 non-null   object \n",
      " 4   Target_type                    5390 non-null   object \n",
      " 5   Target_group                   5390 non-null   object \n",
      " 6   Source_db                      5390 non-null   object \n",
      " 7   Target_group_score             5390 non-null   float64\n",
      " 8   Target_group_score_normalized  5390 non-null   float64\n",
      " 9   Conectivity_Score              3821 non-null   float64\n",
      " 10  Disease                        5390 non-null   object \n",
      "dtypes: float64(3), object(8)\n",
      "memory usage: 463.3+ KB\n"
     ]
    },
    {
     "data": {
      "text/html": [
       "<div>\n",
       "<style scoped>\n",
       "    .dataframe tbody tr th:only-of-type {\n",
       "        vertical-align: middle;\n",
       "    }\n",
       "\n",
       "    .dataframe tbody tr th {\n",
       "        vertical-align: top;\n",
       "    }\n",
       "\n",
       "    .dataframe thead th {\n",
       "        text-align: right;\n",
       "    }\n",
       "</style>\n",
       "<table border=\"1\" class=\"dataframe\">\n",
       "  <thead>\n",
       "    <tr style=\"text-align: right;\">\n",
       "      <th></th>\n",
       "      <th>Target_group_score</th>\n",
       "      <th>Target_group_score_normalized</th>\n",
       "      <th>Conectivity_Score</th>\n",
       "    </tr>\n",
       "  </thead>\n",
       "  <tbody>\n",
       "    <tr>\n",
       "      <th>count</th>\n",
       "      <td>5390.000000</td>\n",
       "      <td>5390.000000</td>\n",
       "      <td>3821.000000</td>\n",
       "    </tr>\n",
       "    <tr>\n",
       "      <th>mean</th>\n",
       "      <td>1.635213</td>\n",
       "      <td>0.186356</td>\n",
       "      <td>0.732535</td>\n",
       "    </tr>\n",
       "    <tr>\n",
       "      <th>std</th>\n",
       "      <td>2.573158</td>\n",
       "      <td>0.144740</td>\n",
       "      <td>0.210551</td>\n",
       "    </tr>\n",
       "    <tr>\n",
       "      <th>min</th>\n",
       "      <td>0.100000</td>\n",
       "      <td>0.100000</td>\n",
       "      <td>0.348508</td>\n",
       "    </tr>\n",
       "    <tr>\n",
       "      <th>25%</th>\n",
       "      <td>0.100000</td>\n",
       "      <td>0.100000</td>\n",
       "      <td>0.606389</td>\n",
       "    </tr>\n",
       "    <tr>\n",
       "      <th>50%</th>\n",
       "      <td>0.100000</td>\n",
       "      <td>0.100000</td>\n",
       "      <td>0.715504</td>\n",
       "    </tr>\n",
       "    <tr>\n",
       "      <th>75%</th>\n",
       "      <td>5.000000</td>\n",
       "      <td>0.375625</td>\n",
       "      <td>0.830332</td>\n",
       "    </tr>\n",
       "    <tr>\n",
       "      <th>max</th>\n",
       "      <td>16.100000</td>\n",
       "      <td>1.000000</td>\n",
       "      <td>2.628702</td>\n",
       "    </tr>\n",
       "  </tbody>\n",
       "</table>\n",
       "</div>"
      ],
      "text/plain": [
       "       Target_group_score  Target_group_score_normalized  Conectivity_Score\n",
       "count         5390.000000                    5390.000000        3821.000000\n",
       "mean             1.635213                       0.186356           0.732535\n",
       "std              2.573158                       0.144740           0.210551\n",
       "min              0.100000                       0.100000           0.348508\n",
       "25%              0.100000                       0.100000           0.606389\n",
       "50%              0.100000                       0.100000           0.715504\n",
       "75%              5.000000                       0.375625           0.830332\n",
       "max             16.100000                       1.000000           2.628702"
      ]
     },
     "execution_count": 12,
     "metadata": {},
     "output_type": "execute_result"
    }
   ],
   "source": [
    "# obtenemos la infromación general del dataset de targets\n",
    "targets.info()\n",
    "targets.describe() # estadísticas descriptivas"
   ]
  },
  {
   "cell_type": "code",
   "execution_count": 14,
   "id": "701a4db9",
   "metadata": {},
   "outputs": [
    {
     "data": {
      "text/plain": [
       "Target_name                         0\n",
       "Complex_participants             3903\n",
       "Node_id                             0\n",
       "Uniprot_id                          0\n",
       "Target_type                         0\n",
       "Target_group                        0\n",
       "Source_db                           0\n",
       "Target_group_score                  0\n",
       "Target_group_score_normalized       0\n",
       "Conectivity_Score                1569\n",
       "Disease                             0\n",
       "dtype: int64"
      ]
     },
     "execution_count": 14,
     "metadata": {},
     "output_type": "execute_result"
    }
   ],
   "source": [
    "# valores faltante por columnas\n",
    "targets.isnull().sum()"
   ]
  },
  {
   "cell_type": "markdown",
   "id": "fb89dd99",
   "metadata": {},
   "source": [
    "Complex_participants me da 3902 valores nulos, ya que no todos los blancos son complejos proteicos.\n",
    "Conectivity_Score tiene 1569 valores nulos, se considerarán como una conectividad mínima o no disponible.\n",
    "Se rellenarán con 0 ambos datos nulos.\n"
   ]
  },
  {
   "cell_type": "code",
   "execution_count": 15,
   "id": "16cdaa27",
   "metadata": {},
   "outputs": [
    {
     "name": "stdout",
     "output_type": "stream",
     "text": [
      "Número de targets en el DataFrame de targets: 5390\n"
     ]
    }
   ],
   "source": [
    "# Conteo de targets en el DataFrame de targets\n",
    "num_targets = targets['Node_id'].nunique()\n",
    "print(f\"Número de targets en el DataFrame de targets: {num_targets}\")"
   ]
  },
  {
   "cell_type": "code",
   "execution_count": 16,
   "id": "a2673b16",
   "metadata": {},
   "outputs": [
    {
     "data": {
      "text/plain": [
       "Target_group\n",
       "T4                3823\n",
       "T2                1086\n",
       "T2, T3             200\n",
       "T2, T4             199\n",
       "T2, T3, T4          28\n",
       "T1, T2, T3          22\n",
       "T3                  15\n",
       "T1, T2               9\n",
       "T1, T2, T3, T4       7\n",
       "T3, T4               1\n",
       "Name: count, dtype: int64"
      ]
     },
     "execution_count": 16,
     "metadata": {},
     "output_type": "execute_result"
    }
   ],
   "source": [
    "# Obtenemos la cantidad de valores por clase de la variable \"Target_group\"\n",
    "\n",
    "targets.Target_group.value_counts() "
   ]
  },
  {
   "cell_type": "code",
   "execution_count": 40,
   "id": "f1163f06",
   "metadata": {},
   "outputs": [
    {
     "data": {
      "text/plain": [
       "Target_group\n",
       "T1, T2, T3, T4    1.000000\n",
       "T1, T2, T3        0.994375\n",
       "T1, T2            0.938125\n",
       "T2, T3, T4        0.437500\n",
       "T2, T3            0.431875\n",
       "T2, T4            0.381250\n",
       "T2                0.375625\n",
       "T3, T4            0.156250\n",
       "T3                0.150625\n",
       "T4                0.100000\n",
       "Name: Target_group_score_normalized, dtype: float64"
      ]
     },
     "execution_count": 40,
     "metadata": {},
     "output_type": "execute_result"
    }
   ],
   "source": [
    "# Agrupamos por Target_group y mostramos los valores únicos del score\n",
    "targets.groupby(\"Target_group\")[\"Target_group_score_normalized\"].unique()\n",
    "# sort\n",
    "targets.groupby(\"Target_group\")[\"Target_group_score_normalized\"].mean().sort_values(ascending=False)\n"
   ]
  },
  {
   "cell_type": "code",
   "execution_count": 36,
   "id": "723cfa31",
   "metadata": {},
   "outputs": [
    {
     "name": "stdout",
     "output_type": "stream",
     "text": [
      "T1: 38\n",
      "T2: 1551\n",
      "T3: 273\n",
      "T4: 4058\n"
     ]
    }
   ],
   "source": [
    "# Obtenemos la cantidad de valores por clase sin combinaciones de la variable \"Target_group\"\n",
    "from collections import Counter\n",
    "\n",
    "# Contar ocurrencias individuales en combinaciones\n",
    "conteo = Counter()\n",
    "targets[\"Target_group\"].dropna().astype(str).str.split(\",\").apply(lambda grupos: conteo.update([g.strip() for g in grupos]))\n",
    "\n",
    "for t in [\"T1\", \"T2\", \"T3\", \"T4\"]:\n",
    "    print(f\"{t}: {conteo[t]}\")\n"
   ]
  },
  {
   "cell_type": "code",
   "execution_count": 37,
   "id": "c34422ee",
   "metadata": {},
   "outputs": [
    {
     "name": "stdout",
     "output_type": "stream",
     "text": [
      "T1: 38 (0.64%)\n",
      "T2: 1551 (26.20%)\n",
      "T3: 273 (4.61%)\n",
      "T4: 4058 (68.55%)\n"
     ]
    }
   ],
   "source": [
    "# procentaje de ocurrencias individuales\n",
    "total = sum(conteo.values())\n",
    "for t in [\"T1\", \"T2\", \"T3\", \"T4\"]:\n",
    "    porcentaje = (conteo[t] / total) * 100\n",
    "    print(f\"{t}: {conteo[t]} ({porcentaje:.2f}%)\")\n",
    "    "
   ]
  },
  {
   "cell_type": "code",
   "execution_count": 20,
   "id": "f11fd913",
   "metadata": {},
   "outputs": [
    {
     "name": "stdout",
     "output_type": "stream",
     "text": [
      "\n",
      "Porcentaje de targets por grupo:\n",
      "T4: 70.93%\n",
      "T2: 20.15%\n",
      "T2, T3: 3.71%\n",
      "T2, T4: 3.69%\n",
      "T2, T3, T4: 0.52%\n",
      "T1, T2, T3: 0.41%\n",
      "T3: 0.28%\n",
      "T1, T2: 0.17%\n",
      "T1, T2, T3, T4: 0.13%\n",
      "T3, T4: 0.02%\n"
     ]
    }
   ],
   "source": [
    "# porcentaje de targets por grupo\n",
    "total_targets = len(targets)\n",
    "porcentaje_targets = targets['Target_group'].value_counts(normalize=True) * 100\n",
    "print(\"\\nPorcentaje de targets por grupo:\")\n",
    "for group, percentage in porcentaje_targets.items():\n",
    "    print(f\"{group}: {percentage:.2f}%\")\n",
    "    "
   ]
  },
  {
   "cell_type": "code",
   "execution_count": 18,
   "id": "e89f7074",
   "metadata": {},
   "outputs": [
    {
     "data": {
      "text/plain": [
       "Target_type\n",
       "SINGLE PROTEIN     3916\n",
       "PROTEIN COMPLEX    1474\n",
       "Name: count, dtype: int64"
      ]
     },
     "execution_count": 18,
     "metadata": {},
     "output_type": "execute_result"
    }
   ],
   "source": [
    "# Tipos de target\n",
    "targets['Target_type'].value_counts()"
   ]
  },
  {
   "cell_type": "code",
   "execution_count": 22,
   "id": "1fe74d34",
   "metadata": {},
   "outputs": [
    {
     "name": "stdout",
     "output_type": "stream",
     "text": [
      "Columnas finales: ['Target_name', 'Complex_participants', 'Node_id', 'Target_type', 'Target_group', 'Target_group_score_normalized', 'Conectivity_Score']\n",
      "Archivo guardado en: ..\\data\\processed\\raw_cleaned\\target_clean.csv\n"
     ]
    }
   ],
   "source": [
    "processed_dir = os.path.join(\"..\",\"data\",\"processed\",\"raw_cleaned\")\n",
    "\n",
    "# Rellenar valores nulos en el DataFrame original\n",
    "targets[\"Complex_participants\"] = targets[\"Complex_participants\"].fillna(\"0\")\n",
    "targets[\"Conectivity_Score\"] = targets[\"Conectivity_Score\"].fillna(0)\n",
    "\n",
    "# Eliminar columnas innecesarias\n",
    "target_clean = targets.drop(columns=[\n",
    "    \"Target_group_score\",        # ya tienes la versión normalizada\n",
    "    \"Disease\",                   # no se usará\n",
    "    \"Source_db\",                 # metadato no funcional\n",
    "    \"Uniprot_id\"                 # info redundante, no como feature\n",
    "])\n",
    "\n",
    "# Verificar columnas finales\n",
    "print(\"Columnas finales:\", target_clean.columns.tolist())\n",
    "\n",
    "# Guardar la versión limpia\n",
    "target_clean.to_csv(os.path.join(processed_dir, \"target_clean.csv\"), index=False)\n",
    "\n",
    "# Verificación\n",
    "print(\"Archivo guardado en:\", os.path.join(processed_dir, \"target_clean.csv\"))\n",
    "\n"
   ]
  },
  {
   "cell_type": "code",
   "execution_count": 23,
   "id": "4418f73b",
   "metadata": {},
   "outputs": [
    {
     "data": {
      "text/html": [
       "<div>\n",
       "<style scoped>\n",
       "    .dataframe tbody tr th:only-of-type {\n",
       "        vertical-align: middle;\n",
       "    }\n",
       "\n",
       "    .dataframe tbody tr th {\n",
       "        vertical-align: top;\n",
       "    }\n",
       "\n",
       "    .dataframe thead th {\n",
       "        text-align: right;\n",
       "    }\n",
       "</style>\n",
       "<table border=\"1\" class=\"dataframe\">\n",
       "  <thead>\n",
       "    <tr style=\"text-align: right;\">\n",
       "      <th></th>\n",
       "      <th>Target_name</th>\n",
       "      <th>Complex_participants</th>\n",
       "      <th>Node_id</th>\n",
       "      <th>Target_type</th>\n",
       "      <th>Target_group</th>\n",
       "      <th>Target_group_score_normalized</th>\n",
       "      <th>Conectivity_Score</th>\n",
       "    </tr>\n",
       "  </thead>\n",
       "  <tbody>\n",
       "    <tr>\n",
       "      <th>0</th>\n",
       "      <td>glutamate nmda receptor; grin1/grin2a</td>\n",
       "      <td>GRIN2D,GRIN1</td>\n",
       "      <td>CPX-289</td>\n",
       "      <td>PROTEIN COMPLEX</td>\n",
       "      <td>T1, T2, T3, T4</td>\n",
       "      <td>1.0</td>\n",
       "      <td>0.0</td>\n",
       "    </tr>\n",
       "    <tr>\n",
       "      <th>1</th>\n",
       "      <td>dna replication factor cdt1 (double parked hom...</td>\n",
       "      <td>CDT1,GMNN</td>\n",
       "      <td>CPX-659</td>\n",
       "      <td>PROTEIN COMPLEX</td>\n",
       "      <td>T1, T2, T3, T4</td>\n",
       "      <td>1.0</td>\n",
       "      <td>0.0</td>\n",
       "    </tr>\n",
       "    <tr>\n",
       "      <th>2</th>\n",
       "      <td>geminin</td>\n",
       "      <td>GMNN,MCIDAS</td>\n",
       "      <td>CPX-661</td>\n",
       "      <td>PROTEIN COMPLEX</td>\n",
       "      <td>T1, T2, T3, T4</td>\n",
       "      <td>1.0</td>\n",
       "      <td>0.0</td>\n",
       "    </tr>\n",
       "    <tr>\n",
       "      <th>3</th>\n",
       "      <td>nuclear receptor coactivator 2 (ncoa-2) (class...</td>\n",
       "      <td>NCOA2,PPARG</td>\n",
       "      <td>CPX-702</td>\n",
       "      <td>PROTEIN COMPLEX</td>\n",
       "      <td>T1, T2, T3, T4</td>\n",
       "      <td>1.0</td>\n",
       "      <td>0.0</td>\n",
       "    </tr>\n",
       "    <tr>\n",
       "      <th>4</th>\n",
       "      <td>nuclear receptor coactivator 1 (ncoa-1) (ec 2....</td>\n",
       "      <td>NCOA1,PPARG</td>\n",
       "      <td>CPX-711</td>\n",
       "      <td>PROTEIN COMPLEX</td>\n",
       "      <td>T1, T2, T3, T4</td>\n",
       "      <td>1.0</td>\n",
       "      <td>0.0</td>\n",
       "    </tr>\n",
       "  </tbody>\n",
       "</table>\n",
       "</div>"
      ],
      "text/plain": [
       "                                         Target_name Complex_participants  \\\n",
       "0              glutamate nmda receptor; grin1/grin2a         GRIN2D,GRIN1   \n",
       "1  dna replication factor cdt1 (double parked hom...            CDT1,GMNN   \n",
       "2                                            geminin          GMNN,MCIDAS   \n",
       "3  nuclear receptor coactivator 2 (ncoa-2) (class...          NCOA2,PPARG   \n",
       "4  nuclear receptor coactivator 1 (ncoa-1) (ec 2....          NCOA1,PPARG   \n",
       "\n",
       "   Node_id      Target_type    Target_group  Target_group_score_normalized  \\\n",
       "0  CPX-289  PROTEIN COMPLEX  T1, T2, T3, T4                            1.0   \n",
       "1  CPX-659  PROTEIN COMPLEX  T1, T2, T3, T4                            1.0   \n",
       "2  CPX-661  PROTEIN COMPLEX  T1, T2, T3, T4                            1.0   \n",
       "3  CPX-702  PROTEIN COMPLEX  T1, T2, T3, T4                            1.0   \n",
       "4  CPX-711  PROTEIN COMPLEX  T1, T2, T3, T4                            1.0   \n",
       "\n",
       "   Conectivity_Score  \n",
       "0                0.0  \n",
       "1                0.0  \n",
       "2                0.0  \n",
       "3                0.0  \n",
       "4                0.0  "
      ]
     },
     "execution_count": 23,
     "metadata": {},
     "output_type": "execute_result"
    }
   ],
   "source": [
    "target_clean.head()"
   ]
  },
  {
   "cell_type": "markdown",
   "id": "1a0209c0",
   "metadata": {},
   "source": [
    "### Gráficas para Targets"
   ]
  },
  {
   "cell_type": "code",
   "execution_count": 24,
   "id": "ae2a8ef6",
   "metadata": {},
   "outputs": [],
   "source": [
    "# Cargar los datos limpios\n",
    "data_dir = os.path.join(\"..\",\"data\",\"processed\",\"raw_cleaned\")\n",
    "targets_c = pd.read_csv(os.path.join(data_dir, \"target_clean.csv\"))"
   ]
  },
  {
   "cell_type": "code",
   "execution_count": 30,
   "id": "f6050fb6",
   "metadata": {},
   "outputs": [],
   "source": [
    "# Distribución de clases Target_group (frecuencia y procentaje)\n",
    "\n",
    "fig_dir = os.path.join(\"..\",\"results\",\"figures\")\n",
    "\n",
    "plt.figure(figsize=(8, 5))\n",
    "targets_c[\"Target_group\"].value_counts().plot(kind=\"bar\", color=\"skyblue\")\n",
    "plt.title(\"Distribución de clases en Target_group\")\n",
    "plt.ylabel(\"Frecuencia\")\n",
    "plt.xticks(rotation=45)\n",
    "plt.tight_layout()\n",
    "plt.savefig(os.path.join(fig_dir, \"target_group_distribution.png\"))\n",
    "plt.close()"
   ]
  },
  {
   "cell_type": "code",
   "execution_count": 31,
   "id": "6b5b99cb",
   "metadata": {},
   "outputs": [],
   "source": [
    "# Distribución del Conectivity_Score\n",
    "fig_dir = os.path.join(\"..\",\"results\",\"figures\")\n",
    "\n",
    "plt.figure(figsize=(6, 4))\n",
    "sns.histplot(targets_c[\"Conectivity_Score\"], bins=30, kde=True)\n",
    "plt.title(\"Distribución de Conectivity_Score\")\n",
    "plt.xlabel(\"Conectivity Score\")\n",
    "plt.tight_layout()\n",
    "plt.savefig(os.path.join(fig_dir, \"conectivity_score_distribution.png\"))\n",
    "plt.close()"
   ]
  },
  {
   "cell_type": "markdown",
   "id": "cdfaca4f",
   "metadata": {},
   "source": [
    "## Datos de topología"
   ]
  },
  {
   "cell_type": "code",
   "execution_count": 27,
   "id": "87b7c052",
   "metadata": {},
   "outputs": [
    {
     "name": "stdout",
     "output_type": "stream",
     "text": [
      "<class 'pandas.core.frame.DataFrame'>\n",
      "RangeIndex: 158 entries, 0 to 157\n",
      "Data columns (total 11 columns):\n",
      " #   Column                         Non-Null Count  Dtype  \n",
      "---  ------                         --------------  -----  \n",
      " 0   Node_id                        158 non-null    object \n",
      " 1   DEG                            158 non-null    object \n",
      " 2   DC                             158 non-null    float64\n",
      " 3   BC                             158 non-null    float64\n",
      " 4   CC                             158 non-null    float64\n",
      " 5   EC                             158 non-null    float64\n",
      " 6   CEN                            158 non-null    float64\n",
      " 7   ECC                            158 non-null    float64\n",
      " 8   RAD                            158 non-null    float64\n",
      " 9   Target_group_score_normalized  158 non-null    float64\n",
      " 10  Conectivity_Score              158 non-null    float64\n",
      "dtypes: float64(9), object(2)\n",
      "memory usage: 13.7+ KB\n"
     ]
    },
    {
     "data": {
      "text/html": [
       "<div>\n",
       "<style scoped>\n",
       "    .dataframe tbody tr th:only-of-type {\n",
       "        vertical-align: middle;\n",
       "    }\n",
       "\n",
       "    .dataframe tbody tr th {\n",
       "        vertical-align: top;\n",
       "    }\n",
       "\n",
       "    .dataframe thead th {\n",
       "        text-align: right;\n",
       "    }\n",
       "</style>\n",
       "<table border=\"1\" class=\"dataframe\">\n",
       "  <thead>\n",
       "    <tr style=\"text-align: right;\">\n",
       "      <th></th>\n",
       "      <th>DC</th>\n",
       "      <th>BC</th>\n",
       "      <th>CC</th>\n",
       "      <th>EC</th>\n",
       "      <th>CEN</th>\n",
       "      <th>ECC</th>\n",
       "      <th>RAD</th>\n",
       "      <th>Target_group_score_normalized</th>\n",
       "      <th>Conectivity_Score</th>\n",
       "    </tr>\n",
       "  </thead>\n",
       "  <tbody>\n",
       "    <tr>\n",
       "      <th>count</th>\n",
       "      <td>158.000000</td>\n",
       "      <td>158.000000</td>\n",
       "      <td>158.000000</td>\n",
       "      <td>158.000000</td>\n",
       "      <td>158.000000</td>\n",
       "      <td>158.000000</td>\n",
       "      <td>158.000000</td>\n",
       "      <td>1.580000e+02</td>\n",
       "      <td>158.000000</td>\n",
       "    </tr>\n",
       "    <tr>\n",
       "      <th>mean</th>\n",
       "      <td>0.142319</td>\n",
       "      <td>0.035101</td>\n",
       "      <td>0.716080</td>\n",
       "      <td>0.211671</td>\n",
       "      <td>0.678761</td>\n",
       "      <td>0.667722</td>\n",
       "      <td>0.836776</td>\n",
       "      <td>1.000000e-01</td>\n",
       "      <td>0.754879</td>\n",
       "    </tr>\n",
       "    <tr>\n",
       "      <th>std</th>\n",
       "      <td>0.130303</td>\n",
       "      <td>0.062428</td>\n",
       "      <td>0.069712</td>\n",
       "      <td>0.222216</td>\n",
       "      <td>0.190991</td>\n",
       "      <td>0.075939</td>\n",
       "      <td>0.055577</td>\n",
       "      <td>2.784383e-17</td>\n",
       "      <td>0.148067</td>\n",
       "    </tr>\n",
       "    <tr>\n",
       "      <th>min</th>\n",
       "      <td>0.000935</td>\n",
       "      <td>0.000000</td>\n",
       "      <td>0.501640</td>\n",
       "      <td>0.000163</td>\n",
       "      <td>0.162162</td>\n",
       "      <td>0.500000</td>\n",
       "      <td>0.604327</td>\n",
       "      <td>1.000000e-01</td>\n",
       "      <td>0.395446</td>\n",
       "    </tr>\n",
       "    <tr>\n",
       "      <th>25%</th>\n",
       "      <td>0.033910</td>\n",
       "      <td>0.005040</td>\n",
       "      <td>0.670897</td>\n",
       "      <td>0.020050</td>\n",
       "      <td>0.552987</td>\n",
       "      <td>0.600000</td>\n",
       "      <td>0.804626</td>\n",
       "      <td>1.000000e-01</td>\n",
       "      <td>0.653999</td>\n",
       "    </tr>\n",
       "    <tr>\n",
       "      <th>50%</th>\n",
       "      <td>0.101029</td>\n",
       "      <td>0.013558</td>\n",
       "      <td>0.715885</td>\n",
       "      <td>0.188236</td>\n",
       "      <td>0.678758</td>\n",
       "      <td>0.600000</td>\n",
       "      <td>0.841935</td>\n",
       "      <td>1.000000e-01</td>\n",
       "      <td>0.762254</td>\n",
       "    </tr>\n",
       "    <tr>\n",
       "      <th>75%</th>\n",
       "      <td>0.207671</td>\n",
       "      <td>0.038935</td>\n",
       "      <td>0.755490</td>\n",
       "      <td>0.321540</td>\n",
       "      <td>0.818279</td>\n",
       "      <td>0.750000</td>\n",
       "      <td>0.871100</td>\n",
       "      <td>1.000000e-01</td>\n",
       "      <td>0.873683</td>\n",
       "    </tr>\n",
       "    <tr>\n",
       "      <th>max</th>\n",
       "      <td>0.651076</td>\n",
       "      <td>0.407500</td>\n",
       "      <td>0.924802</td>\n",
       "      <td>0.970025</td>\n",
       "      <td>1.000000</td>\n",
       "      <td>0.750000</td>\n",
       "      <td>0.967615</td>\n",
       "      <td>1.000000e-01</td>\n",
       "      <td>1.237862</td>\n",
       "    </tr>\n",
       "  </tbody>\n",
       "</table>\n",
       "</div>"
      ],
      "text/plain": [
       "               DC          BC          CC          EC         CEN         ECC  \\\n",
       "count  158.000000  158.000000  158.000000  158.000000  158.000000  158.000000   \n",
       "mean     0.142319    0.035101    0.716080    0.211671    0.678761    0.667722   \n",
       "std      0.130303    0.062428    0.069712    0.222216    0.190991    0.075939   \n",
       "min      0.000935    0.000000    0.501640    0.000163    0.162162    0.500000   \n",
       "25%      0.033910    0.005040    0.670897    0.020050    0.552987    0.600000   \n",
       "50%      0.101029    0.013558    0.715885    0.188236    0.678758    0.600000   \n",
       "75%      0.207671    0.038935    0.755490    0.321540    0.818279    0.750000   \n",
       "max      0.651076    0.407500    0.924802    0.970025    1.000000    0.750000   \n",
       "\n",
       "              RAD  Target_group_score_normalized  Conectivity_Score  \n",
       "count  158.000000                   1.580000e+02         158.000000  \n",
       "mean     0.836776                   1.000000e-01           0.754879  \n",
       "std      0.055577                   2.784383e-17           0.148067  \n",
       "min      0.604327                   1.000000e-01           0.395446  \n",
       "25%      0.804626                   1.000000e-01           0.653999  \n",
       "50%      0.841935                   1.000000e-01           0.762254  \n",
       "75%      0.871100                   1.000000e-01           0.873683  \n",
       "max      0.967615                   1.000000e-01           1.237862  "
      ]
     },
     "execution_count": 27,
     "metadata": {},
     "output_type": "execute_result"
    }
   ],
   "source": [
    "# obtenemos la infromación general del dataset de topologia\n",
    "topo.info()\n",
    "topo.describe() # estadísticas descriptivas"
   ]
  },
  {
   "cell_type": "code",
   "execution_count": 28,
   "id": "a404673e",
   "metadata": {},
   "outputs": [
    {
     "data": {
      "text/plain": [
       "Node_id                          0\n",
       "DEG                              0\n",
       "DC                               0\n",
       "BC                               0\n",
       "CC                               0\n",
       "EC                               0\n",
       "CEN                              0\n",
       "ECC                              0\n",
       "RAD                              0\n",
       "Target_group_score_normalized    0\n",
       "Conectivity_Score                0\n",
       "dtype: int64"
      ]
     },
     "execution_count": 28,
     "metadata": {},
     "output_type": "execute_result"
    }
   ],
   "source": [
    "# valores faltante por columnas\n",
    "topo.isnull().sum()"
   ]
  },
  {
   "cell_type": "code",
   "execution_count": 29,
   "id": "ffcfa0a5",
   "metadata": {},
   "outputs": [
    {
     "name": "stdout",
     "output_type": "stream",
     "text": [
      "Target_group\n",
      "T4    158\n",
      "Name: count, dtype: int64\n"
     ]
    }
   ],
   "source": [
    "# Unir topo_clean con target_clean según node_id\n",
    "topo_con_target = pd.merge(topo, target_clean[['Node_id', 'Target_group']], on='Node_id', how='left')\n",
    "\n",
    "# Contar cuántos node_id de topo_clean pertenecen a cada target_group\n",
    "conteo = topo_con_target['Target_group'].value_counts(dropna=False)\n",
    "\n",
    "# Mostrar resultados\n",
    "print(conteo)"
   ]
  },
  {
   "cell_type": "code",
   "execution_count": 32,
   "id": "760fd8b9",
   "metadata": {},
   "outputs": [
    {
     "name": "stdout",
     "output_type": "stream",
     "text": [
      "Archivo guardado en: ..\\data\\processed\\raw_cleaned\\topo_clean.csv\n",
      "Total de datos topológicos: 158\n"
     ]
    }
   ],
   "source": [
    "processed_dir = os.path.join(\"..\",\"data\",\"processed\",\"raw_cleaned\")\n",
    "\n",
    "# Filtrar para mantener solo las proteínas presentes en target_clean\n",
    "topo_clean = topo[topo['Node_id'].isin(target_clean['Node_id'])].copy()\n",
    "\n",
    "#Cambiar nombre de Conectivity_Score a Conectivity_score_topo\n",
    "topo_clean.rename(columns={\"Conectivity_Score\": \"Conectivity_score_topo\"}, inplace=True)\n",
    "\n",
    "# Guardar la versión limpia (mismo nombre que la variable)\n",
    "topo_clean.to_csv(os.path.join(processed_dir, \"topo_clean.csv\"), index=False)\n",
    "\n",
    "# Verificación\n",
    "print(\"Archivo guardado en:\", os.path.join(processed_dir, \"topo_clean.csv\"))\n",
    "print(\"Total de datos topológicos:\", len(topo_clean))\n"
   ]
  },
  {
   "cell_type": "code",
   "execution_count": 33,
   "id": "93a7f7be",
   "metadata": {},
   "outputs": [
    {
     "data": {
      "text/html": [
       "<div>\n",
       "<style scoped>\n",
       "    .dataframe tbody tr th:only-of-type {\n",
       "        vertical-align: middle;\n",
       "    }\n",
       "\n",
       "    .dataframe tbody tr th {\n",
       "        vertical-align: top;\n",
       "    }\n",
       "\n",
       "    .dataframe thead th {\n",
       "        text-align: right;\n",
       "    }\n",
       "</style>\n",
       "<table border=\"1\" class=\"dataframe\">\n",
       "  <thead>\n",
       "    <tr style=\"text-align: right;\">\n",
       "      <th></th>\n",
       "      <th>Node_id</th>\n",
       "      <th>DEG</th>\n",
       "      <th>DC</th>\n",
       "      <th>BC</th>\n",
       "      <th>CC</th>\n",
       "      <th>EC</th>\n",
       "      <th>CEN</th>\n",
       "      <th>ECC</th>\n",
       "      <th>RAD</th>\n",
       "      <th>Target_group_score_normalized</th>\n",
       "      <th>Conectivity_score_topo</th>\n",
       "    </tr>\n",
       "  </thead>\n",
       "  <tbody>\n",
       "    <tr>\n",
       "      <th>0</th>\n",
       "      <td>AGT</td>\n",
       "      <td>Up</td>\n",
       "      <td>0.488307</td>\n",
       "      <td>0.359142</td>\n",
       "      <td>0.891952</td>\n",
       "      <td>0.548342</td>\n",
       "      <td>0.241584</td>\n",
       "      <td>0.75</td>\n",
       "      <td>0.951754</td>\n",
       "      <td>0.1</td>\n",
       "      <td>0.925770</td>\n",
       "    </tr>\n",
       "    <tr>\n",
       "      <th>1</th>\n",
       "      <td>CPX-8674</td>\n",
       "      <td>Down</td>\n",
       "      <td>0.238541</td>\n",
       "      <td>0.012837</td>\n",
       "      <td>0.742585</td>\n",
       "      <td>0.357214</td>\n",
       "      <td>0.565671</td>\n",
       "      <td>0.75</td>\n",
       "      <td>0.861938</td>\n",
       "      <td>0.1</td>\n",
       "      <td>0.918033</td>\n",
       "    </tr>\n",
       "    <tr>\n",
       "      <th>2</th>\n",
       "      <td>CPX-8675</td>\n",
       "      <td>Down</td>\n",
       "      <td>0.226380</td>\n",
       "      <td>0.011948</td>\n",
       "      <td>0.736731</td>\n",
       "      <td>0.341825</td>\n",
       "      <td>0.578947</td>\n",
       "      <td>0.75</td>\n",
       "      <td>0.857677</td>\n",
       "      <td>0.1</td>\n",
       "      <td>0.941751</td>\n",
       "    </tr>\n",
       "    <tr>\n",
       "      <th>3</th>\n",
       "      <td>APOE</td>\n",
       "      <td>Up</td>\n",
       "      <td>0.532273</td>\n",
       "      <td>0.384610</td>\n",
       "      <td>0.902188</td>\n",
       "      <td>0.580460</td>\n",
       "      <td>0.216216</td>\n",
       "      <td>0.75</td>\n",
       "      <td>0.956820</td>\n",
       "      <td>0.1</td>\n",
       "      <td>0.908044</td>\n",
       "    </tr>\n",
       "    <tr>\n",
       "      <th>4</th>\n",
       "      <td>ALDH7A1</td>\n",
       "      <td>Up</td>\n",
       "      <td>0.179607</td>\n",
       "      <td>0.080833</td>\n",
       "      <td>0.767238</td>\n",
       "      <td>0.256238</td>\n",
       "      <td>0.497392</td>\n",
       "      <td>0.75</td>\n",
       "      <td>0.879172</td>\n",
       "      <td>0.1</td>\n",
       "      <td>0.832724</td>\n",
       "    </tr>\n",
       "  </tbody>\n",
       "</table>\n",
       "</div>"
      ],
      "text/plain": [
       "    Node_id   DEG        DC        BC        CC        EC       CEN   ECC  \\\n",
       "0       AGT    Up  0.488307  0.359142  0.891952  0.548342  0.241584  0.75   \n",
       "1  CPX-8674  Down  0.238541  0.012837  0.742585  0.357214  0.565671  0.75   \n",
       "2  CPX-8675  Down  0.226380  0.011948  0.736731  0.341825  0.578947  0.75   \n",
       "3      APOE    Up  0.532273  0.384610  0.902188  0.580460  0.216216  0.75   \n",
       "4   ALDH7A1    Up  0.179607  0.080833  0.767238  0.256238  0.497392  0.75   \n",
       "\n",
       "        RAD  Target_group_score_normalized  Conectivity_score_topo  \n",
       "0  0.951754                            0.1                0.925770  \n",
       "1  0.861938                            0.1                0.918033  \n",
       "2  0.857677                            0.1                0.941751  \n",
       "3  0.956820                            0.1                0.908044  \n",
       "4  0.879172                            0.1                0.832724  "
      ]
     },
     "execution_count": 33,
     "metadata": {},
     "output_type": "execute_result"
    }
   ],
   "source": [
    "topo_clean.head()"
   ]
  },
  {
   "cell_type": "code",
   "execution_count": 34,
   "id": "d359bda0",
   "metadata": {},
   "outputs": [
    {
     "name": "stdout",
     "output_type": "stream",
     "text": [
      "0\n",
      "[]\n"
     ]
    }
   ],
   "source": [
    "# Obtener Node_id que no fueron considerados\n",
    "no_consideradas = topo[~topo['Node_id'].isin(target_clean['Node_id'])]\n",
    "\n",
    "# Mostrar resultados\n",
    "print(no_consideradas.shape[0])  # cuántas son\n",
    "print(no_consideradas['Node_id'].tolist())  # listado de proteínas"
   ]
  },
  {
   "cell_type": "markdown",
   "id": "feb179f4",
   "metadata": {},
   "source": [
    "### Gráficas para Topo"
   ]
  },
  {
   "cell_type": "code",
   "execution_count": 41,
   "id": "81cffa4b",
   "metadata": {},
   "outputs": [],
   "source": [
    "# Cargar los datos limpios\n",
    "import os\n",
    "import pandas as pd\n",
    "data_dir = os.path.join(\"..\",\"data\",\"processed\",\"raw_cleaned\")\n",
    "topo_c = pd.read_csv(os.path.join(data_dir, \"topo_clean.csv\"))\n",
    "target_c = pd.read_csv(os.path.join(data_dir, \"target_clean.csv\"))"
   ]
  },
  {
   "cell_type": "code",
   "execution_count": 43,
   "id": "53d168cc",
   "metadata": {},
   "outputs": [
    {
     "data": {
      "text/plain": [
       "DEG\n",
       "Down    91\n",
       "Up      67\n",
       "Name: count, dtype: int64"
      ]
     },
     "execution_count": 43,
     "metadata": {},
     "output_type": "execute_result"
    }
   ],
   "source": [
    "# Distribución Prediction\n",
    "topo_c['DEG'].value_counts()"
   ]
  },
  {
   "cell_type": "code",
   "execution_count": 44,
   "id": "fe41f70b",
   "metadata": {},
   "outputs": [
    {
     "name": "stdout",
     "output_type": "stream",
     "text": [
      "Distribución de Target_type:\n",
      "Target_type\n",
      "SINGLE PROTEIN     80\n",
      "PROTEIN COMPLEX    78\n",
      "Name: count, dtype: int64\n"
     ]
    }
   ],
   "source": [
    "# Distribución de target_type\n",
    "merged = pd.merge(topo_c, target_c[['Node_id', 'Target_type']], on='Node_id', how='inner')\n",
    "dist = merged['Target_type'].value_counts().sort_values(ascending=False)\n",
    "print(\"Distribución de Target_type:\")\n",
    "print(dist)\n"
   ]
  },
  {
   "cell_type": "code",
   "execution_count": 45,
   "id": "85884caa",
   "metadata": {},
   "outputs": [],
   "source": [
    "# Histograma de cada métrica topológica\n",
    "fig_dir = os.path.join(\"..\",\"results\",\"figures\")\n",
    "\n",
    "metrics = [\"DC\", \"BC\", \"CC\", \"EC\", \"CEN\", \"ECC\", \"RAD\", \"Conectivity_score_topo\"]\n",
    "for metric in metrics:\n",
    "    plt.figure(figsize=(6, 4))\n",
    "    sns.histplot(topo_c[metric], bins=30, kde=True)\n",
    "    plt.title(f\"Distribución de {metric}\")\n",
    "    plt.tight_layout()\n",
    "    plt.savefig(os.path.join(fig_dir, f\"topo_{metric}_distribution.png\"))\n",
    "    plt.close()"
   ]
  },
  {
   "cell_type": "code",
   "execution_count": 46,
   "id": "45169abe",
   "metadata": {},
   "outputs": [],
   "source": [
    "# Heatmap de correlación de las métricas topológicas\n",
    "fig_dir = os.path.join(\"..\",\"results\",\"figures\")\n",
    "\n",
    "plt.figure(figsize=(8, 6))\n",
    "sns.heatmap(topo_c[metrics].corr(), annot=True, fmt=\".2f\", cmap=\"viridis\")\n",
    "plt.title(\"Correlación entre métricas topológicas\")\n",
    "plt.tight_layout()\n",
    "plt.savefig(os.path.join(fig_dir, \"topo_correlation_heatmap.png\"))\n",
    "plt.close()\n"
   ]
  },
  {
   "cell_type": "markdown",
   "id": "bcf10a3b",
   "metadata": {},
   "source": [
    "## Datos de enriquecimiento"
   ]
  },
  {
   "cell_type": "code",
   "execution_count": 47,
   "id": "c1168591",
   "metadata": {},
   "outputs": [
    {
     "name": "stdout",
     "output_type": "stream",
     "text": [
      "<class 'pandas.core.frame.DataFrame'>\n",
      "RangeIndex: 5352 entries, 0 to 5351\n",
      "Data columns (total 9 columns):\n",
      " #   Column                Non-Null Count  Dtype  \n",
      "---  ------                --------------  -----  \n",
      " 0   Rank                  5352 non-null   int64  \n",
      " 1   Term Name             5352 non-null   object \n",
      " 2   P-value               5352 non-null   float64\n",
      " 3   Z-score               5352 non-null   float64\n",
      " 4   Combined_Score        5352 non-null   float64\n",
      " 5   Overlapping genes     5352 non-null   object \n",
      " 6   Adjusted p-value      5352 non-null   float64\n",
      " 7   Old p-value           5352 non-null   int64  \n",
      " 8   Old Adjusted p-value  5352 non-null   int64  \n",
      "dtypes: float64(4), int64(3), object(2)\n",
      "memory usage: 376.4+ KB\n",
      "<class 'pandas.core.frame.DataFrame'>\n",
      "RangeIndex: 1109 entries, 0 to 1108\n",
      "Data columns (total 9 columns):\n",
      " #   Column                Non-Null Count  Dtype  \n",
      "---  ------                --------------  -----  \n",
      " 0   Rank                  1109 non-null   int64  \n",
      " 1   Term Name             1109 non-null   object \n",
      " 2   P-value               1109 non-null   float64\n",
      " 3   Z-score               1109 non-null   float64\n",
      " 4   Combined_Score        1109 non-null   float64\n",
      " 5   Overlapping genes     1109 non-null   object \n",
      " 6   Adjusted p-value      1109 non-null   float64\n",
      " 7   Old p-value           1109 non-null   int64  \n",
      " 8   Old Adjusted p-value  1109 non-null   int64  \n",
      "dtypes: float64(4), int64(3), object(2)\n",
      "memory usage: 78.1+ KB\n",
      "<class 'pandas.core.frame.DataFrame'>\n",
      "RangeIndex: 467 entries, 0 to 466\n",
      "Data columns (total 9 columns):\n",
      " #   Column                Non-Null Count  Dtype  \n",
      "---  ------                --------------  -----  \n",
      " 0   Rank                  467 non-null    int64  \n",
      " 1   Term Name             467 non-null    object \n",
      " 2   P-value               467 non-null    float64\n",
      " 3   Z-score               467 non-null    float64\n",
      " 4   Combined_Score        467 non-null    float64\n",
      " 5   Overlapping genes     467 non-null    object \n",
      " 6   Adjusted p-value      467 non-null    float64\n",
      " 7   Old p-value           467 non-null    int64  \n",
      " 8   Old Adjusted p-value  467 non-null    int64  \n",
      "dtypes: float64(4), int64(3), object(2)\n",
      "memory usage: 33.0+ KB\n"
     ]
    }
   ],
   "source": [
    "# obtenemos la infromación general del dataset de enrichment\n",
    "enrichment_info = {sheet: df.info() for sheet, df in enrichment.items()}"
   ]
  },
  {
   "cell_type": "markdown",
   "id": "caea52d7",
   "metadata": {},
   "source": [
    "BP tiene solo 5352 entradas, MF 1109 y CC 467. Lo que da un total de 6.928 Ontologías."
   ]
  },
  {
   "cell_type": "code",
   "execution_count": 48,
   "id": "4beb3f40",
   "metadata": {},
   "outputs": [
    {
     "name": "stdout",
     "output_type": "stream",
     "text": [
      "\n",
      "Descripción estadística para: Biological process\n",
      "              Rank        P-value        Z-score  Combined_Score  \\\n",
      "count  5352.000000   5.352000e+03    5352.000000    5.352000e+03   \n",
      "mean   2676.500000   1.874399e-01    3170.913153    4.271678e+04   \n",
      "std    1545.133651   2.734338e-01   22435.668584    6.919208e+05   \n",
      "min       1.000000  2.196107e-120       0.014563    7.158492e-08   \n",
      "25%    1338.750000   1.163665e-03       1.545482    2.272210e+00   \n",
      "50%    2676.500000   4.158506e-02       2.625268    9.755728e+00   \n",
      "75%    4014.250000   2.727592e-01       4.182365    3.341058e+01   \n",
      "max    5352.000000   9.999954e-01  713592.000000    4.240141e+07   \n",
      "\n",
      "       Adjusted p-value  Old p-value  Old Adjusted p-value  \n",
      "count      5.352000e+03       5352.0                5352.0  \n",
      "mean       2.255008e-01          0.0                   0.0  \n",
      "std        2.906253e-01          0.0                   0.0  \n",
      "min       1.175357e-116          0.0                   0.0  \n",
      "25%        4.609869e-03          0.0                   0.0  \n",
      "50%        7.933669e-02          0.0                   0.0  \n",
      "75%        3.631361e-01          0.0                   0.0  \n",
      "max        9.999954e-01          0.0                   0.0  \n",
      "\n",
      "Descripción estadística para: Molecular function\n",
      "              Rank        P-value        Z-score  Combined_Score  \\\n",
      "count  1109.000000   1.109000e+03    1109.000000    1.109000e+03   \n",
      "mean    555.000000   2.935878e-01    5551.457830    7.198179e+04   \n",
      "std     320.285029   3.322863e-01   28904.423464    6.075011e+05   \n",
      "min       1.000000  4.514513e-115       0.005554    3.561640e-08   \n",
      "25%     278.000000   5.047413e-03       1.098640    7.855297e-01   \n",
      "50%     555.000000   1.370898e-01       2.060462    4.485426e+00   \n",
      "75%     832.000000   5.261419e-01       4.121862    2.494599e+01   \n",
      "max    1109.000000   9.999963e-01  444312.000000    1.642292e+07   \n",
      "\n",
      "       Adjusted p-value  Old p-value  Old Adjusted p-value  \n",
      "count      1.109000e+03       1109.0                1109.0  \n",
      "mean       3.809224e-01          0.0                   0.0  \n",
      "std        3.615768e-01          0.0                   0.0  \n",
      "min       5.006595e-112          0.0                   0.0  \n",
      "25%        2.013518e-02          0.0                   0.0  \n",
      "50%        2.729490e-01          0.0                   0.0  \n",
      "75%        6.946326e-01          0.0                   0.0  \n",
      "max        9.999963e-01          0.0                   0.0  \n",
      "\n",
      "Descripción estadística para: Cellular component\n",
      "             Rank        P-value        Z-score  Combined_Score  \\\n",
      "count  467.000000   4.670000e+02     467.000000    4.670000e+02   \n",
      "mean   234.000000   1.357946e-01   13987.265077    1.926003e+05   \n",
      "std    134.955548   2.527695e-01   46099.538657    8.714369e+05   \n",
      "min      1.000000  7.988299e-104       0.171411    7.942886e-05   \n",
      "25%    117.500000   5.057186e-06       1.782917    4.808708e+00   \n",
      "50%    234.000000   3.723542e-03       2.888010    2.224730e+01   \n",
      "75%    350.500000   1.126298e-01       6.577761    7.952659e+01   \n",
      "max    467.000000   9.995367e-01  363528.000000    1.099077e+07   \n",
      "\n",
      "       Adjusted p-value  Old p-value  Old Adjusted p-value  \n",
      "count      4.670000e+02        467.0                 467.0  \n",
      "mean       1.530315e-01          0.0                   0.0  \n",
      "std        2.661614e-01          0.0                   0.0  \n",
      "min       3.730536e-101          0.0                   0.0  \n",
      "25%        2.000369e-05          0.0                   0.0  \n",
      "50%        7.399550e-03          0.0                   0.0  \n",
      "75%        1.500659e-01          0.0                   0.0  \n",
      "max        9.995367e-01          0.0                   0.0  \n"
     ]
    }
   ],
   "source": [
    "for sheet_name, df in enrichment.items():\n",
    "    print(f\"\\nDescripción estadística para: {sheet_name}\")\n",
    "    print(df.describe())\n"
   ]
  },
  {
   "cell_type": "markdown",
   "id": "2e806148",
   "metadata": {},
   "source": [
    "El P-value y Adjusted p-value indican la significancia estadistica de cada témino GO. Mientras más bajo, más relevante es el GO.\n",
    "El Combined_Score combina Z-score y p-value para el ranking."
   ]
  },
  {
   "cell_type": "code",
   "execution_count": 49,
   "id": "711c3eb2",
   "metadata": {},
   "outputs": [
    {
     "name": "stdout",
     "output_type": "stream",
     "text": [
      "\n",
      " Valores nulos en: Biological process\n",
      "Rank                    0\n",
      "Term Name               0\n",
      "P-value                 0\n",
      "Z-score                 0\n",
      "Combined_Score          0\n",
      "Overlapping genes       0\n",
      "Adjusted p-value        0\n",
      "Old p-value             0\n",
      "Old Adjusted p-value    0\n",
      "dtype: int64\n",
      "\n",
      " Valores nulos en: Molecular function\n",
      "Rank                    0\n",
      "Term Name               0\n",
      "P-value                 0\n",
      "Z-score                 0\n",
      "Combined_Score          0\n",
      "Overlapping genes       0\n",
      "Adjusted p-value        0\n",
      "Old p-value             0\n",
      "Old Adjusted p-value    0\n",
      "dtype: int64\n",
      "\n",
      " Valores nulos en: Cellular component\n",
      "Rank                    0\n",
      "Term Name               0\n",
      "P-value                 0\n",
      "Z-score                 0\n",
      "Combined_Score          0\n",
      "Overlapping genes       0\n",
      "Adjusted p-value        0\n",
      "Old p-value             0\n",
      "Old Adjusted p-value    0\n",
      "dtype: int64\n"
     ]
    }
   ],
   "source": [
    "# valores faltante por columnas\n",
    "for sheet_name, df in enrichment.items():\n",
    "    print(f\"\\n Valores nulos en: {sheet_name}\")\n",
    "    print(df.isnull().sum())"
   ]
  },
  {
   "cell_type": "markdown",
   "id": "296df769",
   "metadata": {},
   "source": [
    "Las columnas old p-value y old adjusted p-value están completamente llenas de ceros, por lo que no aportan información útil. Se eliminarán de los 3 DataFrame. "
   ]
  },
  {
   "cell_type": "code",
   "execution_count": 1,
   "id": "ed04e8c9",
   "metadata": {},
   "outputs": [
    {
     "name": "stderr",
     "output_type": "stream",
     "text": [
      "c:\\Users\\Macarena Madrid\\AppData\\Local\\Programs\\Python\\Python311\\Lib\\site-packages\\openpyxl\\styles\\stylesheet.py:237: UserWarning: Workbook contains no default style, apply openpyxl's default\n",
      "  warn(\"Workbook contains no default style, apply openpyxl's default\")\n"
     ]
    }
   ],
   "source": [
    "# Hacer un unico dataframe con los términos GO de todas las hojas del archivo de enriquecimiento\n",
    "import pandas as pd\n",
    "import os\n",
    "\n",
    "# Cargar datos\n",
    "data_dir = os.path.join(\"..\",\"data\",\"raw\")\n",
    "enrichment = pd.read_excel(os.path.join(data_dir, \"enrichment2.xlsx\"), sheet_name=None)  # Todas las hojas\n",
    "\n",
    "\n",
    "# Lista para almacenar dataframes procesados\n",
    "go_clean_list = []\n",
    "\n",
    "# Procesar cada hoja\n",
    "for sheet, df in enrichment.items():\n",
    "    df = df.copy()\n",
    "\n",
    "    # Eliminar columnas antiguas si existen\n",
    "    df.drop(columns=[\"Old p-value\", \"Old Adjusted p-value\"], inplace=True, errors=\"ignore\")\n",
    "\n",
    "    # Separar \"Term Name\" en nombre y GO ID\n",
    "    df[[\"Term_Name_Clean\", \"GO_ID\"]] = df[\"Term Name\"].str.extract(r\"^(.*?)\\s*\\((GO:\\d+)\\)\")\n",
    "\n",
    "    # Usar GO_ID sin sufijo\n",
    "    df[\"GO\"] = df[\"GO_ID\"]\n",
    "\n",
    "    # Agregar columna con tipo de ontología (opcional)\n",
    "    df[\"Ontology\"] = sheet  # Si igual quieres saber si era BP/MF/CC\n",
    "\n",
    "    # Seleccionar columnas relevantes\n",
    "    df_final = df[[\"Term_Name_Clean\", \"GO\", \"P-value\", \"Z-score\", \"Combined_Score\", \"Overlapping genes\", \"Adjusted p-value\", \"Ontology\"]]\n",
    "    go_clean_list.append(df_final)\n",
    "\n",
    "# Unir todos los dataframes en uno solo\n",
    "go_merged = pd.concat(go_clean_list, ignore_index=True)\n",
    "\n",
    "\n"
   ]
  },
  {
   "cell_type": "code",
   "execution_count": 2,
   "id": "5d395ffc",
   "metadata": {},
   "outputs": [
    {
     "data": {
      "text/html": [
       "<div>\n",
       "<style scoped>\n",
       "    .dataframe tbody tr th:only-of-type {\n",
       "        vertical-align: middle;\n",
       "    }\n",
       "\n",
       "    .dataframe tbody tr th {\n",
       "        vertical-align: top;\n",
       "    }\n",
       "\n",
       "    .dataframe thead th {\n",
       "        text-align: right;\n",
       "    }\n",
       "</style>\n",
       "<table border=\"1\" class=\"dataframe\">\n",
       "  <thead>\n",
       "    <tr style=\"text-align: right;\">\n",
       "      <th></th>\n",
       "      <th>Term_Name_Clean</th>\n",
       "      <th>GO</th>\n",
       "      <th>P-value</th>\n",
       "      <th>Z-score</th>\n",
       "      <th>Combined_Score</th>\n",
       "      <th>Overlapping genes</th>\n",
       "      <th>Adjusted p-value</th>\n",
       "      <th>Ontology</th>\n",
       "    </tr>\n",
       "  </thead>\n",
       "  <tbody>\n",
       "    <tr>\n",
       "      <th>0</th>\n",
       "      <td>Protein Phosphorylation</td>\n",
       "      <td>GO:0006468</td>\n",
       "      <td>2.196107e-120</td>\n",
       "      <td>10.371111</td>\n",
       "      <td>2857.484956</td>\n",
       "      <td>ATF2, MAML1, TESK2, LIPE, TBK1, AKT2, PRKACG, ...</td>\n",
       "      <td>1.175357e-116</td>\n",
       "      <td>Biological process</td>\n",
       "    </tr>\n",
       "    <tr>\n",
       "      <th>1</th>\n",
       "      <td>Phosphorylation</td>\n",
       "      <td>GO:0016310</td>\n",
       "      <td>2.023750e-88</td>\n",
       "      <td>8.128998</td>\n",
       "      <td>1641.427871</td>\n",
       "      <td>EPHB6, PANK2, TP53RK, MAML1, TESK2, RPS6KA4, L...</td>\n",
       "      <td>5.415555e-85</td>\n",
       "      <td>Biological process</td>\n",
       "    </tr>\n",
       "    <tr>\n",
       "      <th>2</th>\n",
       "      <td>Positive Regulation Of DNA-templated Transcrip...</td>\n",
       "      <td>GO:0045893</td>\n",
       "      <td>1.149844e-78</td>\n",
       "      <td>3.041530</td>\n",
       "      <td>545.839131</td>\n",
       "      <td>ATF1, ATF2, SPI1, MAML1, TRRAP, HNRNPU, GPATCH...</td>\n",
       "      <td>2.051321e-75</td>\n",
       "      <td>Biological process</td>\n",
       "    </tr>\n",
       "    <tr>\n",
       "      <th>3</th>\n",
       "      <td>Positive Regulation Of Nucleic Acid-Templated ...</td>\n",
       "      <td>GO:1903508</td>\n",
       "      <td>8.127226e-68</td>\n",
       "      <td>4.633815</td>\n",
       "      <td>715.834306</td>\n",
       "      <td>TRRAP, GPATCH3, SOX2, SOX17, KAT5, SOX18, ZMIZ...</td>\n",
       "      <td>1.087423e-64</td>\n",
       "      <td>Biological process</td>\n",
       "    </tr>\n",
       "    <tr>\n",
       "      <th>4</th>\n",
       "      <td>Protein Modification Process</td>\n",
       "      <td>GO:0036211</td>\n",
       "      <td>2.927007e-63</td>\n",
       "      <td>3.670553</td>\n",
       "      <td>528.518884</td>\n",
       "      <td>MAML1, ARAF, TESK2, DCAF1, LIPE, TBK1, AKT2, A...</td>\n",
       "      <td>3.133068e-60</td>\n",
       "      <td>Biological process</td>\n",
       "    </tr>\n",
       "  </tbody>\n",
       "</table>\n",
       "</div>"
      ],
      "text/plain": [
       "                                     Term_Name_Clean          GO  \\\n",
       "0                            Protein Phosphorylation  GO:0006468   \n",
       "1                                    Phosphorylation  GO:0016310   \n",
       "2  Positive Regulation Of DNA-templated Transcrip...  GO:0045893   \n",
       "3  Positive Regulation Of Nucleic Acid-Templated ...  GO:1903508   \n",
       "4                       Protein Modification Process  GO:0036211   \n",
       "\n",
       "         P-value    Z-score  Combined_Score  \\\n",
       "0  2.196107e-120  10.371111     2857.484956   \n",
       "1   2.023750e-88   8.128998     1641.427871   \n",
       "2   1.149844e-78   3.041530      545.839131   \n",
       "3   8.127226e-68   4.633815      715.834306   \n",
       "4   2.927007e-63   3.670553      528.518884   \n",
       "\n",
       "                                   Overlapping genes  Adjusted p-value  \\\n",
       "0  ATF2, MAML1, TESK2, LIPE, TBK1, AKT2, PRKACG, ...     1.175357e-116   \n",
       "1  EPHB6, PANK2, TP53RK, MAML1, TESK2, RPS6KA4, L...      5.415555e-85   \n",
       "2  ATF1, ATF2, SPI1, MAML1, TRRAP, HNRNPU, GPATCH...      2.051321e-75   \n",
       "3  TRRAP, GPATCH3, SOX2, SOX17, KAT5, SOX18, ZMIZ...      1.087423e-64   \n",
       "4  MAML1, ARAF, TESK2, DCAF1, LIPE, TBK1, AKT2, A...      3.133068e-60   \n",
       "\n",
       "             Ontology  \n",
       "0  Biological process  \n",
       "1  Biological process  \n",
       "2  Biological process  \n",
       "3  Biological process  \n",
       "4  Biological process  "
      ]
     },
     "execution_count": 2,
     "metadata": {},
     "output_type": "execute_result"
    }
   ],
   "source": [
    "go_merged.head()"
   ]
  },
  {
   "cell_type": "code",
   "execution_count": 3,
   "id": "2f4241b9",
   "metadata": {},
   "outputs": [
    {
     "name": "stdout",
     "output_type": "stream",
     "text": [
      "Archivo guardado en: ..\\data\\processed\\raw_cleaned\\go_enrichment_clean.csv\n",
      "Total de terminos GO: 6928\n"
     ]
    }
   ],
   "source": [
    "# Guardar como CSV\n",
    "processed_dir = os.path.join(\"..\",\"data\",\"processed\",\"raw_cleaned\")\n",
    "go_clean_path = os.path.join(processed_dir, \"go_enrichment_clean.csv\")\n",
    "go_merged.to_csv(go_clean_path, index=False)\n",
    "\n",
    "# Confirmar guardado\n",
    "print(\"Archivo guardado en:\", go_clean_path)\n",
    "print(\"Total de terminos GO:\", len(go_merged))\n"
   ]
  },
  {
   "cell_type": "markdown",
   "id": "9a5e70e2",
   "metadata": {},
   "source": [
    "### Gráficas para Enriquecimiento"
   ]
  },
  {
   "cell_type": "code",
   "execution_count": 4,
   "id": "2d31b2fe",
   "metadata": {},
   "outputs": [],
   "source": [
    "# Cargar los datos limpios\n",
    "data_dir = os.path.join(\"..\",\"data\",\"processed\",\"raw_cleaned\")\n",
    "go_c = pd.read_csv(os.path.join(data_dir, \"go_enrichment_clean.csv\"))\n",
    "fig_dir = os.path.join(\"..\",\"results\",\"figures\")"
   ]
  },
  {
   "cell_type": "code",
   "execution_count": 5,
   "id": "908c15e5",
   "metadata": {},
   "outputs": [
    {
     "ename": "NameError",
     "evalue": "name 'plt' is not defined",
     "output_type": "error",
     "traceback": [
      "\u001b[1;31m---------------------------------------------------------------------------\u001b[0m",
      "\u001b[1;31mNameError\u001b[0m                                 Traceback (most recent call last)",
      "Cell \u001b[1;32mIn[5], line 2\u001b[0m\n\u001b[0;32m      1\u001b[0m \u001b[38;5;66;03m# Número de términos por ontología (BP, MF, CC)\u001b[39;00m\n\u001b[1;32m----> 2\u001b[0m \u001b[43mplt\u001b[49m\u001b[38;5;241m.\u001b[39mfigure(figsize\u001b[38;5;241m=\u001b[39m(\u001b[38;5;241m6\u001b[39m, \u001b[38;5;241m4\u001b[39m))\n\u001b[0;32m      3\u001b[0m go_c[\u001b[38;5;124m\"\u001b[39m\u001b[38;5;124mOntology\u001b[39m\u001b[38;5;124m\"\u001b[39m]\u001b[38;5;241m.\u001b[39mvalue_counts()\u001b[38;5;241m.\u001b[39mplot(kind\u001b[38;5;241m=\u001b[39m\u001b[38;5;124m\"\u001b[39m\u001b[38;5;124mbar\u001b[39m\u001b[38;5;124m\"\u001b[39m, color\u001b[38;5;241m=\u001b[39m\u001b[38;5;124m\"\u001b[39m\u001b[38;5;124msalmon\u001b[39m\u001b[38;5;124m\"\u001b[39m)\n\u001b[0;32m      4\u001b[0m plt\u001b[38;5;241m.\u001b[39mtitle(\u001b[38;5;124m\"\u001b[39m\u001b[38;5;124mCantidad de términos GO por Ontología\u001b[39m\u001b[38;5;124m\"\u001b[39m)\n",
      "\u001b[1;31mNameError\u001b[0m: name 'plt' is not defined"
     ]
    }
   ],
   "source": [
    "# Número de términos por ontología (BP, MF, CC)\n",
    "plt.figure(figsize=(6, 4))\n",
    "go_c[\"Ontology\"].value_counts().plot(kind=\"bar\", color=\"salmon\")\n",
    "plt.title(\"Cantidad de términos GO por Ontología\")\n",
    "plt.tight_layout()\n",
    "plt.savefig(os.path.join(fig_dir, \"go_terms_by_ontology.png\"))\n",
    "plt.close()\n",
    "\n",
    "#BP tiene solo 5352 entradas, MF 1109 y CC 467."
   ]
  },
  {
   "cell_type": "code",
   "execution_count": 62,
   "id": "5369b87b",
   "metadata": {},
   "outputs": [],
   "source": [
    "# Distribución de Adjusted p-value \n",
    "plt.figure(figsize=(6, 4))\n",
    "sns.histplot(go_c[\"Adjusted p-value\"], bins=50, log_scale=(False, True))\n",
    "plt.title(\"Distribución de Adjusted p-value\")\n",
    "plt.xlabel(\"Adjusted p-value (log)\")\n",
    "plt.tight_layout()\n",
    "plt.savefig(os.path.join(fig_dir, \"adjusted_pvalue_distribution.png\"))\n",
    "plt.close()\n"
   ]
  },
  {
   "cell_type": "code",
   "execution_count": 63,
   "id": "c2c56e81",
   "metadata": {},
   "outputs": [],
   "source": [
    "# Wordcloud con los Termn_Name_Clean\n",
    "text = \" \".join(go_c[\"Term_Name_Clean\"].dropna())\n",
    "wordcloud = WordCloud(width=800, height=400, background_color=\"white\").generate(text)\n",
    "plt.figure(figsize=(10, 5))\n",
    "plt.imshow(wordcloud, interpolation=\"bilinear\")\n",
    "plt.axis(\"off\")\n",
    "plt.title(\"WordCloud de Términos GO\")\n",
    "plt.tight_layout()\n",
    "plt.savefig(os.path.join(fig_dir, \"go_wordcloud.png\"))\n",
    "plt.close()"
   ]
  },
  {
   "cell_type": "markdown",
   "id": "a5ae44b3",
   "metadata": {},
   "source": [
    "## Revisar coincidencias"
   ]
  },
  {
   "cell_type": "code",
   "execution_count": 64,
   "id": "95b495dd",
   "metadata": {},
   "outputs": [],
   "source": [
    "\n",
    "\n",
    "data_dir = os.path.join(\"..\",\"data\",\"processed\",\"raw_cleaned\")\n",
    "ppi_clean = pd.read_csv(os.path.join(data_dir, \"ppi_clean.csv\"))\n",
    "target_clean = pd.read_csv(os.path.join(data_dir, \"target_clean.csv\"))"
   ]
  },
  {
   "cell_type": "code",
   "execution_count": 65,
   "id": "2bd31926",
   "metadata": {},
   "outputs": [
    {
     "name": "stdout",
     "output_type": "stream",
     "text": [
      "Número de proteínas únicas en PPI: 5390\n"
     ]
    }
   ],
   "source": [
    "# Proteínas únicas de ambas columnas\n",
    "proteinas_ppi = pd.unique(ppi_clean[['Prot_A', 'Prot_B']].values.ravel())\n",
    "print(f\"Número de proteínas únicas en PPI: {len(proteinas_ppi)}\")"
   ]
  },
  {
   "cell_type": "code",
   "execution_count": 66,
   "id": "c8df6eb2",
   "metadata": {},
   "outputs": [
    {
     "name": "stdout",
     "output_type": "stream",
     "text": [
      "Número de proteínas en PPI que están también en target_clean: 5390\n"
     ]
    }
   ],
   "source": [
    "# Proteínas que están también en target_clean\n",
    "proteinas_en_target = set(proteinas_ppi).intersection(set(target_clean['Node_id']))\n",
    "print(f\"Número de proteínas en PPI que están también en target_clean: {len(proteinas_en_target)}\")"
   ]
  },
  {
   "cell_type": "code",
   "execution_count": 67,
   "id": "378327c2",
   "metadata": {},
   "outputs": [
    {
     "name": "stdout",
     "output_type": "stream",
     "text": [
      "Total de proteínas únicas en PPI: 5390\n",
      "Total de proteínas en PPI que están en Target_clean: 5390\n",
      "Ejemplo de coincidencias: ['KLF11', 'CPX-2319', 'CPX-2204', 'LYZ', 'MYO5A', 'BRSK2', 'CPX-648', 'GPX4', 'TERB1', 'CD59']\n"
     ]
    }
   ],
   "source": [
    "print(f\"Total de proteínas únicas en PPI: {len(proteinas_ppi)}\")\n",
    "print(f\"Total de proteínas en PPI que están en Target_clean: {len(proteinas_en_target)}\")\n",
    "print(\"Ejemplo de coincidencias:\", list(proteinas_en_target)[:10])\n"
   ]
  }
 ],
 "metadata": {
  "kernelspec": {
   "display_name": "Python 3",
   "language": "python",
   "name": "python3"
  },
  "language_info": {
   "codemirror_mode": {
    "name": "ipython",
    "version": 3
   },
   "file_extension": ".py",
   "mimetype": "text/x-python",
   "name": "python",
   "nbconvert_exporter": "python",
   "pygments_lexer": "ipython3",
   "version": "3.11.0"
  }
 },
 "nbformat": 4,
 "nbformat_minor": 5
}
