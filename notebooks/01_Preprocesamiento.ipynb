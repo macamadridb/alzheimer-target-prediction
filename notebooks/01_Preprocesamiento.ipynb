{
 "cells": [
  {
   "cell_type": "markdown",
   "id": "7783d764",
   "metadata": {},
   "source": [
    "# **0.1 Preprocesamiento de los datos**"
   ]
  },
  {
   "cell_type": "code",
   "execution_count": 1,
   "id": "9ff8c827",
   "metadata": {},
   "outputs": [],
   "source": [
    "# Importamos librería \n",
    "import pandas as pd\n",
    "import matplotlib.pyplot as plt\n",
    "import seaborn as sns\n",
    "from wordcloud import WordCloud\n",
    "import os"
   ]
  },
  {
   "cell_type": "code",
   "execution_count": 2,
   "id": "03a4c84b",
   "metadata": {},
   "outputs": [
    {
     "name": "stderr",
     "output_type": "stream",
     "text": [
      "c:\\Users\\Macarena Madrid\\AppData\\Local\\Programs\\Python\\Python311\\Lib\\site-packages\\openpyxl\\styles\\stylesheet.py:237: UserWarning: Workbook contains no default style, apply openpyxl's default\n",
      "  warn(\"Workbook contains no default style, apply openpyxl's default\")\n",
      "c:\\Users\\Macarena Madrid\\AppData\\Local\\Programs\\Python\\Python311\\Lib\\site-packages\\openpyxl\\styles\\stylesheet.py:237: UserWarning: Workbook contains no default style, apply openpyxl's default\n",
      "  warn(\"Workbook contains no default style, apply openpyxl's default\")\n"
     ]
    }
   ],
   "source": [
    "# Cargar datos\n",
    "data_dir = r\"C:\\Users\\Macarena Madrid\\Desktop\\\\alzheimer-target-prediction\\data\\raw\"\n",
    "\n",
    "ppi = pd.read_csv(os.path.join(data_dir, \"1_PPI-network_Alzheimer_Disease_no-opentarget-filter.csv\"))\n",
    "targets = pd.read_excel(os.path.join(data_dir, \"3_Targets-score_Alzheimer_Disease_no-opentarget-filter.xlsx\"))\n",
    "topo = pd.read_csv(os.path.join(data_dir, \"topology_158_up_down_normalized_splitPCA.csv\"))\n",
    "enrichment = pd.read_excel(os.path.join(data_dir, \"enrichment2.xlsx\"), sheet_name=None)  # Todas las hojas"
   ]
  },
  {
   "cell_type": "markdown",
   "id": "db71a89a",
   "metadata": {},
   "source": [
    "## Datos de PPI"
   ]
  },
  {
   "cell_type": "code",
   "execution_count": 3,
   "id": "d3f5b1ef",
   "metadata": {},
   "outputs": [
    {
     "name": "stdout",
     "output_type": "stream",
     "text": [
      "<class 'pandas.core.frame.DataFrame'>\n",
      "RangeIndex: 426139 entries, 0 to 426138\n",
      "Data columns (total 4 columns):\n",
      " #   Column             Non-Null Count   Dtype  \n",
      "---  ------             --------------   -----  \n",
      " 0   Prot_A             426139 non-null  object \n",
      " 1   Prot_B             426139 non-null  object \n",
      " 2   Interaction_score  426139 non-null  float64\n",
      " 3   Disease            426139 non-null  object \n",
      "dtypes: float64(1), object(3)\n",
      "memory usage: 13.0+ MB\n"
     ]
    },
    {
     "data": {
      "text/html": [
       "<div>\n",
       "<style scoped>\n",
       "    .dataframe tbody tr th:only-of-type {\n",
       "        vertical-align: middle;\n",
       "    }\n",
       "\n",
       "    .dataframe tbody tr th {\n",
       "        vertical-align: top;\n",
       "    }\n",
       "\n",
       "    .dataframe thead th {\n",
       "        text-align: right;\n",
       "    }\n",
       "</style>\n",
       "<table border=\"1\" class=\"dataframe\">\n",
       "  <thead>\n",
       "    <tr style=\"text-align: right;\">\n",
       "      <th></th>\n",
       "      <th>Interaction_score</th>\n",
       "    </tr>\n",
       "  </thead>\n",
       "  <tbody>\n",
       "    <tr>\n",
       "      <th>count</th>\n",
       "      <td>426139.000000</td>\n",
       "    </tr>\n",
       "    <tr>\n",
       "      <th>mean</th>\n",
       "      <td>0.621208</td>\n",
       "    </tr>\n",
       "    <tr>\n",
       "      <th>std</th>\n",
       "      <td>0.180884</td>\n",
       "    </tr>\n",
       "    <tr>\n",
       "      <th>min</th>\n",
       "      <td>0.400000</td>\n",
       "    </tr>\n",
       "    <tr>\n",
       "      <th>25%</th>\n",
       "      <td>0.473000</td>\n",
       "    </tr>\n",
       "    <tr>\n",
       "      <th>50%</th>\n",
       "      <td>0.574000</td>\n",
       "    </tr>\n",
       "    <tr>\n",
       "      <th>75%</th>\n",
       "      <td>0.728000</td>\n",
       "    </tr>\n",
       "    <tr>\n",
       "      <th>max</th>\n",
       "      <td>0.999000</td>\n",
       "    </tr>\n",
       "  </tbody>\n",
       "</table>\n",
       "</div>"
      ],
      "text/plain": [
       "       Interaction_score\n",
       "count      426139.000000\n",
       "mean            0.621208\n",
       "std             0.180884\n",
       "min             0.400000\n",
       "25%             0.473000\n",
       "50%             0.574000\n",
       "75%             0.728000\n",
       "max             0.999000"
      ]
     },
     "execution_count": 3,
     "metadata": {},
     "output_type": "execute_result"
    }
   ],
   "source": [
    "# obtenemos la infromación general del dataset de ppi\n",
    "ppi.info()\n",
    "ppi.describe() # estadísticas descriptivas"
   ]
  },
  {
   "cell_type": "code",
   "execution_count": 4,
   "id": "c2af8a19",
   "metadata": {},
   "outputs": [
    {
     "name": "stdout",
     "output_type": "stream",
     "text": [
      "Nº total de interacciones: 426139\n",
      "Nº proteínas únicas: 5411\n",
      "Nº duplicados: 0\n",
      "Nº self-loops: 0\n"
     ]
    }
   ],
   "source": [
    "# Conteo\n",
    "print(\"Nº total de interacciones:\", len(ppi))\n",
    "print(\"Nº proteínas únicas:\", len(pd.unique(ppi[['Prot_A', 'Prot_B']].values.ravel())))\n",
    "print(\"Nº duplicados:\", ppi.duplicated().sum())\n",
    "print(\"Nº self-loops:\", (ppi['Prot_A'] == ppi['Prot_B']).sum())\n",
    "\n"
   ]
  },
  {
   "cell_type": "code",
   "execution_count": 5,
   "id": "b5e51651",
   "metadata": {},
   "outputs": [
    {
     "data": {
      "text/plain": [
       "Prot_A               0\n",
       "Prot_B               0\n",
       "Interaction_score    0\n",
       "Disease              0\n",
       "dtype: int64"
      ]
     },
     "execution_count": 5,
     "metadata": {},
     "output_type": "execute_result"
    }
   ],
   "source": [
    "# valores faltante por columnas\n",
    "ppi.isnull().sum()"
   ]
  },
  {
   "cell_type": "code",
   "execution_count": 8,
   "id": "8a364453",
   "metadata": {},
   "outputs": [
    {
     "name": "stdout",
     "output_type": "stream",
     "text": [
      "426139\n"
     ]
    }
   ],
   "source": [
    "print(len(ppi))"
   ]
  },
  {
   "cell_type": "markdown",
   "id": "f33731c0",
   "metadata": {},
   "source": [
    "No hay valores faltantes, pero si es necesario eliminar la columna Disease ya que sabemos que solo se trabajarán con datos de Alzheimer."
   ]
  },
  {
   "cell_type": "markdown",
   "id": "249ba035",
   "metadata": {},
   "source": [
    "Interaction_score va de 0 a 1, y queremos ver o analizar las interacciones menos confiables, entonces se filtraran por <0.7 que corresponden a las interacciones de baja a mediana confianza, excluyendo las de alta o muy alta confianza (>= 0.7). *Pero se evaluará al final!!!*"
   ]
  },
  {
   "cell_type": "code",
   "execution_count": 10,
   "id": "c3b9eafa",
   "metadata": {},
   "outputs": [
    {
     "name": "stdout",
     "output_type": "stream",
     "text": [
      "Archivo guardado en: C:\\Users\\Macarena Madrid\\Desktop\\\\alzheimer-target-prediction\\data\\processed\\raw_cleaned\\ppi_clean.csv\n",
      "Total de interacciones después de limpieza: 426139\n"
     ]
    }
   ],
   "source": [
    "processed_dir = r\"C:\\Users\\Macarena Madrid\\Desktop\\\\alzheimer-target-prediction\\data\\processed\\raw_cleaned\"\n",
    "\n",
    "# Quedarse con interacciones con score < 0.7 \n",
    "#ppi_filtered= ppi[ppi['Interaction_score'] < 0.7].copy()\n",
    "\n",
    "# Eliminar columna 'Disease' del dataset de interacciones\n",
    "ppi_clean = ppi.drop(columns=[\"Disease\"])\n",
    "\n",
    "# Guardar la versión limpia\n",
    "ppi_clean.to_csv(os.path.join(processed_dir, \"ppi_clean.csv\"), index=False)\n",
    "\n",
    "# Verificación\n",
    "print(\"Archivo guardado en:\", os.path.join(processed_dir, \"ppi_clean.csv\"))\n",
    "print(\"Total de interacciones después de limpieza:\", len(ppi_clean))"
   ]
  },
  {
   "cell_type": "markdown",
   "id": "8d5eec5a",
   "metadata": {},
   "source": [
    "Si se filtra con <0.7 me quedaría con 308736 de 426139 interacciones, y cambiarían los valores topológicos."
   ]
  },
  {
   "cell_type": "markdown",
   "id": "43e48849",
   "metadata": {},
   "source": [
    "## Datos de target"
   ]
  },
  {
   "cell_type": "code",
   "execution_count": 11,
   "id": "dd5e7e6b",
   "metadata": {},
   "outputs": [
    {
     "name": "stdout",
     "output_type": "stream",
     "text": [
      "<class 'pandas.core.frame.DataFrame'>\n",
      "RangeIndex: 5411 entries, 0 to 5410\n",
      "Data columns (total 11 columns):\n",
      " #   Column                         Non-Null Count  Dtype  \n",
      "---  ------                         --------------  -----  \n",
      " 0   Target_name                    5411 non-null   object \n",
      " 1   Complex_participants           1494 non-null   object \n",
      " 2   Node_id                        5411 non-null   object \n",
      " 3   Uniprot_id                     5411 non-null   object \n",
      " 4   Target_type                    5411 non-null   object \n",
      " 5   Target_group                   5411 non-null   object \n",
      " 6   Source_db                      5411 non-null   object \n",
      " 7   Target_group_score             5411 non-null   float64\n",
      " 8   Target_group_score_normalized  5411 non-null   float64\n",
      " 9   Conectivity_Score              3842 non-null   float64\n",
      " 10  Disease                        5411 non-null   object \n",
      "dtypes: float64(3), object(8)\n",
      "memory usage: 465.1+ KB\n"
     ]
    },
    {
     "data": {
      "text/html": [
       "<div>\n",
       "<style scoped>\n",
       "    .dataframe tbody tr th:only-of-type {\n",
       "        vertical-align: middle;\n",
       "    }\n",
       "\n",
       "    .dataframe tbody tr th {\n",
       "        vertical-align: top;\n",
       "    }\n",
       "\n",
       "    .dataframe thead th {\n",
       "        text-align: right;\n",
       "    }\n",
       "</style>\n",
       "<table border=\"1\" class=\"dataframe\">\n",
       "  <thead>\n",
       "    <tr style=\"text-align: right;\">\n",
       "      <th></th>\n",
       "      <th>Target_group_score</th>\n",
       "      <th>Target_group_score_normalized</th>\n",
       "      <th>Conectivity_Score</th>\n",
       "    </tr>\n",
       "  </thead>\n",
       "  <tbody>\n",
       "    <tr>\n",
       "      <th>count</th>\n",
       "      <td>5411.000000</td>\n",
       "      <td>5411.000000</td>\n",
       "      <td>3842.000000</td>\n",
       "    </tr>\n",
       "    <tr>\n",
       "      <th>mean</th>\n",
       "      <td>1.630882</td>\n",
       "      <td>0.186112</td>\n",
       "      <td>0.730901</td>\n",
       "    </tr>\n",
       "    <tr>\n",
       "      <th>std</th>\n",
       "      <td>2.570310</td>\n",
       "      <td>0.144580</td>\n",
       "      <td>0.207526</td>\n",
       "    </tr>\n",
       "    <tr>\n",
       "      <th>min</th>\n",
       "      <td>0.100000</td>\n",
       "      <td>0.100000</td>\n",
       "      <td>0.349320</td>\n",
       "    </tr>\n",
       "    <tr>\n",
       "      <th>25%</th>\n",
       "      <td>0.100000</td>\n",
       "      <td>0.100000</td>\n",
       "      <td>0.605366</td>\n",
       "    </tr>\n",
       "    <tr>\n",
       "      <th>50%</th>\n",
       "      <td>0.100000</td>\n",
       "      <td>0.100000</td>\n",
       "      <td>0.715035</td>\n",
       "    </tr>\n",
       "    <tr>\n",
       "      <th>75%</th>\n",
       "      <td>5.000000</td>\n",
       "      <td>0.375625</td>\n",
       "      <td>0.828582</td>\n",
       "    </tr>\n",
       "    <tr>\n",
       "      <th>max</th>\n",
       "      <td>16.100000</td>\n",
       "      <td>1.000000</td>\n",
       "      <td>2.627325</td>\n",
       "    </tr>\n",
       "  </tbody>\n",
       "</table>\n",
       "</div>"
      ],
      "text/plain": [
       "       Target_group_score  Target_group_score_normalized  Conectivity_Score\n",
       "count         5411.000000                    5411.000000        3842.000000\n",
       "mean             1.630882                       0.186112           0.730901\n",
       "std              2.570310                       0.144580           0.207526\n",
       "min              0.100000                       0.100000           0.349320\n",
       "25%              0.100000                       0.100000           0.605366\n",
       "50%              0.100000                       0.100000           0.715035\n",
       "75%              5.000000                       0.375625           0.828582\n",
       "max             16.100000                       1.000000           2.627325"
      ]
     },
     "execution_count": 11,
     "metadata": {},
     "output_type": "execute_result"
    }
   ],
   "source": [
    "# obtenemos la infromación general del dataset de targets\n",
    "targets.info()\n",
    "targets.describe() # estadísticas descriptivas"
   ]
  },
  {
   "cell_type": "code",
   "execution_count": 12,
   "id": "701a4db9",
   "metadata": {},
   "outputs": [
    {
     "data": {
      "text/plain": [
       "Target_name                         0\n",
       "Complex_participants             3917\n",
       "Node_id                             0\n",
       "Uniprot_id                          0\n",
       "Target_type                         0\n",
       "Target_group                        0\n",
       "Source_db                           0\n",
       "Target_group_score                  0\n",
       "Target_group_score_normalized       0\n",
       "Conectivity_Score                1569\n",
       "Disease                             0\n",
       "dtype: int64"
      ]
     },
     "execution_count": 12,
     "metadata": {},
     "output_type": "execute_result"
    }
   ],
   "source": [
    "# valores faltante por columnas\n",
    "targets.isnull().sum()"
   ]
  },
  {
   "cell_type": "markdown",
   "id": "fb89dd99",
   "metadata": {},
   "source": [
    "Complex_participants me da 3917 valores nulos, ya que no todos los blancos son complejos proteicos.\n",
    "Conectivity_Score tiene 1569 valores nulos, se considerarán como una conectividad mínima o no disponible.\n",
    "Se rellenarán con 0 ambos datos nulos.\n"
   ]
  },
  {
   "cell_type": "code",
   "execution_count": 13,
   "id": "16cdaa27",
   "metadata": {},
   "outputs": [
    {
     "name": "stdout",
     "output_type": "stream",
     "text": [
      "Número de targets en el DataFrame de targets: 5411\n"
     ]
    }
   ],
   "source": [
    "# Conteo de targets en el DataFrame de targets\n",
    "num_targets = targets['Node_id'].nunique()\n",
    "print(f\"Número de targets en el DataFrame de targets: {num_targets}\")"
   ]
  },
  {
   "cell_type": "code",
   "execution_count": 14,
   "id": "a2673b16",
   "metadata": {},
   "outputs": [
    {
     "data": {
      "text/plain": [
       "Target_group\n",
       "T4                3842\n",
       "T2                1090\n",
       "T2, T3             198\n",
       "T2, T4             198\n",
       "T2, T3, T4          29\n",
       "T1, T2, T3          22\n",
       "T3                  15\n",
       "T1, T2               9\n",
       "T1, T2, T3, T4       7\n",
       "T3, T4               1\n",
       "Name: count, dtype: int64"
      ]
     },
     "execution_count": 14,
     "metadata": {},
     "output_type": "execute_result"
    }
   ],
   "source": [
    "# Obtenemos la cantidad de valores por clase de la variable \"Target_group\"\n",
    "\n",
    "targets.Target_group.value_counts() "
   ]
  },
  {
   "cell_type": "code",
   "execution_count": 15,
   "id": "723cfa31",
   "metadata": {},
   "outputs": [
    {
     "name": "stdout",
     "output_type": "stream",
     "text": [
      "T1: 38\n",
      "T2: 1553\n",
      "T3: 272\n",
      "T4: 4077\n"
     ]
    }
   ],
   "source": [
    "# Obtenemos la cantidad de valores por clase sin combinaciones de la variable \"Target_group\"\n",
    "from collections import Counter\n",
    "\n",
    "# Contar ocurrencias individuales en combinaciones\n",
    "conteo = Counter()\n",
    "targets[\"Target_group\"].dropna().astype(str).str.split(\",\").apply(lambda grupos: conteo.update([g.strip() for g in grupos]))\n",
    "\n",
    "for t in [\"T1\", \"T2\", \"T3\", \"T4\"]:\n",
    "    print(f\"{t}: {conteo[t]}\")\n"
   ]
  },
  {
   "cell_type": "markdown",
   "id": "789c3267",
   "metadata": {},
   "source": [
    "El total corresponde a 5411 datos, donde el 61.7% equivale al T4, 23.5% a T3, 4.1% a T3 y 0.8% a T1. Lo que refleja que existe un desvalance de clases. Este sesgo puede afectar el rendimiento de los modelos supervisados."
   ]
  },
  {
   "cell_type": "code",
   "execution_count": 16,
   "id": "e89f7074",
   "metadata": {},
   "outputs": [
    {
     "data": {
      "text/plain": [
       "Target_type\n",
       "SINGLE PROTEIN     3930\n",
       "PROTEIN COMPLEX    1481\n",
       "Name: count, dtype: int64"
      ]
     },
     "execution_count": 16,
     "metadata": {},
     "output_type": "execute_result"
    }
   ],
   "source": [
    "# Tipos de target\n",
    "targets['Target_type'].value_counts()"
   ]
  },
  {
   "cell_type": "code",
   "execution_count": 19,
   "id": "1fe74d34",
   "metadata": {},
   "outputs": [
    {
     "name": "stdout",
     "output_type": "stream",
     "text": [
      "Columnas finales: ['Target_name', 'Complex_participants', 'Node_id', 'Target_type', 'Target_group', 'Target_group_score_normalized', 'Conectivity_Score']\n",
      "Archivo guardado en: C:\\Users\\Macarena Madrid\\Desktop\\\\alzheimer-target-prediction\\data\\processed\\raw_cleaned\\target_clean.csv\n"
     ]
    }
   ],
   "source": [
    "processed_dir = r\"C:\\Users\\Macarena Madrid\\Desktop\\\\alzheimer-target-prediction\\data\\processed\\raw_cleaned\"\n",
    "\n",
    "# Rellenar valores nulos en el DataFrame original\n",
    "targets[\"Complex_participants\"] = targets[\"Complex_participants\"].fillna(\"0\")\n",
    "targets[\"Conectivity_Score\"] = targets[\"Conectivity_Score\"].fillna(0)\n",
    "targets[\"Target_type\"] = targets[\"Target_type\"].apply(lambda x: 1 if x == \"SINGLE PROTEIN\" else 0) \n",
    "\n",
    "# Eliminar columnas innecesarias\n",
    "target_clean = targets.drop(columns=[\n",
    "    \"Target_group_score\",        # ya tienes la versión normalizada\n",
    "    \"Disease\",                   # no se usará\n",
    "    \"Source_db\",                 # metadato no funcional\n",
    "    \"Uniprot_id\"                 # info redundante, no como feature\n",
    "])\n",
    "\n",
    "# Verificar columnas finales\n",
    "print(\"Columnas finales:\", target_clean.columns.tolist())\n",
    "\n",
    "# Guardar la versión limpia\n",
    "target_clean.to_csv(os.path.join(processed_dir, \"target_clean.csv\"), index=False)\n",
    "\n",
    "# Verificación\n",
    "print(\"Archivo guardado en:\", os.path.join(processed_dir, \"target_clean.csv\"))\n",
    "\n"
   ]
  },
  {
   "cell_type": "code",
   "execution_count": 52,
   "id": "4418f73b",
   "metadata": {},
   "outputs": [
    {
     "data": {
      "text/html": [
       "<div>\n",
       "<style scoped>\n",
       "    .dataframe tbody tr th:only-of-type {\n",
       "        vertical-align: middle;\n",
       "    }\n",
       "\n",
       "    .dataframe tbody tr th {\n",
       "        vertical-align: top;\n",
       "    }\n",
       "\n",
       "    .dataframe thead th {\n",
       "        text-align: right;\n",
       "    }\n",
       "</style>\n",
       "<table border=\"1\" class=\"dataframe\">\n",
       "  <thead>\n",
       "    <tr style=\"text-align: right;\">\n",
       "      <th></th>\n",
       "      <th>Target_name</th>\n",
       "      <th>Complex_participants</th>\n",
       "      <th>Node_id</th>\n",
       "      <th>Target_type</th>\n",
       "      <th>Target_group</th>\n",
       "      <th>Target_group_score_normalized</th>\n",
       "      <th>Conectivity_Score</th>\n",
       "    </tr>\n",
       "  </thead>\n",
       "  <tbody>\n",
       "    <tr>\n",
       "      <th>0</th>\n",
       "      <td>glutamate nmda receptor; grin1/grin2a</td>\n",
       "      <td>GRIN2D,GRIN1</td>\n",
       "      <td>CPX-289</td>\n",
       "      <td>0</td>\n",
       "      <td>T1, T2, T3, T4</td>\n",
       "      <td>1.0</td>\n",
       "      <td>0.0</td>\n",
       "    </tr>\n",
       "    <tr>\n",
       "      <th>1</th>\n",
       "      <td>dna replication factor cdt1 (double parked hom...</td>\n",
       "      <td>CDT1,GMNN</td>\n",
       "      <td>CPX-659</td>\n",
       "      <td>0</td>\n",
       "      <td>T1, T2, T3, T4</td>\n",
       "      <td>1.0</td>\n",
       "      <td>0.0</td>\n",
       "    </tr>\n",
       "    <tr>\n",
       "      <th>2</th>\n",
       "      <td>geminin</td>\n",
       "      <td>MCIDAS,GMNN</td>\n",
       "      <td>CPX-661</td>\n",
       "      <td>0</td>\n",
       "      <td>T1, T2, T3, T4</td>\n",
       "      <td>1.0</td>\n",
       "      <td>0.0</td>\n",
       "    </tr>\n",
       "    <tr>\n",
       "      <th>3</th>\n",
       "      <td>nuclear receptor coactivator 2 (ncoa-2) (class...</td>\n",
       "      <td>NCOA2,PPARG</td>\n",
       "      <td>CPX-702</td>\n",
       "      <td>0</td>\n",
       "      <td>T1, T2, T3, T4</td>\n",
       "      <td>1.0</td>\n",
       "      <td>0.0</td>\n",
       "    </tr>\n",
       "    <tr>\n",
       "      <th>4</th>\n",
       "      <td>nuclear receptor coactivator 1 (ncoa-1) (ec 2....</td>\n",
       "      <td>NCOA1,PPARG</td>\n",
       "      <td>CPX-711</td>\n",
       "      <td>0</td>\n",
       "      <td>T1, T2, T3, T4</td>\n",
       "      <td>1.0</td>\n",
       "      <td>0.0</td>\n",
       "    </tr>\n",
       "  </tbody>\n",
       "</table>\n",
       "</div>"
      ],
      "text/plain": [
       "                                         Target_name Complex_participants  \\\n",
       "0              glutamate nmda receptor; grin1/grin2a         GRIN2D,GRIN1   \n",
       "1  dna replication factor cdt1 (double parked hom...            CDT1,GMNN   \n",
       "2                                            geminin          MCIDAS,GMNN   \n",
       "3  nuclear receptor coactivator 2 (ncoa-2) (class...          NCOA2,PPARG   \n",
       "4  nuclear receptor coactivator 1 (ncoa-1) (ec 2....          NCOA1,PPARG   \n",
       "\n",
       "   Node_id  Target_type    Target_group  Target_group_score_normalized  \\\n",
       "0  CPX-289            0  T1, T2, T3, T4                            1.0   \n",
       "1  CPX-659            0  T1, T2, T3, T4                            1.0   \n",
       "2  CPX-661            0  T1, T2, T3, T4                            1.0   \n",
       "3  CPX-702            0  T1, T2, T3, T4                            1.0   \n",
       "4  CPX-711            0  T1, T2, T3, T4                            1.0   \n",
       "\n",
       "   Conectivity_Score  \n",
       "0                0.0  \n",
       "1                0.0  \n",
       "2                0.0  \n",
       "3                0.0  \n",
       "4                0.0  "
      ]
     },
     "execution_count": 52,
     "metadata": {},
     "output_type": "execute_result"
    }
   ],
   "source": [
    "target_clean.head()"
   ]
  },
  {
   "cell_type": "markdown",
   "id": "1a0209c0",
   "metadata": {},
   "source": [
    "### Gráficas para Targets"
   ]
  },
  {
   "cell_type": "code",
   "execution_count": 59,
   "id": "ae2a8ef6",
   "metadata": {},
   "outputs": [],
   "source": [
    "# Cargar los datos limpios\n",
    "data_dir = r\"C:\\Users\\Macarena Madrid\\Desktop\\\\alzheimer-target-prediction\\data\\processed\\raw_cleaned\"\n",
    "targets_c = pd.read_csv(os.path.join(data_dir, \"target_clean.csv\"))"
   ]
  },
  {
   "cell_type": "code",
   "execution_count": 60,
   "id": "f6050fb6",
   "metadata": {},
   "outputs": [],
   "source": [
    "# Distribución de clases Target_group (frecuencia y procentaje)\n",
    "\n",
    "fig_dir = r\"C:\\Users\\Macarena Madrid\\Desktop\\\\alzheimer-target-prediction\\results\\figures\"\n",
    "\n",
    "plt.figure(figsize=(8, 5))\n",
    "targets_c[\"Target_group\"].value_counts().plot(kind=\"bar\", color=\"skyblue\")\n",
    "plt.title(\"Distribución de clases en Target_group\")\n",
    "plt.ylabel(\"Frecuencia\")\n",
    "plt.xticks(rotation=45)\n",
    "plt.tight_layout()\n",
    "plt.savefig(os.path.join(fig_dir, \"target_group_distribution.png\"))\n",
    "plt.close()"
   ]
  },
  {
   "cell_type": "code",
   "execution_count": 62,
   "id": "6b5b99cb",
   "metadata": {},
   "outputs": [],
   "source": [
    "# Distribución del Conectivity_Score\n",
    "fig_dir = r\"C:\\Users\\Macarena Madrid\\Desktop\\\\alzheimer-target-prediction\\results\\figures\"\n",
    "\n",
    "plt.figure(figsize=(6, 4))\n",
    "sns.histplot(targets_c[\"Conectivity_Score\"], bins=30, kde=True)\n",
    "plt.title(\"Distribución de Conectivity_Score\")\n",
    "plt.xlabel(\"Conectivity Score\")\n",
    "plt.tight_layout()\n",
    "plt.savefig(os.path.join(fig_dir, \"conectivity_score_distribution.png\"))\n",
    "plt.close()"
   ]
  },
  {
   "cell_type": "markdown",
   "id": "cdfaca4f",
   "metadata": {},
   "source": [
    "## Datos de topología"
   ]
  },
  {
   "cell_type": "code",
   "execution_count": 20,
   "id": "87b7c052",
   "metadata": {},
   "outputs": [
    {
     "name": "stdout",
     "output_type": "stream",
     "text": [
      "<class 'pandas.core.frame.DataFrame'>\n",
      "RangeIndex: 158 entries, 0 to 157\n",
      "Data columns (total 10 columns):\n",
      " #   Column             Non-Null Count  Dtype  \n",
      "---  ------             --------------  -----  \n",
      " 0   Node_id            158 non-null    object \n",
      " 1   prediction         158 non-null    object \n",
      " 2   DC                 158 non-null    float64\n",
      " 3   BC                 158 non-null    float64\n",
      " 4   CC                 158 non-null    float64\n",
      " 5   EC                 158 non-null    float64\n",
      " 6   CEN                158 non-null    float64\n",
      " 7   ECC                158 non-null    float64\n",
      " 8   RAD                158 non-null    float64\n",
      " 9   Conectivity_Score  158 non-null    float64\n",
      "dtypes: float64(8), object(2)\n",
      "memory usage: 12.5+ KB\n"
     ]
    },
    {
     "data": {
      "text/html": [
       "<div>\n",
       "<style scoped>\n",
       "    .dataframe tbody tr th:only-of-type {\n",
       "        vertical-align: middle;\n",
       "    }\n",
       "\n",
       "    .dataframe tbody tr th {\n",
       "        vertical-align: top;\n",
       "    }\n",
       "\n",
       "    .dataframe thead th {\n",
       "        text-align: right;\n",
       "    }\n",
       "</style>\n",
       "<table border=\"1\" class=\"dataframe\">\n",
       "  <thead>\n",
       "    <tr style=\"text-align: right;\">\n",
       "      <th></th>\n",
       "      <th>DC</th>\n",
       "      <th>BC</th>\n",
       "      <th>CC</th>\n",
       "      <th>EC</th>\n",
       "      <th>CEN</th>\n",
       "      <th>ECC</th>\n",
       "      <th>RAD</th>\n",
       "      <th>Conectivity_Score</th>\n",
       "    </tr>\n",
       "  </thead>\n",
       "  <tbody>\n",
       "    <tr>\n",
       "      <th>count</th>\n",
       "      <td>158.000000</td>\n",
       "      <td>158.000000</td>\n",
       "      <td>158.000000</td>\n",
       "      <td>158.000000</td>\n",
       "      <td>158.000000</td>\n",
       "      <td>158.000000</td>\n",
       "      <td>158.000000</td>\n",
       "      <td>158.000000</td>\n",
       "    </tr>\n",
       "    <tr>\n",
       "      <th>mean</th>\n",
       "      <td>0.230279</td>\n",
       "      <td>0.100278</td>\n",
       "      <td>0.495669</td>\n",
       "      <td>0.225283</td>\n",
       "      <td>0.592059</td>\n",
       "      <td>0.556962</td>\n",
       "      <td>0.608665</td>\n",
       "      <td>0.426127</td>\n",
       "    </tr>\n",
       "    <tr>\n",
       "      <th>std</th>\n",
       "      <td>0.212538</td>\n",
       "      <td>0.169508</td>\n",
       "      <td>0.187579</td>\n",
       "      <td>0.236011</td>\n",
       "      <td>0.245694</td>\n",
       "      <td>0.432644</td>\n",
       "      <td>0.183501</td>\n",
       "      <td>0.195098</td>\n",
       "    </tr>\n",
       "    <tr>\n",
       "      <th>min</th>\n",
       "      <td>0.000000</td>\n",
       "      <td>0.000000</td>\n",
       "      <td>0.000000</td>\n",
       "      <td>0.000000</td>\n",
       "      <td>0.000000</td>\n",
       "      <td>0.000000</td>\n",
       "      <td>0.000000</td>\n",
       "      <td>0.000000</td>\n",
       "    </tr>\n",
       "    <tr>\n",
       "      <th>25%</th>\n",
       "      <td>0.053674</td>\n",
       "      <td>0.016085</td>\n",
       "      <td>0.377904</td>\n",
       "      <td>0.020636</td>\n",
       "      <td>0.422149</td>\n",
       "      <td>0.000000</td>\n",
       "      <td>0.513860</td>\n",
       "      <td>0.291396</td>\n",
       "    </tr>\n",
       "    <tr>\n",
       "      <th>50%</th>\n",
       "      <td>0.168254</td>\n",
       "      <td>0.043192</td>\n",
       "      <td>0.503034</td>\n",
       "      <td>0.193621</td>\n",
       "      <td>0.610640</td>\n",
       "      <td>0.400000</td>\n",
       "      <td>0.628032</td>\n",
       "      <td>0.424866</td>\n",
       "    </tr>\n",
       "    <tr>\n",
       "      <th>75%</th>\n",
       "      <td>0.348016</td>\n",
       "      <td>0.105659</td>\n",
       "      <td>0.606090</td>\n",
       "      <td>0.337291</td>\n",
       "      <td>0.783107</td>\n",
       "      <td>1.000000</td>\n",
       "      <td>0.722278</td>\n",
       "      <td>0.565477</td>\n",
       "    </tr>\n",
       "    <tr>\n",
       "      <th>max</th>\n",
       "      <td>1.000000</td>\n",
       "      <td>1.000000</td>\n",
       "      <td>1.000000</td>\n",
       "      <td>1.000000</td>\n",
       "      <td>1.000000</td>\n",
       "      <td>1.000000</td>\n",
       "      <td>1.000000</td>\n",
       "      <td>1.000000</td>\n",
       "    </tr>\n",
       "  </tbody>\n",
       "</table>\n",
       "</div>"
      ],
      "text/plain": [
       "               DC          BC          CC          EC         CEN         ECC  \\\n",
       "count  158.000000  158.000000  158.000000  158.000000  158.000000  158.000000   \n",
       "mean     0.230279    0.100278    0.495669    0.225283    0.592059    0.556962   \n",
       "std      0.212538    0.169508    0.187579    0.236011    0.245694    0.432644   \n",
       "min      0.000000    0.000000    0.000000    0.000000    0.000000    0.000000   \n",
       "25%      0.053674    0.016085    0.377904    0.020636    0.422149    0.000000   \n",
       "50%      0.168254    0.043192    0.503034    0.193621    0.610640    0.400000   \n",
       "75%      0.348016    0.105659    0.606090    0.337291    0.783107    1.000000   \n",
       "max      1.000000    1.000000    1.000000    1.000000    1.000000    1.000000   \n",
       "\n",
       "              RAD  Conectivity_Score  \n",
       "count  158.000000         158.000000  \n",
       "mean     0.608665           0.426127  \n",
       "std      0.183501           0.195098  \n",
       "min      0.000000           0.000000  \n",
       "25%      0.513860           0.291396  \n",
       "50%      0.628032           0.424866  \n",
       "75%      0.722278           0.565477  \n",
       "max      1.000000           1.000000  "
      ]
     },
     "execution_count": 20,
     "metadata": {},
     "output_type": "execute_result"
    }
   ],
   "source": [
    "# obtenemos la infromación general del dataset de topologia\n",
    "topo.info()\n",
    "topo.describe() # estadísticas descriptivas"
   ]
  },
  {
   "cell_type": "code",
   "execution_count": 15,
   "id": "a404673e",
   "metadata": {},
   "outputs": [
    {
     "data": {
      "text/plain": [
       "Node_id              0\n",
       "prediction           0\n",
       "DC                   0\n",
       "BC                   0\n",
       "CC                   0\n",
       "EC                   0\n",
       "CEN                  0\n",
       "ECC                  0\n",
       "RAD                  0\n",
       "Conectivity_Score    0\n",
       "dtype: int64"
      ]
     },
     "execution_count": 15,
     "metadata": {},
     "output_type": "execute_result"
    }
   ],
   "source": [
    "# valores faltante por columnas\n",
    "topo.isnull().sum()"
   ]
  },
  {
   "cell_type": "code",
   "execution_count": 50,
   "id": "760fd8b9",
   "metadata": {},
   "outputs": [
    {
     "name": "stdout",
     "output_type": "stream",
     "text": [
      "Archivo guardado en: C:\\Users\\Macarena Madrid\\Desktop\\alzheimer-target-prediction\\data\\processed\\raw_cleaned\\topo_clean.csv\n",
      "Total de datos topológicos: 157\n"
     ]
    }
   ],
   "source": [
    "processed_dir = r\"C:\\Users\\Macarena Madrid\\Desktop\\alzheimer-target-prediction\\data\\processed\\raw_cleaned\"\n",
    "\n",
    "# Filtrar para mantener solo las proteínas presentes en target_clean\n",
    "topo_clean = topo[topo['Node_id'].isin(target_clean['Node_id'])].copy()\n",
    "\n",
    "#Cambiar nombre de Conectivity_Score a Conectivity_score_topo\n",
    "topo_clean.rename(columns={\"Conectivity_Score\": \"Conectivity_score_topo\"}, inplace=True)\n",
    "\n",
    "# Guardar la versión limpia (mismo nombre que la variable)\n",
    "topo_clean.to_csv(os.path.join(processed_dir, \"topo_clean.csv\"), index=False)\n",
    "\n",
    "# Verificación\n",
    "print(\"Archivo guardado en:\", os.path.join(processed_dir, \"topo_clean.csv\"))\n",
    "print(\"Total de datos topológicos:\", len(topo_clean))\n"
   ]
  },
  {
   "cell_type": "code",
   "execution_count": 51,
   "id": "93a7f7be",
   "metadata": {},
   "outputs": [
    {
     "data": {
      "text/html": [
       "<div>\n",
       "<style scoped>\n",
       "    .dataframe tbody tr th:only-of-type {\n",
       "        vertical-align: middle;\n",
       "    }\n",
       "\n",
       "    .dataframe tbody tr th {\n",
       "        vertical-align: top;\n",
       "    }\n",
       "\n",
       "    .dataframe thead th {\n",
       "        text-align: right;\n",
       "    }\n",
       "</style>\n",
       "<table border=\"1\" class=\"dataframe\">\n",
       "  <thead>\n",
       "    <tr style=\"text-align: right;\">\n",
       "      <th></th>\n",
       "      <th>Node_id</th>\n",
       "      <th>prediction</th>\n",
       "      <th>DC</th>\n",
       "      <th>BC</th>\n",
       "      <th>CC</th>\n",
       "      <th>EC</th>\n",
       "      <th>CEN</th>\n",
       "      <th>ECC</th>\n",
       "      <th>RAD</th>\n",
       "      <th>Conectivity_score_topo</th>\n",
       "    </tr>\n",
       "  </thead>\n",
       "  <tbody>\n",
       "    <tr>\n",
       "      <th>0</th>\n",
       "      <td>AGT</td>\n",
       "      <td>Up</td>\n",
       "      <td>0.749640</td>\n",
       "      <td>0.881329</td>\n",
       "      <td>0.922370</td>\n",
       "      <td>0.619335</td>\n",
       "      <td>0.094793</td>\n",
       "      <td>1.0</td>\n",
       "      <td>0.956340</td>\n",
       "      <td>0.703706</td>\n",
       "    </tr>\n",
       "    <tr>\n",
       "      <th>1</th>\n",
       "      <td>APOE</td>\n",
       "      <td>Up</td>\n",
       "      <td>0.817266</td>\n",
       "      <td>0.943827</td>\n",
       "      <td>0.946559</td>\n",
       "      <td>0.655622</td>\n",
       "      <td>0.064516</td>\n",
       "      <td>1.0</td>\n",
       "      <td>0.970285</td>\n",
       "      <td>0.680186</td>\n",
       "    </tr>\n",
       "    <tr>\n",
       "      <th>2</th>\n",
       "      <td>ALDH7A1</td>\n",
       "      <td>Up</td>\n",
       "      <td>0.274820</td>\n",
       "      <td>0.198363</td>\n",
       "      <td>0.627651</td>\n",
       "      <td>0.289315</td>\n",
       "      <td>0.400113</td>\n",
       "      <td>1.0</td>\n",
       "      <td>0.756549</td>\n",
       "      <td>0.580241</td>\n",
       "    </tr>\n",
       "    <tr>\n",
       "      <th>3</th>\n",
       "      <td>GLUD1</td>\n",
       "      <td>Up</td>\n",
       "      <td>0.205755</td>\n",
       "      <td>0.141130</td>\n",
       "      <td>0.590557</td>\n",
       "      <td>0.068793</td>\n",
       "      <td>0.458970</td>\n",
       "      <td>1.0</td>\n",
       "      <td>0.726704</td>\n",
       "      <td>0.408576</td>\n",
       "    </tr>\n",
       "    <tr>\n",
       "      <th>4</th>\n",
       "      <td>EPHX1</td>\n",
       "      <td>Up</td>\n",
       "      <td>0.109353</td>\n",
       "      <td>0.054785</td>\n",
       "      <td>0.352921</td>\n",
       "      <td>0.026284</td>\n",
       "      <td>0.887097</td>\n",
       "      <td>0.4</td>\n",
       "      <td>0.501368</td>\n",
       "      <td>0.700345</td>\n",
       "    </tr>\n",
       "  </tbody>\n",
       "</table>\n",
       "</div>"
      ],
      "text/plain": [
       "   Node_id prediction        DC        BC        CC        EC       CEN  ECC  \\\n",
       "0      AGT         Up  0.749640  0.881329  0.922370  0.619335  0.094793  1.0   \n",
       "1     APOE         Up  0.817266  0.943827  0.946559  0.655622  0.064516  1.0   \n",
       "2  ALDH7A1         Up  0.274820  0.198363  0.627651  0.289315  0.400113  1.0   \n",
       "3    GLUD1         Up  0.205755  0.141130  0.590557  0.068793  0.458970  1.0   \n",
       "4    EPHX1         Up  0.109353  0.054785  0.352921  0.026284  0.887097  0.4   \n",
       "\n",
       "        RAD  Conectivity_score_topo  \n",
       "0  0.956340                0.703706  \n",
       "1  0.970285                0.680186  \n",
       "2  0.756549                0.580241  \n",
       "3  0.726704                0.408576  \n",
       "4  0.501368                0.700345  "
      ]
     },
     "execution_count": 51,
     "metadata": {},
     "output_type": "execute_result"
    }
   ],
   "source": [
    "topo_clean.head()"
   ]
  },
  {
   "cell_type": "markdown",
   "id": "feb179f4",
   "metadata": {},
   "source": [
    "### Gráficas para Topo"
   ]
  },
  {
   "cell_type": "code",
   "execution_count": 63,
   "id": "81cffa4b",
   "metadata": {},
   "outputs": [],
   "source": [
    "# Cargar los datos limpios\n",
    "data_dir = r\"C:\\Users\\Macarena Madrid\\Desktop\\\\alzheimer-target-prediction\\data\\processed\\raw_cleaned\"\n",
    "topo_c = pd.read_csv(os.path.join(data_dir, \"topo_clean.csv\"))"
   ]
  },
  {
   "cell_type": "code",
   "execution_count": 64,
   "id": "85884caa",
   "metadata": {},
   "outputs": [],
   "source": [
    "# Histograma de cada métrica topológica\n",
    "fig_dir = r\"C:\\Users\\Macarena Madrid\\Desktop\\\\alzheimer-target-prediction\\results\\figures\"\n",
    "\n",
    "metrics = [\"DC\", \"BC\", \"CC\", \"EC\", \"CEN\", \"ECC\", \"RAD\", \"Conectivity_score_topo\"]\n",
    "for metric in metrics:\n",
    "    plt.figure(figsize=(6, 4))\n",
    "    sns.histplot(topo_c[metric], bins=30, kde=True)\n",
    "    plt.title(f\"Distribución de {metric}\")\n",
    "    plt.tight_layout()\n",
    "    plt.savefig(os.path.join(fig_dir, f\"topo_{metric}_distribution.png\"))\n",
    "    plt.close()"
   ]
  },
  {
   "cell_type": "code",
   "execution_count": 65,
   "id": "45169abe",
   "metadata": {},
   "outputs": [],
   "source": [
    "# Heatmap de correlación de las métricas topológicas\n",
    "fig_dir = r\"C:\\Users\\Macarena Madrid\\Desktop\\\\alzheimer-target-prediction\\results\\figures\"\n",
    "\n",
    "plt.figure(figsize=(8, 6))\n",
    "sns.heatmap(topo_c[metrics].corr(), annot=True, fmt=\".2f\", cmap=\"viridis\")\n",
    "plt.title(\"Correlación entre métricas topológicas\")\n",
    "plt.tight_layout()\n",
    "plt.savefig(os.path.join(fig_dir, \"topo_correlation_heatmap.png\"))\n",
    "plt.close()\n"
   ]
  },
  {
   "cell_type": "markdown",
   "id": "bcf10a3b",
   "metadata": {},
   "source": [
    "## Datos de enriquecimiento"
   ]
  },
  {
   "cell_type": "code",
   "execution_count": 24,
   "id": "c1168591",
   "metadata": {},
   "outputs": [
    {
     "name": "stdout",
     "output_type": "stream",
     "text": [
      "<class 'pandas.core.frame.DataFrame'>\n",
      "RangeIndex: 5352 entries, 0 to 5351\n",
      "Data columns (total 9 columns):\n",
      " #   Column                Non-Null Count  Dtype  \n",
      "---  ------                --------------  -----  \n",
      " 0   Rank                  5352 non-null   int64  \n",
      " 1   Term Name             5352 non-null   object \n",
      " 2   P-value               5352 non-null   float64\n",
      " 3   Z-score               5352 non-null   float64\n",
      " 4   Combined_Score        5352 non-null   float64\n",
      " 5   Overlapping genes     5352 non-null   object \n",
      " 6   Adjusted p-value      5352 non-null   float64\n",
      " 7   Old p-value           5352 non-null   int64  \n",
      " 8   Old Adjusted p-value  5352 non-null   int64  \n",
      "dtypes: float64(4), int64(3), object(2)\n",
      "memory usage: 376.4+ KB\n",
      "<class 'pandas.core.frame.DataFrame'>\n",
      "RangeIndex: 1109 entries, 0 to 1108\n",
      "Data columns (total 9 columns):\n",
      " #   Column                Non-Null Count  Dtype  \n",
      "---  ------                --------------  -----  \n",
      " 0   Rank                  1109 non-null   int64  \n",
      " 1   Term Name             1109 non-null   object \n",
      " 2   P-value               1109 non-null   float64\n",
      " 3   Z-score               1109 non-null   float64\n",
      " 4   Combined_Score        1109 non-null   float64\n",
      " 5   Overlapping genes     1109 non-null   object \n",
      " 6   Adjusted p-value      1109 non-null   float64\n",
      " 7   Old p-value           1109 non-null   int64  \n",
      " 8   Old Adjusted p-value  1109 non-null   int64  \n",
      "dtypes: float64(4), int64(3), object(2)\n",
      "memory usage: 78.1+ KB\n",
      "<class 'pandas.core.frame.DataFrame'>\n",
      "RangeIndex: 467 entries, 0 to 466\n",
      "Data columns (total 9 columns):\n",
      " #   Column                Non-Null Count  Dtype  \n",
      "---  ------                --------------  -----  \n",
      " 0   Rank                  467 non-null    int64  \n",
      " 1   Term Name             467 non-null    object \n",
      " 2   P-value               467 non-null    float64\n",
      " 3   Z-score               467 non-null    float64\n",
      " 4   Combined_Score        467 non-null    float64\n",
      " 5   Overlapping genes     467 non-null    object \n",
      " 6   Adjusted p-value      467 non-null    float64\n",
      " 7   Old p-value           467 non-null    int64  \n",
      " 8   Old Adjusted p-value  467 non-null    int64  \n",
      "dtypes: float64(4), int64(3), object(2)\n",
      "memory usage: 33.0+ KB\n"
     ]
    }
   ],
   "source": [
    "# obtenemos la infromación general del dataset de enrichment\n",
    "enrichment_info = {sheet: df.info() for sheet, df in enrichment.items()}"
   ]
  },
  {
   "cell_type": "markdown",
   "id": "caea52d7",
   "metadata": {},
   "source": [
    "BP tiene solo 5352 entradas, MF 1109 y CC 467. Lo que da un total de 6.928 Ontologías."
   ]
  },
  {
   "cell_type": "code",
   "execution_count": 30,
   "id": "4beb3f40",
   "metadata": {},
   "outputs": [
    {
     "name": "stdout",
     "output_type": "stream",
     "text": [
      "\n",
      "Descripción estadística para: Biological process\n",
      "              Rank        P-value        Z-score  Combined_Score  \\\n",
      "count  5352.000000   5.352000e+03    5352.000000    5.352000e+03   \n",
      "mean   2676.500000   1.874399e-01    3170.913153    4.271678e+04   \n",
      "std    1545.133651   2.734338e-01   22435.668584    6.919208e+05   \n",
      "min       1.000000  2.196107e-120       0.014563    7.158492e-08   \n",
      "25%    1338.750000   1.163665e-03       1.545482    2.272210e+00   \n",
      "50%    2676.500000   4.158506e-02       2.625268    9.755728e+00   \n",
      "75%    4014.250000   2.727592e-01       4.182365    3.341058e+01   \n",
      "max    5352.000000   9.999954e-01  713592.000000    4.240141e+07   \n",
      "\n",
      "       Adjusted p-value  Old p-value  Old Adjusted p-value  \n",
      "count      5.352000e+03       5352.0                5352.0  \n",
      "mean       2.255008e-01          0.0                   0.0  \n",
      "std        2.906253e-01          0.0                   0.0  \n",
      "min       1.175357e-116          0.0                   0.0  \n",
      "25%        4.609869e-03          0.0                   0.0  \n",
      "50%        7.933669e-02          0.0                   0.0  \n",
      "75%        3.631361e-01          0.0                   0.0  \n",
      "max        9.999954e-01          0.0                   0.0  \n",
      "\n",
      "Descripción estadística para: Molecular function\n",
      "              Rank        P-value        Z-score  Combined_Score  \\\n",
      "count  1109.000000   1.109000e+03    1109.000000    1.109000e+03   \n",
      "mean    555.000000   2.935878e-01    5551.457830    7.198179e+04   \n",
      "std     320.285029   3.322863e-01   28904.423464    6.075011e+05   \n",
      "min       1.000000  4.514513e-115       0.005554    3.561640e-08   \n",
      "25%     278.000000   5.047413e-03       1.098640    7.855297e-01   \n",
      "50%     555.000000   1.370898e-01       2.060462    4.485426e+00   \n",
      "75%     832.000000   5.261419e-01       4.121862    2.494599e+01   \n",
      "max    1109.000000   9.999963e-01  444312.000000    1.642292e+07   \n",
      "\n",
      "       Adjusted p-value  Old p-value  Old Adjusted p-value  \n",
      "count      1.109000e+03       1109.0                1109.0  \n",
      "mean       3.809224e-01          0.0                   0.0  \n",
      "std        3.615768e-01          0.0                   0.0  \n",
      "min       5.006595e-112          0.0                   0.0  \n",
      "25%        2.013518e-02          0.0                   0.0  \n",
      "50%        2.729490e-01          0.0                   0.0  \n",
      "75%        6.946326e-01          0.0                   0.0  \n",
      "max        9.999963e-01          0.0                   0.0  \n",
      "\n",
      "Descripción estadística para: Cellular component\n",
      "             Rank        P-value        Z-score  Combined_Score  \\\n",
      "count  467.000000   4.670000e+02     467.000000    4.670000e+02   \n",
      "mean   234.000000   1.357946e-01   13987.265077    1.926003e+05   \n",
      "std    134.955548   2.527695e-01   46099.538657    8.714369e+05   \n",
      "min      1.000000  7.988299e-104       0.171411    7.942886e-05   \n",
      "25%    117.500000   5.057186e-06       1.782917    4.808708e+00   \n",
      "50%    234.000000   3.723542e-03       2.888010    2.224730e+01   \n",
      "75%    350.500000   1.126298e-01       6.577761    7.952659e+01   \n",
      "max    467.000000   9.995367e-01  363528.000000    1.099077e+07   \n",
      "\n",
      "       Adjusted p-value  Old p-value  Old Adjusted p-value  \n",
      "count      4.670000e+02        467.0                 467.0  \n",
      "mean       1.530315e-01          0.0                   0.0  \n",
      "std        2.661614e-01          0.0                   0.0  \n",
      "min       3.730536e-101          0.0                   0.0  \n",
      "25%        2.000369e-05          0.0                   0.0  \n",
      "50%        7.399550e-03          0.0                   0.0  \n",
      "75%        1.500659e-01          0.0                   0.0  \n",
      "max        9.995367e-01          0.0                   0.0  \n"
     ]
    }
   ],
   "source": [
    "for sheet_name, df in enrichment.items():\n",
    "    print(f\"\\nDescripción estadística para: {sheet_name}\")\n",
    "    print(df.describe())\n"
   ]
  },
  {
   "cell_type": "markdown",
   "id": "2e806148",
   "metadata": {},
   "source": [
    "El P-value y Adjusted p-value indican la significancia estadistica de cada témino GO. Mientras más bajo, más relevante es el GO.\n",
    "El Combined_Score combina Z-score y p-value para el ranking."
   ]
  },
  {
   "cell_type": "code",
   "execution_count": 32,
   "id": "711c3eb2",
   "metadata": {},
   "outputs": [
    {
     "name": "stdout",
     "output_type": "stream",
     "text": [
      "\n",
      " Valores nulos en: Biological process\n",
      "Rank                    0\n",
      "Term Name               0\n",
      "P-value                 0\n",
      "Z-score                 0\n",
      "Combined_Score          0\n",
      "Overlapping genes       0\n",
      "Adjusted p-value        0\n",
      "Old p-value             0\n",
      "Old Adjusted p-value    0\n",
      "dtype: int64\n",
      "\n",
      " Valores nulos en: Molecular function\n",
      "Rank                    0\n",
      "Term Name               0\n",
      "P-value                 0\n",
      "Z-score                 0\n",
      "Combined_Score          0\n",
      "Overlapping genes       0\n",
      "Adjusted p-value        0\n",
      "Old p-value             0\n",
      "Old Adjusted p-value    0\n",
      "dtype: int64\n",
      "\n",
      " Valores nulos en: Cellular component\n",
      "Rank                    0\n",
      "Term Name               0\n",
      "P-value                 0\n",
      "Z-score                 0\n",
      "Combined_Score          0\n",
      "Overlapping genes       0\n",
      "Adjusted p-value        0\n",
      "Old p-value             0\n",
      "Old Adjusted p-value    0\n",
      "dtype: int64\n"
     ]
    }
   ],
   "source": [
    "# valores faltante por columnas\n",
    "for sheet_name, df in enrichment.items():\n",
    "    print(f\"\\n Valores nulos en: {sheet_name}\")\n",
    "    print(df.isnull().sum())\n",
    "\n",
    "\n",
    "\n",
    "\n"
   ]
  },
  {
   "cell_type": "markdown",
   "id": "296df769",
   "metadata": {},
   "source": [
    "Las columnas old p-value y old adjusted p-value están completamente llenas de ceros, por lo que no aportan información útil. Se eliminarán de los 3 DataFrame. "
   ]
  },
  {
   "cell_type": "code",
   "execution_count": 45,
   "id": "ed04e8c9",
   "metadata": {},
   "outputs": [
    {
     "name": "stderr",
     "output_type": "stream",
     "text": [
      "c:\\Users\\Macarena Madrid\\AppData\\Local\\Programs\\Python\\Python311\\Lib\\site-packages\\openpyxl\\styles\\stylesheet.py:237: UserWarning: Workbook contains no default style, apply openpyxl's default\n",
      "  warn(\"Workbook contains no default style, apply openpyxl's default\")\n"
     ]
    }
   ],
   "source": [
    "# Hacer un unico dataframe con los términos GO de todas las hojas del archivo de enriquecimiento\n",
    "import pandas as pd\n",
    "import os\n",
    "\n",
    "# Ruta del archivo original\n",
    "enrichment_file = \"C:/Users/Macarena Madrid/Desktop/alzheimer-target-prediction/data/raw/enrichment2.xlsx\"\n",
    "\n",
    "# Leer todas las hojas del archivo de enriquecimiento\n",
    "enrichment = pd.read_excel(enrichment_file, sheet_name=None)\n",
    "\n",
    "# Diccionario para asignar sufijo según la ontología\n",
    "suffix_map = {\n",
    "    \"Biological process\": \"BP\",\n",
    "    \"Molecular function\": \"MF\",\n",
    "    \"Cellular component\": \"CC\"\n",
    "}\n",
    "\n",
    "# Lista para almacenar dataframes procesados\n",
    "go_clean_list = []\n",
    "\n",
    "# Procesar cada hoja\n",
    "for sheet, df in enrichment.items():\n",
    "    df = df.copy()\n",
    "\n",
    "    # Eliminar columnas antiguas si existen\n",
    "    df.drop(columns=[\"Old p-value\", \"Old Adjusted p-value\"], inplace=True, errors=\"ignore\")\n",
    "\n",
    "    # Separar \"Term Name\" en nombre y GO ID\n",
    "    df[[\"Term_Name_Clean\", \"GO_ID\"]] = df[\"Term Name\"].str.extract(r\"^(.*?)\\s*\\((GO:\\d+)\\)\")\n",
    "\n",
    "    # Agregar sufijo a GO ID según la ontología\n",
    "    df[\"GO\"] = df[\"GO_ID\"] + \"_\" + suffix_map[sheet]\n",
    "\n",
    "    # Agregar columna con tipo de ontología (opcional)\n",
    "    df[\"Ontology\"] = suffix_map[sheet]\n",
    "\n",
    "    # Seleccionar columnas relevantes\n",
    "    df_final = df[[\"Rank\",\"Term_Name_Clean\", \"GO\", \"P-value\", \"Z-score\", \"Combined_Score\", \"Overlapping genes\", \"Adjusted p-value\", \"Ontology\"]]\n",
    "    go_clean_list.append(df_final)\n",
    "\n",
    "# Unir todos los dataframes en uno solo\n",
    "go_merged = pd.concat(go_clean_list, ignore_index=True)\n",
    "\n",
    "\n"
   ]
  },
  {
   "cell_type": "code",
   "execution_count": 46,
   "id": "5d395ffc",
   "metadata": {},
   "outputs": [
    {
     "data": {
      "text/html": [
       "<div>\n",
       "<style scoped>\n",
       "    .dataframe tbody tr th:only-of-type {\n",
       "        vertical-align: middle;\n",
       "    }\n",
       "\n",
       "    .dataframe tbody tr th {\n",
       "        vertical-align: top;\n",
       "    }\n",
       "\n",
       "    .dataframe thead th {\n",
       "        text-align: right;\n",
       "    }\n",
       "</style>\n",
       "<table border=\"1\" class=\"dataframe\">\n",
       "  <thead>\n",
       "    <tr style=\"text-align: right;\">\n",
       "      <th></th>\n",
       "      <th>Rank</th>\n",
       "      <th>Term_Name_Clean</th>\n",
       "      <th>GO</th>\n",
       "      <th>P-value</th>\n",
       "      <th>Z-score</th>\n",
       "      <th>Combined_Score</th>\n",
       "      <th>Overlapping genes</th>\n",
       "      <th>Adjusted p-value</th>\n",
       "      <th>Ontology</th>\n",
       "    </tr>\n",
       "  </thead>\n",
       "  <tbody>\n",
       "    <tr>\n",
       "      <th>0</th>\n",
       "      <td>1</td>\n",
       "      <td>Protein Phosphorylation</td>\n",
       "      <td>GO:0006468_BP</td>\n",
       "      <td>2.196107e-120</td>\n",
       "      <td>10.371111</td>\n",
       "      <td>2857.484956</td>\n",
       "      <td>ATF2, MAML1, TESK2, LIPE, TBK1, AKT2, PRKACG, ...</td>\n",
       "      <td>1.175357e-116</td>\n",
       "      <td>BP</td>\n",
       "    </tr>\n",
       "    <tr>\n",
       "      <th>1</th>\n",
       "      <td>2</td>\n",
       "      <td>Phosphorylation</td>\n",
       "      <td>GO:0016310_BP</td>\n",
       "      <td>2.023750e-88</td>\n",
       "      <td>8.128998</td>\n",
       "      <td>1641.427871</td>\n",
       "      <td>EPHB6, PANK2, TP53RK, MAML1, TESK2, RPS6KA4, L...</td>\n",
       "      <td>5.415555e-85</td>\n",
       "      <td>BP</td>\n",
       "    </tr>\n",
       "    <tr>\n",
       "      <th>2</th>\n",
       "      <td>3</td>\n",
       "      <td>Positive Regulation Of DNA-templated Transcrip...</td>\n",
       "      <td>GO:0045893_BP</td>\n",
       "      <td>1.149844e-78</td>\n",
       "      <td>3.041530</td>\n",
       "      <td>545.839131</td>\n",
       "      <td>ATF1, ATF2, SPI1, MAML1, TRRAP, HNRNPU, GPATCH...</td>\n",
       "      <td>2.051321e-75</td>\n",
       "      <td>BP</td>\n",
       "    </tr>\n",
       "    <tr>\n",
       "      <th>3</th>\n",
       "      <td>4</td>\n",
       "      <td>Positive Regulation Of Nucleic Acid-Templated ...</td>\n",
       "      <td>GO:1903508_BP</td>\n",
       "      <td>8.127226e-68</td>\n",
       "      <td>4.633815</td>\n",
       "      <td>715.834306</td>\n",
       "      <td>TRRAP, GPATCH3, SOX2, SOX17, KAT5, SOX18, ZMIZ...</td>\n",
       "      <td>1.087423e-64</td>\n",
       "      <td>BP</td>\n",
       "    </tr>\n",
       "    <tr>\n",
       "      <th>4</th>\n",
       "      <td>5</td>\n",
       "      <td>Protein Modification Process</td>\n",
       "      <td>GO:0036211_BP</td>\n",
       "      <td>2.927007e-63</td>\n",
       "      <td>3.670553</td>\n",
       "      <td>528.518884</td>\n",
       "      <td>MAML1, ARAF, TESK2, DCAF1, LIPE, TBK1, AKT2, A...</td>\n",
       "      <td>3.133068e-60</td>\n",
       "      <td>BP</td>\n",
       "    </tr>\n",
       "  </tbody>\n",
       "</table>\n",
       "</div>"
      ],
      "text/plain": [
       "   Rank                                    Term_Name_Clean             GO  \\\n",
       "0     1                            Protein Phosphorylation  GO:0006468_BP   \n",
       "1     2                                    Phosphorylation  GO:0016310_BP   \n",
       "2     3  Positive Regulation Of DNA-templated Transcrip...  GO:0045893_BP   \n",
       "3     4  Positive Regulation Of Nucleic Acid-Templated ...  GO:1903508_BP   \n",
       "4     5                       Protein Modification Process  GO:0036211_BP   \n",
       "\n",
       "         P-value    Z-score  Combined_Score  \\\n",
       "0  2.196107e-120  10.371111     2857.484956   \n",
       "1   2.023750e-88   8.128998     1641.427871   \n",
       "2   1.149844e-78   3.041530      545.839131   \n",
       "3   8.127226e-68   4.633815      715.834306   \n",
       "4   2.927007e-63   3.670553      528.518884   \n",
       "\n",
       "                                   Overlapping genes  Adjusted p-value  \\\n",
       "0  ATF2, MAML1, TESK2, LIPE, TBK1, AKT2, PRKACG, ...     1.175357e-116   \n",
       "1  EPHB6, PANK2, TP53RK, MAML1, TESK2, RPS6KA4, L...      5.415555e-85   \n",
       "2  ATF1, ATF2, SPI1, MAML1, TRRAP, HNRNPU, GPATCH...      2.051321e-75   \n",
       "3  TRRAP, GPATCH3, SOX2, SOX17, KAT5, SOX18, ZMIZ...      1.087423e-64   \n",
       "4  MAML1, ARAF, TESK2, DCAF1, LIPE, TBK1, AKT2, A...      3.133068e-60   \n",
       "\n",
       "  Ontology  \n",
       "0       BP  \n",
       "1       BP  \n",
       "2       BP  \n",
       "3       BP  \n",
       "4       BP  "
      ]
     },
     "execution_count": 46,
     "metadata": {},
     "output_type": "execute_result"
    }
   ],
   "source": [
    "go_merged.head()"
   ]
  },
  {
   "cell_type": "code",
   "execution_count": 47,
   "id": "2f4241b9",
   "metadata": {},
   "outputs": [
    {
     "name": "stdout",
     "output_type": "stream",
     "text": [
      "Archivo guardado en: C:/Users/Macarena Madrid/Desktop/alzheimer-target-prediction/data/processed/raw_cleaned\\go_enrichment_clean.csv\n",
      "Total de terminos GO: 6928\n"
     ]
    }
   ],
   "source": [
    "# Guardar como CSV\n",
    "processed_dir = \"C:/Users/Macarena Madrid/Desktop/alzheimer-target-prediction/data/processed/raw_cleaned\"\n",
    "go_clean_path = os.path.join(processed_dir, \"go_enrichment_clean.csv\")\n",
    "go_merged.to_csv(go_clean_path, index=False)\n",
    "\n",
    "# Confirmar guardado\n",
    "print(\"Archivo guardado en:\", go_clean_path)\n",
    "print(\"Total de terminos GO:\", len(go_merged))\n"
   ]
  },
  {
   "cell_type": "markdown",
   "id": "9a5e70e2",
   "metadata": {},
   "source": [
    "### Gráficas para Enriquecimiento"
   ]
  },
  {
   "cell_type": "code",
   "execution_count": 67,
   "id": "2d31b2fe",
   "metadata": {},
   "outputs": [],
   "source": [
    "# Cargar los datos limpios\n",
    "data_dir = r\"C:\\Users\\Macarena Madrid\\Desktop\\\\alzheimer-target-prediction\\data\\processed\\raw_cleaned\"\n",
    "go_c = pd.read_csv(os.path.join(data_dir, \"go_enrichment_clean.csv\"))"
   ]
  },
  {
   "cell_type": "code",
   "execution_count": null,
   "id": "908c15e5",
   "metadata": {},
   "outputs": [],
   "source": [
    "# Número de términos por ontología (BP, MF, CC)\n",
    "plt.figure(figsize=(6, 4))\n",
    "go_c[\"Ontology\"].value_counts().plot(kind=\"bar\", color=\"salmon\")\n",
    "plt.title(\"Cantidad de términos GO por Ontología\")\n",
    "plt.tight_layout()\n",
    "plt.savefig(os.path.join(fig_dir, \"go_terms_by_ontology.png\"))\n",
    "plt.close()\n",
    "\n",
    "#BP tiene solo 5352 entradas, MF 1109 y CC 467."
   ]
  },
  {
   "cell_type": "code",
   "execution_count": 69,
   "id": "5369b87b",
   "metadata": {},
   "outputs": [],
   "source": [
    "# Distribución de Adjusted p-value \n",
    "plt.figure(figsize=(6, 4))\n",
    "sns.histplot(go_c[\"Adjusted p-value\"], bins=50, log_scale=(False, True))\n",
    "plt.title(\"Distribución de Adjusted p-value\")\n",
    "plt.xlabel(\"Adjusted p-value (log)\")\n",
    "plt.tight_layout()\n",
    "plt.savefig(os.path.join(fig_dir, \"adjusted_pvalue_distribution.png\"))\n",
    "plt.close()\n"
   ]
  },
  {
   "cell_type": "code",
   "execution_count": 70,
   "id": "c2c56e81",
   "metadata": {},
   "outputs": [],
   "source": [
    "# Wordcloud con los Termn_Name_Clean\n",
    "text = \" \".join(go_c[\"Term_Name_Clean\"].dropna())\n",
    "wordcloud = WordCloud(width=800, height=400, background_color=\"white\").generate(text)\n",
    "plt.figure(figsize=(10, 5))\n",
    "plt.imshow(wordcloud, interpolation=\"bilinear\")\n",
    "plt.axis(\"off\")\n",
    "plt.title(\"WordCloud de Términos GO\")\n",
    "plt.tight_layout()\n",
    "plt.savefig(os.path.join(fig_dir, \"go_wordcloud.png\"))\n",
    "plt.close()"
   ]
  }
 ],
 "metadata": {
  "kernelspec": {
   "display_name": "Python 3",
   "language": "python",
   "name": "python3"
  },
  "language_info": {
   "codemirror_mode": {
    "name": "ipython",
    "version": 3
   },
   "file_extension": ".py",
   "mimetype": "text/x-python",
   "name": "python",
   "nbconvert_exporter": "python",
   "pygments_lexer": "ipython3",
   "version": "3.11.0"
  }
 },
 "nbformat": 4,
 "nbformat_minor": 5
}
