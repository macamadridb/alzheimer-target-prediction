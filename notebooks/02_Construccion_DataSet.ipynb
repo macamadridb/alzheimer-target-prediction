{
 "cells": [
  {
   "cell_type": "markdown",
   "id": "b4b35d57",
   "metadata": {},
   "source": [
    "# **0.2 Construcción del Dataset**"
   ]
  },
  {
   "cell_type": "code",
   "execution_count": 2,
   "id": "8548f7ea",
   "metadata": {},
   "outputs": [],
   "source": [
    "# Importamos librerías \n",
    "import pandas as pd\n",
    "import numpy as np\n",
    "import os"
   ]
  },
  {
   "cell_type": "code",
   "execution_count": 3,
   "id": "ba348397",
   "metadata": {},
   "outputs": [],
   "source": [
    "# Cargar datos \n",
    "data_dir = os.path.join(\"..\",\"data\",\"processed\",\"raw_cleaned\")\n",
    "\n",
    "ppi_c = pd.read_csv(os.path.join(data_dir, \"ppi_clean.csv\"))\n",
    "target_c = pd.read_csv(os.path.join(data_dir, \"target_clean.csv\"))\n",
    "topo_c = pd.read_csv(os.path.join(data_dir, \"topo_clean.csv\"))\n",
    "go_c = pd.read_csv(os.path.join(data_dir, \"go_enrichment_clean.csv\"))\n"
   ]
  },
  {
   "cell_type": "markdown",
   "id": "59b6002c",
   "metadata": {},
   "source": [
    "Conjunto de proteínas en estudio P."
   ]
  },
  {
   "cell_type": "markdown",
   "id": "9d8978ca",
   "metadata": {},
   "source": [
    "Procesar anotaciones GO (Construye G)"
   ]
  },
  {
   "cell_type": "code",
   "execution_count": 4,
   "id": "ce5ee00e",
   "metadata": {},
   "outputs": [],
   "source": [
    "# Separar proteínas asociadas a cada término GO\n",
    "go_expanded = go_c.copy()\n",
    "go_expanded['Overlapping genes'] = go_expanded['Overlapping genes'].astype(str).str.split(',')\n",
    "go_expanded = go_expanded.explode('Overlapping genes')\n",
    "go_expanded['Overlapping genes'] = go_expanded['Overlapping genes'].str.strip()\n",
    "go_expanded = go_expanded.rename(columns={'Overlapping genes': 'Protein'})"
   ]
  },
  {
   "cell_type": "markdown",
   "id": "9d81d1df",
   "metadata": {},
   "source": [
    "Matriz funcional X_GO. donde filas = proteinas y columnas = términos GO."
   ]
  },
  {
   "cell_type": "code",
   "execution_count": 5,
   "id": "996218e6",
   "metadata": {},
   "outputs": [],
   "source": [
    "# Matriz funcional: 1 si proteína tiene GO, 0 si no\n",
    "protein_go_matrix = pd.crosstab(go_expanded['Protein'], go_expanded['GO'])"
   ]
  },
  {
   "cell_type": "markdown",
   "id": "b3689fcd",
   "metadata": {},
   "source": [
    "Tratamiento para complejos proteicos. Consutruye participantes (p_i) de cada complejo proteico."
   ]
  },
  {
   "cell_type": "code",
   "execution_count": 6,
   "id": "7861b8de",
   "metadata": {},
   "outputs": [],
   "source": [
    "# Filtrar complejos proteicos y extraer proteínas participantes\n",
    "complex_df = target_c[target_c[\"Target_type\"] == \"PROTEIN COMPLEX\"].copy()\n",
    "complex_df = complex_df[complex_df[\"Complex_participants\"].notnull()]\n",
    "complex_df[\"Complex_participants\"] = complex_df[\"Complex_participants\"].astype(str).str.split(\",\")\n",
    "complex_df = complex_df.explode(\"Complex_participants\")\n",
    "complex_df[\"Complex_participants\"] = complex_df[\"Complex_participants\"].str.strip()\n"
   ]
  },
  {
   "cell_type": "markdown",
   "id": "1c1d0ec4",
   "metadata": {},
   "source": [
    "Asignar GO a complejos proteicos por herencia. Aqui se hace X_GO[p_i, p_j]"
   ]
  },
  {
   "cell_type": "code",
   "execution_count": 7,
   "id": "8cce0785",
   "metadata": {},
   "outputs": [],
   "source": [
    "# Mapeo: participante → complejo\n",
    "complex_map = complex_df.rename(columns={\"Complex_participants\": \"Protein\", \"Node_id\": \"Complex_id\"})\n",
    "complex_map = complex_map[[\"Protein\", \"Complex_id\"]]\n",
    "\n",
    "# Herencia de GO: participante → complejo\n",
    "go_with_complex = protein_go_matrix.reset_index().merge(complex_map, on=\"Protein\", how=\"inner\")\n",
    "go_by_complex = go_with_complex.drop(columns=[\"Protein\"]).groupby(\"Complex_id\").max()\n"
   ]
  },
  {
   "cell_type": "markdown",
   "id": "8ccec1db",
   "metadata": {},
   "source": [
    "Unir proteinas individuales y complejas en una sola matriz. Aqui se construye P."
   ]
  },
  {
   "cell_type": "code",
   "execution_count": 8,
   "id": "d3826a26",
   "metadata": {},
   "outputs": [],
   "source": [
    "# Extraer proteínas individuales\n",
    "single_proteins = target_c[target_c[\"Target_type\"] == \"SINGLE PROTEIN\"][\"Node_id\"]\n",
    "go_single = protein_go_matrix.loc[protein_go_matrix.index.isin(single_proteins)].copy()\n",
    "go_single.index.name = \"Node_id\"\n",
    "\n",
    "# Renombrar índices para unir\n",
    "go_by_complex.index.name = \"Node_id\"\n",
    "\n",
    "# Unión final\n",
    "X_GO = pd.concat([go_single, go_by_complex], axis=0)\n"
   ]
  },
  {
   "cell_type": "code",
   "execution_count": 9,
   "id": "2d7d1007",
   "metadata": {},
   "outputs": [
    {
     "name": "stdout",
     "output_type": "stream",
     "text": [
      "Total single proteins in X_GO: 3753\n",
      "Total complexes in X_GO: 1408\n"
     ]
    }
   ],
   "source": [
    "# cuantas single_protein hay en X_GO\n",
    "print(f\"Total single proteins in X_GO: {go_single.shape[0]}\")\n",
    "# cuantos complejos hay en X_GO\n",
    "print(f\"Total complexes in X_GO: {go_by_complex.shape[0]}\")"
   ]
  },
  {
   "cell_type": "code",
   "execution_count": 10,
   "id": "87f6b387",
   "metadata": {},
   "outputs": [
    {
     "name": "stdout",
     "output_type": "stream",
     "text": [
      "(5161, 6928)\n"
     ]
    }
   ],
   "source": [
    "# Matriz X.\n",
    "print(X_GO.shape)  # (5161, 6928)"
   ]
  },
  {
   "cell_type": "code",
   "execution_count": 18,
   "id": "3ebf348f",
   "metadata": {},
   "outputs": [
    {
     "name": "stdout",
     "output_type": "stream",
     "text": [
      "\n",
      "Datos guardados correctamente.\n",
      "Archivo guardado en: ..\\data\\processed\\raw_cleaned\\dataset_completo.csv\n"
     ]
    }
   ],
   "source": [
    "# Guardamos \n",
    "output_dir = os.path.join(\"..\",\"data\",\"processed\", \"raw_cleaned\")\n",
    "\n",
    "dataset_completo = X_GO.reset_index()\n",
    "\n",
    "# Guardar como CSV\n",
    "dataset_completo.to_csv(os.path.join(output_dir, 'dataset_completo.csv'), index=False)\n",
    "\n",
    "# Verificación\n",
    "print(\"\\nDatos guardados correctamente.\")\n",
    "print(f\"Archivo guardado en: {os.path.join(output_dir, 'dataset_completo.csv')}\")"
   ]
  },
  {
   "cell_type": "code",
   "execution_count": 19,
   "id": "19201e96",
   "metadata": {},
   "outputs": [
    {
     "name": "stdout",
     "output_type": "stream",
     "text": [
      "\n",
      "Primeras filas del dataset completo:\n",
      "  Node_id  GO:0000002_BP  GO:0000012_BP  GO:0000014_MF  GO:0000018_BP  \\\n",
      "0   A2ML1              0              0              0              0   \n",
      "1    AAK1              0              0              0              0   \n",
      "2   AARS1              0              0              0              0   \n",
      "3   AARS2              0              0              0              0   \n",
      "4    AASS              0              0              0              0   \n",
      "\n",
      "   GO:0000022_BP  GO:0000027_BP  GO:0000028_BP  GO:0000030_MF  GO:0000038_BP  \\\n",
      "0              0              0              0              0              0   \n",
      "1              0              0              0              0              0   \n",
      "2              0              0              0              0              0   \n",
      "3              0              0              0              0              0   \n",
      "4              0              0              0              0              0   \n",
      "\n",
      "   ...  GO:2001244_BP  GO:2001251_BP  GO:2001252_BP  GO:2001256_BP  \\\n",
      "0  ...              0              0              0              0   \n",
      "1  ...              0              0              0              0   \n",
      "2  ...              0              0              0              0   \n",
      "3  ...              0              0              0              0   \n",
      "4  ...              0              0              0              0   \n",
      "\n",
      "   GO:2001257_BP  GO:2001258_BP  GO:2001259_BP  GO:2001267_BP  GO:2001269_BP  \\\n",
      "0              0              0              0              0              0   \n",
      "1              0              0              0              0              0   \n",
      "2              0              0              0              0              0   \n",
      "3              0              0              0              0              0   \n",
      "4              0              0              0              0              0   \n",
      "\n",
      "   GO:2001280_BP  \n",
      "0              0  \n",
      "1              0  \n",
      "2              0  \n",
      "3              0  \n",
      "4              0  \n",
      "\n",
      "[5 rows x 6929 columns]\n"
     ]
    }
   ],
   "source": [
    "# Visualización dataset\n",
    "print(\"\\nPrimeras filas del dataset completo:\")\n",
    "print(dataset_completo.head())"
   ]
  },
  {
   "cell_type": "code",
   "execution_count": 14,
   "id": "641996c4",
   "metadata": {},
   "outputs": [
    {
     "name": "stdout",
     "output_type": "stream",
     "text": [
      "Total single proteins in dataset: 3753\n",
      "Total complexes in dataset: 1408\n"
     ]
    }
   ],
   "source": [
    "# Ver cuantos complejos y cuantas single_protein hay\n",
    "print(f\"Total single proteins in dataset: {dataset_completo[dataset_completo['Node_id'].isin(single_proteins)].shape[0]}\")\n",
    "print(f\"Total complexes in dataset: {dataset_completo[dataset_completo['Node_id'].isin(complex_map['Complex_id'])].shape[0]}\")"
   ]
  }
 ],
 "metadata": {
  "kernelspec": {
   "display_name": "Python 3",
   "language": "python",
   "name": "python3"
  },
  "language_info": {
   "codemirror_mode": {
    "name": "ipython",
    "version": 3
   },
   "file_extension": ".py",
   "mimetype": "text/x-python",
   "name": "python",
   "nbconvert_exporter": "python",
   "pygments_lexer": "ipython3",
   "version": "3.11.0"
  }
 },
 "nbformat": 4,
 "nbformat_minor": 5
}
