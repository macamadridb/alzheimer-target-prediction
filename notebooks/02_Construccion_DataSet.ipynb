{
 "cells": [
  {
   "cell_type": "markdown",
   "id": "b4b35d57",
   "metadata": {},
   "source": [
    "# **0.2 Construcción del Dataset**"
   ]
  },
  {
   "cell_type": "code",
   "execution_count": 37,
   "id": "8548f7ea",
   "metadata": {},
   "outputs": [],
   "source": [
    "# Importamos librerías \n",
    "import pandas as pd\n",
    "import os"
   ]
  },
  {
   "cell_type": "code",
   "execution_count": 38,
   "id": "ba348397",
   "metadata": {},
   "outputs": [],
   "source": [
    "# Cargar datos \n",
    "data_dir = os.path.join(\"..\",\"data\",\"processed\",\"raw_cleaned\")\n",
    "\n",
    "ppi_c = pd.read_csv(os.path.join(data_dir, \"ppi_clean.csv\"))\n",
    "target_c = pd.read_csv(os.path.join(data_dir, \"target_clean.csv\"))\n",
    "topo_c = pd.read_csv(os.path.join(data_dir, \"topo_clean.csv\"))\n",
    "go_c = pd.read_csv(os.path.join(data_dir, \"go_enrichment_clean.csv\"))\n"
   ]
  },
  {
   "cell_type": "markdown",
   "id": "0a76fdb6",
   "metadata": {},
   "source": [
    "## Construir de edge.txt\n"
   ]
  },
  {
   "cell_type": "code",
   "execution_count": 39,
   "id": "4c90574e",
   "metadata": {},
   "outputs": [],
   "source": [
    "output_dir = os.path.join(\"..\", \"data\", \"Input\")\n",
    "ppi_c.to_csv(os.path.join(output_dir, \"Edge.csv\"), sep='\\t', index=False, header=False)"
   ]
  },
  {
   "cell_type": "markdown",
   "id": "7baabc07",
   "metadata": {},
   "source": [
    "## Construir matriz P x Go_term"
   ]
  },
  {
   "cell_type": "markdown",
   "id": "59b6002c",
   "metadata": {},
   "source": [
    "Conjunto de proteínas en estudio P."
   ]
  },
  {
   "cell_type": "markdown",
   "id": "9d8978ca",
   "metadata": {},
   "source": [
    "Procesar anotaciones GO (Construye G)"
   ]
  },
  {
   "cell_type": "code",
   "execution_count": 40,
   "id": "ce5ee00e",
   "metadata": {},
   "outputs": [],
   "source": [
    "# Separar proteínas asociadas a cada término GO\n",
    "go_expanded = go_c.copy()\n",
    "go_expanded['Overlapping genes'] = go_expanded['Overlapping genes'].astype(str).str.split(',')\n",
    "go_expanded = go_expanded.explode('Overlapping genes')\n",
    "go_expanded['Overlapping genes'] = go_expanded['Overlapping genes'].str.strip()\n",
    "go_expanded = go_expanded.rename(columns={'Overlapping genes': 'Protein'})"
   ]
  },
  {
   "cell_type": "markdown",
   "id": "9d81d1df",
   "metadata": {},
   "source": [
    "Matriz funcional X_GO. donde filas = proteinas y columnas = términos GO."
   ]
  },
  {
   "cell_type": "code",
   "execution_count": 41,
   "id": "996218e6",
   "metadata": {},
   "outputs": [],
   "source": [
    "# Matriz funcional: 1 si proteína tiene GO, 0 si no\n",
    "protein_go_matrix = pd.crosstab(go_expanded['Protein'], go_expanded['GO'])"
   ]
  },
  {
   "cell_type": "markdown",
   "id": "b3689fcd",
   "metadata": {},
   "source": [
    "Tratamiento para complejos proteicos. Consutruye participantes (p_i) de cada complejo proteico."
   ]
  },
  {
   "cell_type": "code",
   "execution_count": 42,
   "id": "7861b8de",
   "metadata": {},
   "outputs": [],
   "source": [
    "# Filtrar complejos proteicos y extraer proteínas participantes\n",
    "complex_df = target_c[target_c[\"Target_type\"] == \"PROTEIN COMPLEX\"].copy()\n",
    "complex_df = complex_df[complex_df[\"Complex_participants\"].notnull()]\n",
    "complex_df[\"Complex_participants\"] = complex_df[\"Complex_participants\"].astype(str).str.split(\",\")\n",
    "complex_df = complex_df.explode(\"Complex_participants\")\n",
    "complex_df[\"Complex_participants\"] = complex_df[\"Complex_participants\"].str.strip()\n"
   ]
  },
  {
   "cell_type": "markdown",
   "id": "1c1d0ec4",
   "metadata": {},
   "source": [
    "Asignar GO a complejos proteicos por herencia. Aqui se hace X_GO[p_i, p_j]"
   ]
  },
  {
   "cell_type": "code",
   "execution_count": 43,
   "id": "8cce0785",
   "metadata": {},
   "outputs": [],
   "source": [
    "# Mapeo: participante → complejo\n",
    "complex_map = complex_df.rename(columns={\"Complex_participants\": \"Protein\", \"Node_id\": \"Complex_id\"})\n",
    "complex_map = complex_map[[\"Protein\", \"Complex_id\"]]\n",
    "\n",
    "# Herencia de GO: participante → complejo\n",
    "go_with_complex = protein_go_matrix.reset_index().merge(complex_map, on=\"Protein\", how=\"inner\")\n",
    "go_by_complex = go_with_complex.drop(columns=[\"Protein\"]).groupby(\"Complex_id\").max()\n"
   ]
  },
  {
   "cell_type": "markdown",
   "id": "8ccec1db",
   "metadata": {},
   "source": [
    "Unir proteinas individuales y complejas en una sola matriz. Aqui se construye P."
   ]
  },
  {
   "cell_type": "code",
   "execution_count": 44,
   "id": "d3826a26",
   "metadata": {},
   "outputs": [],
   "source": [
    "# Extraer proteínas individuales\n",
    "single_proteins = target_c[target_c[\"Target_type\"] == \"SINGLE PROTEIN\"][\"Node_id\"]\n",
    "go_single = protein_go_matrix.loc[protein_go_matrix.index.isin(single_proteins)].copy()\n",
    "go_single.index.name = \"Node_id\"\n",
    "\n",
    "# Renombrar índices para unir\n",
    "go_by_complex.index.name = \"Node_id\"\n",
    "\n",
    "# Unión final\n",
    "X_GO = pd.concat([go_single, go_by_complex], axis=0)\n"
   ]
  },
  {
   "cell_type": "code",
   "execution_count": 45,
   "id": "2d7d1007",
   "metadata": {},
   "outputs": [
    {
     "name": "stdout",
     "output_type": "stream",
     "text": [
      "Total single proteins in X_GO: 3753\n",
      "Total complexes in X_GO: 1408\n"
     ]
    }
   ],
   "source": [
    "# cuantas single_protein hay en X_GO\n",
    "print(f\"Total single proteins in X_GO: {go_single.shape[0]}\")\n",
    "# cuantos complejos hay en X_GO\n",
    "print(f\"Total complexes in X_GO: {go_by_complex.shape[0]}\")"
   ]
  },
  {
   "cell_type": "code",
   "execution_count": 46,
   "id": "87f6b387",
   "metadata": {},
   "outputs": [
    {
     "name": "stdout",
     "output_type": "stream",
     "text": [
      "(5161, 6928)\n"
     ]
    }
   ],
   "source": [
    "# Matriz X.\n",
    "print(X_GO.shape)  # (5161, 6928)"
   ]
  },
  {
   "cell_type": "code",
   "execution_count": 47,
   "id": "3ebf348f",
   "metadata": {},
   "outputs": [
    {
     "name": "stdout",
     "output_type": "stream",
     "text": [
      "\n",
      "Datos guardados correctamente.\n",
      "Archivo guardado en: ..\\data\\processed\\raw_cleaned\\dataset_completo.csv\n"
     ]
    }
   ],
   "source": [
    "# Guardamos \n",
    "output_dir = os.path.join(\"..\",\"data\",\"processed\", \"raw_cleaned\")\n",
    "\n",
    "dataset_completo = X_GO.reset_index()\n",
    "\n",
    "# Guardar como CSV\n",
    "dataset_completo.to_csv(os.path.join(output_dir, 'dataset_completo.csv'), index=False)\n",
    "\n",
    "# Verificación\n",
    "print(\"\\nDatos guardados correctamente.\")\n",
    "print(f\"Archivo guardado en: {os.path.join(output_dir, 'dataset_completo.csv')}\")"
   ]
  },
  {
   "cell_type": "code",
   "execution_count": 48,
   "id": "19201e96",
   "metadata": {},
   "outputs": [
    {
     "name": "stdout",
     "output_type": "stream",
     "text": [
      "\n",
      "Primeras filas del dataset completo:\n",
      "  Node_id  GO:0000002  GO:0000012  GO:0000014  GO:0000018  GO:0000022  \\\n",
      "0   A2ML1           0           0           0           0           0   \n",
      "1    AAK1           0           0           0           0           0   \n",
      "2   AARS1           0           0           0           0           0   \n",
      "3   AARS2           0           0           0           0           0   \n",
      "4    AASS           0           0           0           0           0   \n",
      "\n",
      "   GO:0000027  GO:0000028  GO:0000030  GO:0000038  ...  GO:2001244  \\\n",
      "0           0           0           0           0  ...           0   \n",
      "1           0           0           0           0  ...           0   \n",
      "2           0           0           0           0  ...           0   \n",
      "3           0           0           0           0  ...           0   \n",
      "4           0           0           0           0  ...           0   \n",
      "\n",
      "   GO:2001251  GO:2001252  GO:2001256  GO:2001257  GO:2001258  GO:2001259  \\\n",
      "0           0           0           0           0           0           0   \n",
      "1           0           0           0           0           0           0   \n",
      "2           0           0           0           0           0           0   \n",
      "3           0           0           0           0           0           0   \n",
      "4           0           0           0           0           0           0   \n",
      "\n",
      "   GO:2001267  GO:2001269  GO:2001280  \n",
      "0           0           0           0  \n",
      "1           0           0           0  \n",
      "2           0           0           0  \n",
      "3           0           0           0  \n",
      "4           0           0           0  \n",
      "\n",
      "[5 rows x 6929 columns]\n"
     ]
    }
   ],
   "source": [
    "# Visualización dataset\n",
    "print(\"\\nPrimeras filas del dataset completo:\")\n",
    "print(dataset_completo.head())"
   ]
  },
  {
   "cell_type": "code",
   "execution_count": 49,
   "id": "641996c4",
   "metadata": {},
   "outputs": [
    {
     "name": "stdout",
     "output_type": "stream",
     "text": [
      "Total single proteins in dataset: 3753\n",
      "Total complexes in dataset: 1408\n"
     ]
    }
   ],
   "source": [
    "# Ver cuantos complejos y cuantas single_protein hay\n",
    "print(f\"Total single proteins in dataset: {dataset_completo[dataset_completo['Node_id'].isin(single_proteins)].shape[0]}\")\n",
    "print(f\"Total complexes in dataset: {dataset_completo[dataset_completo['Node_id'].isin(complex_map['Complex_id'])].shape[0]}\")"
   ]
  },
  {
   "cell_type": "markdown",
   "id": "8763ad40",
   "metadata": {},
   "source": [
    "## Construir GO.txt"
   ]
  },
  {
   "cell_type": "code",
   "execution_count": 50,
   "id": "b7b91a45",
   "metadata": {},
   "outputs": [],
   "source": [
    "output_dir = os.path.join(\"..\", \"data\", \"Input\")\n",
    "\n",
    "# Convertir X_GO a formato largo (Protein_ID, GO_term)\n",
    "go_long = X_GO.reset_index().melt(id_vars=\"Node_id\", var_name=\"GO_term\", value_name=\"has_GO\")\n",
    "\n",
    "# Filtrar solo donde la proteína tiene ese término GO\n",
    "go_long = go_long[go_long[\"has_GO\"] == 1][[\"Node_id\", \"GO_term\"]]\n",
    "\n",
    "# Guardar\n",
    "go_long.to_csv(os.path.join(output_dir, \"GO.csv\"), sep='\\t', index=False, header=False)\n"
   ]
  },
  {
   "cell_type": "code",
   "execution_count": 51,
   "id": "253caec3",
   "metadata": {},
   "outputs": [
    {
     "name": "stdout",
     "output_type": "stream",
     "text": [
      "Términos GO distintos en X_GO: 6928\n"
     ]
    }
   ],
   "source": [
    "num_go_terms_XGO = X_GO.shape[1]\n",
    "print(\"Términos GO distintos en X_GO:\", num_go_terms_XGO)\n"
   ]
  },
  {
   "cell_type": "code",
   "execution_count": 52,
   "id": "bddc92a2",
   "metadata": {},
   "outputs": [
    {
     "name": "stdout",
     "output_type": "stream",
     "text": [
      "Términos GO en GO.txt: 6928\n"
     ]
    }
   ],
   "source": [
    "num_go_terms_GOtxt = go_long[\"GO_term\"].nunique()\n",
    "print(\"Términos GO en GO.txt:\", num_go_terms_GOtxt)"
   ]
  },
  {
   "cell_type": "code",
   "execution_count": 53,
   "id": "d04527cd",
   "metadata": {},
   "outputs": [
    {
     "name": "stdout",
     "output_type": "stream",
     "text": [
      "Cantidad de términos GO perdidos: 0\n"
     ]
    }
   ],
   "source": [
    "# Todos los términos GO de X_GO (columnas)\n",
    "go_terms_XGO = set(X_GO.columns)\n",
    "\n",
    "# Todos los términos que aparecen en GO.txt\n",
    "go_terms_GOtxt = set(go_long[\"GO_term\"].unique())\n",
    "\n",
    "# Diferencia: términos que están en X_GO pero no llegaron a GO.txt\n",
    "missing_terms = go_terms_XGO - go_terms_GOtxt\n",
    "\n",
    "print(f\"Cantidad de términos GO perdidos: {len(missing_terms)}\")\n",
    "if missing_terms:\n",
    "    print(\"Ejemplo de términos omitidos:\", list(missing_terms)[:10])\n"
   ]
  },
  {
   "cell_type": "code",
   "execution_count": 54,
   "id": "425294ac",
   "metadata": {},
   "outputs": [
    {
     "name": "stdout",
     "output_type": "stream",
     "text": [
      "Número de proteínas que se repiten (tienen más de 1 GO): 5109\n",
      "\n",
      "Proteínas más anotadas (top 10):\n",
      "Node_id\n",
      "CPX-623     338\n",
      "CPX-5223    301\n",
      "CPX-624     300\n",
      "CPX-6015    279\n",
      "CPX-467     278\n",
      "CPX-978     262\n",
      "CPX-439     258\n",
      "CPX-3323    256\n",
      "CPX-109     255\n",
      "CPX-1080    241\n",
      "Name: count, dtype: int64\n"
     ]
    }
   ],
   "source": [
    "# Contar cuántas veces aparece cada proteína\n",
    "protein_counts = go_long[\"Node_id\"].value_counts()\n",
    "\n",
    "# Filtrar solo las proteínas que aparecen más de una vez\n",
    "repeated_proteins = protein_counts[protein_counts > 1]\n",
    "\n",
    "# Mostrar cuántas se repiten y un ejemplo\n",
    "print(\"Número de proteínas que se repiten (tienen más de 1 GO):\", repeated_proteins.shape[0])\n",
    "print(\"\\nProteínas más anotadas (top 10):\")\n",
    "print(repeated_proteins.head(10))\n"
   ]
  },
  {
   "cell_type": "code",
   "execution_count": 55,
   "id": "521a9341",
   "metadata": {},
   "outputs": [
    {
     "name": "stdout",
     "output_type": "stream",
     "text": [
      "Clasificación de proteínas con más de un GO:\n",
      "Target_type\n",
      "SINGLE PROTEIN     3701\n",
      "PROTEIN COMPLEX    1408\n",
      "Name: count, dtype: int64\n"
     ]
    }
   ],
   "source": [
    "# 1. Obtener proteínas que tienen más de un GO\n",
    "protein_counts = go_long[\"Node_id\"].value_counts()\n",
    "repeated_proteins = protein_counts[protein_counts > 1].index.tolist()\n",
    "\n",
    "# 2. Filtrar target_c por esas proteínas\n",
    "repeated_info = target_c[target_c[\"Node_id\"].isin(repeated_proteins)][[\"Node_id\", \"Target_type\"]]\n",
    "\n",
    "# 3. Contar cuántas son SINGLE y cuántas COMPLEX\n",
    "repeated_summary = repeated_info[\"Target_type\"].value_counts()\n",
    "\n",
    "print(\"Clasificación de proteínas con más de un GO:\")\n",
    "print(repeated_summary)\n"
   ]
  }
 ],
 "metadata": {
  "kernelspec": {
   "display_name": "Python 3",
   "language": "python",
   "name": "python3"
  },
  "language_info": {
   "codemirror_mode": {
    "name": "ipython",
    "version": 3
   },
   "file_extension": ".py",
   "mimetype": "text/x-python",
   "name": "python",
   "nbconvert_exporter": "python",
   "pygments_lexer": "ipython3",
   "version": "3.11.0"
  }
 },
 "nbformat": 4,
 "nbformat_minor": 5
}
